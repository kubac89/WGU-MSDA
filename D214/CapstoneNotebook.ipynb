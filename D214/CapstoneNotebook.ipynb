{
 "cells": [
  {
   "cell_type": "code",
   "execution_count": null,
   "id": "96d34f9c",
   "metadata": {},
   "outputs": [],
   "source": [
    "# removing spaces from column names\n",
    "taxi.columns = taxi.columns.str.replace(' ', '')"
   ]
  },
  {
   "cell_type": "code",
   "execution_count": null,
   "id": "35296612",
   "metadata": {},
   "outputs": [],
   "source": [
    "# convert all columns of DataFrame\n",
    "taxi = taxi.apply(pd.to_numeric) # convert all columns of DataFrame"
   ]
  },
  {
   "cell_type": "code",
   "execution_count": 1,
   "id": "5e492047",
   "metadata": {},
   "outputs": [],
   "source": [
    "def replace_outliers_with_median(err_arr):\n",
    "    a = err_arr\n",
    "    med = np.median(a)\n",
    "    outlierConstant = 1.5\n",
    "    upper_quartile = np.percentile(a, 80)\n",
    "    lower_quartile = np.percentile(a, 20)\n",
    "    IQR = (upper_quartile - lower_quartile) * outlierConstant\n",
    "    quartileSet = (lower_quartile - IQR, upper_quartile + IQR)\n",
    "    # Find the outliers with 80% interval and replace them with median value \n",
    "    output = np.where((a >= quartileSet[0]) & (a <= quartileSet[1]), a, med)\n",
    "\n",
    "    return output"
   ]
  },
  {
   "cell_type": "code",
   "execution_count": null,
   "id": "400ef333",
   "metadata": {},
   "outputs": [],
   "source": [
    "\n",
    "median = float(df['Age'].median())\n",
    "df[\"Age\"] = np.where(df[\"Age\"] > median, median, df['Age'])\n",
    "\n",
    "taxi[\"TripMilesOutlier\"] = (abs(taxi[\"TripMilesZScore\"])>3).astype(int)\n",
    "\n",
    "taxi[\"Trip Miles\"] = np.where(abs(taxi[\"TripMilesZScore\"])>3)replace(3.03)\n",
    "\n",
    "df['Age'] = df['Age'].replace([23, 45], [99, 999])\n",
    "\n",
    "taxi[\"Trip Miles\"] = taxi[\"Trip Miles\"].replace([(abs(taxi[\"TripMilesZScore\"])>3)], [3.03])"
   ]
  },
  {
   "cell_type": "code",
   "execution_count": null,
   "id": "038552f7",
   "metadata": {},
   "outputs": [],
   "source": [
    "taxi[\"Trip Miles\"] = taxi[\"Trip Miles\"].replace([(abs(taxi[\"TripMilesZScore\"])>3)], [3.03])"
   ]
  },
  {
   "cell_type": "code",
   "execution_count": null,
   "id": "d7d9b0d6",
   "metadata": {},
   "outputs": [],
   "source": [
    "# Flooring and Capping Tolls to address outliers\n",
    "Q1 = taxi['Tolls'].quantile(0.10)\n",
    "Q3 = taxi['Tolls'].quantile(0.90)\n",
    "IQR = Q3 - Q1\n",
    "whisker_width = 1.5\n",
    "lower_whisker = Q1 - (whisker_width*IQR)\n",
    "upper_whisker = Q3 + (whisker_width*IQR)\n",
    "index=taxi['Tolls'][(taxi['Tolls']>upper_whisker)|(taxi['Tolls']<lower_whisker)].index\n",
    "taxi.drop(index, inplace = True)"
   ]
  },
  {
   "cell_type": "code",
   "execution_count": null,
   "id": "96867620",
   "metadata": {},
   "outputs": [],
   "source": [
    "# Set dependent variable\n",
    "y = mlr_taxi.Tips\n",
    "# Set independent variables\n",
    "X = mlr_taxi = taxi[[\"Tips\",\n",
    "                   \"Trip Seconds\",\n",
    "                   \"Trip Miles\",\n",
    "                   \"Fare\",\n",
    "                   \"Tolls\",\n",
    "                   \"Extras\",\n",
    "                   \"Trip Total\",\n",
    "                   \"PaymentCreditCard\",\n",
    "                   \"PaymentDispute\",\n",
    "                   \"PaymentMobile\",\n",
    "                   \"PaymentNoCharge\",\n",
    "                   \"PaymenyPrcard\",\n",
    "                   \"PaymentUnknown\"]].assign(const=1)\n",
    "model = model = sm.OLS(y, X)\n",
    "results = model.fit()\n",
    "print(results.summary())"
   ]
  },
  {
   "cell_type": "code",
   "execution_count": null,
   "id": "7a86716e",
   "metadata": {},
   "outputs": [],
   "source": [
    "#Initial Model: adj. r squared: 0.993,  AIC: 2.275e+05  BIC: 2.276e+05\n",
    "#Reduced Model: adj. r squared: 0.609,  AIC: 1.866e+06,  BIC: 1.866e+06\n",
    "\n",
    "#Initial Model has a better fit - higher R-squared, lower AIC and BIC"
   ]
  },
  {
   "cell_type": "code",
   "execution_count": null,
   "id": "f9f466fb",
   "metadata": {},
   "outputs": [],
   "source": [
    "import pandas as pd\n",
    "\n",
    "import numpy as np\n",
    "import seaborn as sns\n",
    "import matplotlib.pyplot as plt\n",
    "import statsmodels.api as sm\n",
    "from scipy.stats import zscore\n",
    "from statsmodels.stats.stattools import durbin_watson\n",
    "from statsmodels.formula.api import ols\n",
    "import statistics\n",
    "from scipy import stats\n",
    "import math\n",
    "import sklearn\n",
    "from sklearn import  preprocessing\n",
    "from sklearn.linear_model import LinearRegression\n",
    "from statsmodels.stats.outliers_influence import variance_inflation_factor\n",
    "from statsmodels.tools.tools import add_constant\n",
    "from sklearn.neighbors import LocalOutlierFactor\n",
    "from sklearn.model_selection import train_test_split\n",
    "from sklearn import metrics\n",
    "from sklearn.metrics import classification_report"
   ]
  },
  {
   "cell_type": "code",
   "execution_count": null,
   "id": "38265f3e",
   "metadata": {},
   "outputs": [],
   "source": [
    "from scipy import stats\n",
    "from scipy.stats import zscore"
   ]
  }
 ],
 "metadata": {
  "kernelspec": {
   "display_name": "Python 3",
   "language": "python",
   "name": "python3"
  },
  "language_info": {
   "codemirror_mode": {
    "name": "ipython",
    "version": 3
   },
   "file_extension": ".py",
   "mimetype": "text/x-python",
   "name": "python",
   "nbconvert_exporter": "python",
   "pygments_lexer": "ipython3",
   "version": "3.8.8"
  }
 },
 "nbformat": 4,
 "nbformat_minor": 5
}
