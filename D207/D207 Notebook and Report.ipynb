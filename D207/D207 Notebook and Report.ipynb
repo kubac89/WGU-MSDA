{
 "cells": [
  {
   "cell_type": "markdown",
   "id": "141f7cd0",
   "metadata": {},
   "source": [
    "# D207 Exploratory Data Analysis "
   ]
  },
  {
   "cell_type": "markdown",
   "id": "6fd755c7",
   "metadata": {},
   "source": [
    "##### Submitted by Kimberly Hubacek Student ID: 001249836"
   ]
  },
  {
   "cell_type": "markdown",
   "id": "d12eaf34",
   "metadata": {},
   "source": [
    "## TELEMONOP INC\t\t\t\t\t\t\t\n",
    "\n",
    "##  CUSTOMER RETENTION STRATEGY MEETING June 11th, 2023\n",
    "## EXECUTIVE REPORT"
   ]
  },
  {
   "cell_type": "markdown",
   "id": "63bc9428",
   "metadata": {},
   "source": [
    "#### TELEMONOP is looking to reduce churn while increasing profits. The purpose of this analysis is to investigate variables that may be associated with higher churn rates."
   ]
  },
  {
   "cell_type": "markdown",
   "id": "38780fce",
   "metadata": {},
   "source": [
    "### A1: Research Question\n",
    "Can a customer’s marital status predict if they are more likely to churn?"
   ]
  },
  {
   "cell_type": "markdown",
   "id": "1b272d9c",
   "metadata": {},
   "source": [
    "### A2. Stakeholder Benefit\n",
    "If this study determines marital status is correlated to churn, TELEMONOP can increase the amount of targeted service renewal promotions to customers of different marital statuses to persuade them to renew service contracts with TLEMONOP instead of churning. This may reduce churn while increasing year end profits. If no correlation is found between marital status and churn, TELEMONOP’s marketing department can stop sending out promotional material based on martial status and use the funds in different advertising campaigns to attract new customers."
   ]
  },
  {
   "cell_type": "markdown",
   "id": "fa4eb11d",
   "metadata": {},
   "source": [
    "### A3. Data Identification\n",
    "The cleaned dataset has fifty columns and 10,000 rows. Each row contains specific information about current TELEMONOP customers. There are a total of 51 independent variables in the dataset with 27 qualitative variables and 24 quantitative variables. There is one dependent variable. This study focuses on the dependent variable, Churn, and the independent variable Marital. The dependent variable Churn represents if a customer discontinued service with TELEMONOP within the past month. Churn is a qualitative categorical data of a nominal type. Whether a customer churned is represented by a \"yes\" or a \"no\" in the data. The independent variable Marital communicates if the customer is married, separated, divorced, widowed, or never married. Like churn, Marital is a qualitative categorical data of a nominal type.\n",
    "\n",
    "A Chi- Square analysis of the data in the Churn and Marital columns was completed using a NumPy array with the contingency table values and the stats package from the SciPy library."
   ]
  },
  {
   "cell_type": "code",
   "execution_count": 2,
   "id": "d4bc8f98",
   "metadata": {
    "scrolled": true
   },
   "outputs": [],
   "source": [
    "# Loading libraries and packages\n",
    "import pandas as pd\n",
    "import numpy as np\n",
    "import seaborn as sns\n",
    "import matplotlib.pyplot as plt\n",
    "from scipy import stats"
   ]
  },
  {
   "cell_type": "code",
   "execution_count": 3,
   "id": "3e4a4a2a",
   "metadata": {},
   "outputs": [],
   "source": [
    "# Loading dataset and renaming it 'churn'\n",
    "churn = pd.read_csv(\"C:/Users/khuba/OneDrive/Documents/WGU - Master's in Data Analytics/D207 - Exploratory Data Analysis/churn_clean.csv\")"
   ]
  },
  {
   "cell_type": "code",
   "execution_count": 4,
   "id": "44e666b3",
   "metadata": {},
   "outputs": [
    {
     "name": "stdout",
     "output_type": "stream",
     "text": [
      "<class 'pandas.core.frame.DataFrame'>\n",
      "RangeIndex: 10000 entries, 0 to 9999\n",
      "Data columns (total 50 columns):\n",
      " #   Column                Non-Null Count  Dtype  \n",
      "---  ------                --------------  -----  \n",
      " 0   CaseOrder             10000 non-null  int64  \n",
      " 1   Customer_id           10000 non-null  object \n",
      " 2   Interaction           10000 non-null  object \n",
      " 3   UID                   10000 non-null  object \n",
      " 4   City                  10000 non-null  object \n",
      " 5   State                 10000 non-null  object \n",
      " 6   County                10000 non-null  object \n",
      " 7   Zip                   10000 non-null  int64  \n",
      " 8   Lat                   10000 non-null  float64\n",
      " 9   Lng                   10000 non-null  float64\n",
      " 10  Population            10000 non-null  int64  \n",
      " 11  Area                  10000 non-null  object \n",
      " 12  TimeZone              10000 non-null  object \n",
      " 13  Job                   10000 non-null  object \n",
      " 14  Children              10000 non-null  int64  \n",
      " 15  Age                   10000 non-null  int64  \n",
      " 16  Income                10000 non-null  float64\n",
      " 17  Marital               10000 non-null  object \n",
      " 18  Gender                10000 non-null  object \n",
      " 19  Churn                 10000 non-null  object \n",
      " 20  Outage_sec_perweek    10000 non-null  float64\n",
      " 21  Email                 10000 non-null  int64  \n",
      " 22  Contacts              10000 non-null  int64  \n",
      " 23  Yearly_equip_failure  10000 non-null  int64  \n",
      " 24  Techie                10000 non-null  object \n",
      " 25  Contract              10000 non-null  object \n",
      " 26  Port_modem            10000 non-null  object \n",
      " 27  Tablet                10000 non-null  object \n",
      " 28  InternetService       10000 non-null  object \n",
      " 29  Phone                 10000 non-null  object \n",
      " 30  Multiple              10000 non-null  object \n",
      " 31  OnlineSecurity        10000 non-null  object \n",
      " 32  OnlineBackup          10000 non-null  object \n",
      " 33  DeviceProtection      10000 non-null  object \n",
      " 34  TechSupport           10000 non-null  object \n",
      " 35  StreamingTV           10000 non-null  object \n",
      " 36  StreamingMovies       10000 non-null  object \n",
      " 37  PaperlessBilling      10000 non-null  object \n",
      " 38  PaymentMethod         10000 non-null  object \n",
      " 39  Tenure                10000 non-null  float64\n",
      " 40  MonthlyCharge         10000 non-null  float64\n",
      " 41  Bandwidth_GB_Year     10000 non-null  float64\n",
      " 42  Item1                 10000 non-null  int64  \n",
      " 43  Item2                 10000 non-null  int64  \n",
      " 44  Item3                 10000 non-null  int64  \n",
      " 45  Item4                 10000 non-null  int64  \n",
      " 46  Item5                 10000 non-null  int64  \n",
      " 47  Item6                 10000 non-null  int64  \n",
      " 48  Item7                 10000 non-null  int64  \n",
      " 49  Item8                 10000 non-null  int64  \n",
      "dtypes: float64(7), int64(16), object(27)\n",
      "memory usage: 3.8+ MB\n"
     ]
    }
   ],
   "source": [
    "# Info about dataset including column names and non-null values values in each column\n",
    "churn.info()"
   ]
  },
  {
   "cell_type": "code",
   "execution_count": 5,
   "id": "71bb6c58",
   "metadata": {},
   "outputs": [
    {
     "data": {
      "text/html": [
       "<div>\n",
       "<style scoped>\n",
       "    .dataframe tbody tr th:only-of-type {\n",
       "        vertical-align: middle;\n",
       "    }\n",
       "\n",
       "    .dataframe tbody tr th {\n",
       "        vertical-align: top;\n",
       "    }\n",
       "\n",
       "    .dataframe thead th {\n",
       "        text-align: right;\n",
       "    }\n",
       "</style>\n",
       "<table border=\"1\" class=\"dataframe\">\n",
       "  <thead>\n",
       "    <tr style=\"text-align: right;\">\n",
       "      <th></th>\n",
       "      <th>CaseOrder</th>\n",
       "      <th>Zip</th>\n",
       "      <th>Lat</th>\n",
       "      <th>Lng</th>\n",
       "      <th>Population</th>\n",
       "      <th>Children</th>\n",
       "      <th>Age</th>\n",
       "      <th>Income</th>\n",
       "      <th>Outage_sec_perweek</th>\n",
       "      <th>Email</th>\n",
       "      <th>...</th>\n",
       "      <th>MonthlyCharge</th>\n",
       "      <th>Bandwidth_GB_Year</th>\n",
       "      <th>Item1</th>\n",
       "      <th>Item2</th>\n",
       "      <th>Item3</th>\n",
       "      <th>Item4</th>\n",
       "      <th>Item5</th>\n",
       "      <th>Item6</th>\n",
       "      <th>Item7</th>\n",
       "      <th>Item8</th>\n",
       "    </tr>\n",
       "  </thead>\n",
       "  <tbody>\n",
       "    <tr>\n",
       "      <th>count</th>\n",
       "      <td>10000.00000</td>\n",
       "      <td>10000.000000</td>\n",
       "      <td>10000.000000</td>\n",
       "      <td>10000.000000</td>\n",
       "      <td>10000.000000</td>\n",
       "      <td>10000.0000</td>\n",
       "      <td>10000.000000</td>\n",
       "      <td>10000.000000</td>\n",
       "      <td>10000.000000</td>\n",
       "      <td>10000.000000</td>\n",
       "      <td>...</td>\n",
       "      <td>10000.000000</td>\n",
       "      <td>10000.000000</td>\n",
       "      <td>10000.000000</td>\n",
       "      <td>10000.000000</td>\n",
       "      <td>10000.000000</td>\n",
       "      <td>10000.000000</td>\n",
       "      <td>10000.000000</td>\n",
       "      <td>10000.000000</td>\n",
       "      <td>10000.000000</td>\n",
       "      <td>10000.000000</td>\n",
       "    </tr>\n",
       "    <tr>\n",
       "      <th>mean</th>\n",
       "      <td>5000.50000</td>\n",
       "      <td>49153.319600</td>\n",
       "      <td>38.757567</td>\n",
       "      <td>-90.782536</td>\n",
       "      <td>9756.562400</td>\n",
       "      <td>2.0877</td>\n",
       "      <td>53.078400</td>\n",
       "      <td>39806.926771</td>\n",
       "      <td>10.001848</td>\n",
       "      <td>12.016000</td>\n",
       "      <td>...</td>\n",
       "      <td>172.624816</td>\n",
       "      <td>3392.341550</td>\n",
       "      <td>3.490800</td>\n",
       "      <td>3.505100</td>\n",
       "      <td>3.487000</td>\n",
       "      <td>3.497500</td>\n",
       "      <td>3.492900</td>\n",
       "      <td>3.497300</td>\n",
       "      <td>3.509500</td>\n",
       "      <td>3.495600</td>\n",
       "    </tr>\n",
       "    <tr>\n",
       "      <th>std</th>\n",
       "      <td>2886.89568</td>\n",
       "      <td>27532.196108</td>\n",
       "      <td>5.437389</td>\n",
       "      <td>15.156142</td>\n",
       "      <td>14432.698671</td>\n",
       "      <td>2.1472</td>\n",
       "      <td>20.698882</td>\n",
       "      <td>28199.916702</td>\n",
       "      <td>2.976019</td>\n",
       "      <td>3.025898</td>\n",
       "      <td>...</td>\n",
       "      <td>42.943094</td>\n",
       "      <td>2185.294852</td>\n",
       "      <td>1.037797</td>\n",
       "      <td>1.034641</td>\n",
       "      <td>1.027977</td>\n",
       "      <td>1.025816</td>\n",
       "      <td>1.024819</td>\n",
       "      <td>1.033586</td>\n",
       "      <td>1.028502</td>\n",
       "      <td>1.028633</td>\n",
       "    </tr>\n",
       "    <tr>\n",
       "      <th>min</th>\n",
       "      <td>1.00000</td>\n",
       "      <td>601.000000</td>\n",
       "      <td>17.966120</td>\n",
       "      <td>-171.688150</td>\n",
       "      <td>0.000000</td>\n",
       "      <td>0.0000</td>\n",
       "      <td>18.000000</td>\n",
       "      <td>348.670000</td>\n",
       "      <td>0.099747</td>\n",
       "      <td>1.000000</td>\n",
       "      <td>...</td>\n",
       "      <td>79.978860</td>\n",
       "      <td>155.506715</td>\n",
       "      <td>1.000000</td>\n",
       "      <td>1.000000</td>\n",
       "      <td>1.000000</td>\n",
       "      <td>1.000000</td>\n",
       "      <td>1.000000</td>\n",
       "      <td>1.000000</td>\n",
       "      <td>1.000000</td>\n",
       "      <td>1.000000</td>\n",
       "    </tr>\n",
       "    <tr>\n",
       "      <th>25%</th>\n",
       "      <td>2500.75000</td>\n",
       "      <td>26292.500000</td>\n",
       "      <td>35.341828</td>\n",
       "      <td>-97.082812</td>\n",
       "      <td>738.000000</td>\n",
       "      <td>0.0000</td>\n",
       "      <td>35.000000</td>\n",
       "      <td>19224.717500</td>\n",
       "      <td>8.018214</td>\n",
       "      <td>10.000000</td>\n",
       "      <td>...</td>\n",
       "      <td>139.979239</td>\n",
       "      <td>1236.470827</td>\n",
       "      <td>3.000000</td>\n",
       "      <td>3.000000</td>\n",
       "      <td>3.000000</td>\n",
       "      <td>3.000000</td>\n",
       "      <td>3.000000</td>\n",
       "      <td>3.000000</td>\n",
       "      <td>3.000000</td>\n",
       "      <td>3.000000</td>\n",
       "    </tr>\n",
       "    <tr>\n",
       "      <th>50%</th>\n",
       "      <td>5000.50000</td>\n",
       "      <td>48869.500000</td>\n",
       "      <td>39.395800</td>\n",
       "      <td>-87.918800</td>\n",
       "      <td>2910.500000</td>\n",
       "      <td>1.0000</td>\n",
       "      <td>53.000000</td>\n",
       "      <td>33170.605000</td>\n",
       "      <td>10.018560</td>\n",
       "      <td>12.000000</td>\n",
       "      <td>...</td>\n",
       "      <td>167.484700</td>\n",
       "      <td>3279.536903</td>\n",
       "      <td>3.000000</td>\n",
       "      <td>4.000000</td>\n",
       "      <td>3.000000</td>\n",
       "      <td>3.000000</td>\n",
       "      <td>3.000000</td>\n",
       "      <td>3.000000</td>\n",
       "      <td>4.000000</td>\n",
       "      <td>3.000000</td>\n",
       "    </tr>\n",
       "    <tr>\n",
       "      <th>75%</th>\n",
       "      <td>7500.25000</td>\n",
       "      <td>71866.500000</td>\n",
       "      <td>42.106908</td>\n",
       "      <td>-80.088745</td>\n",
       "      <td>13168.000000</td>\n",
       "      <td>3.0000</td>\n",
       "      <td>71.000000</td>\n",
       "      <td>53246.170000</td>\n",
       "      <td>11.969485</td>\n",
       "      <td>14.000000</td>\n",
       "      <td>...</td>\n",
       "      <td>200.734725</td>\n",
       "      <td>5586.141370</td>\n",
       "      <td>4.000000</td>\n",
       "      <td>4.000000</td>\n",
       "      <td>4.000000</td>\n",
       "      <td>4.000000</td>\n",
       "      <td>4.000000</td>\n",
       "      <td>4.000000</td>\n",
       "      <td>4.000000</td>\n",
       "      <td>4.000000</td>\n",
       "    </tr>\n",
       "    <tr>\n",
       "      <th>max</th>\n",
       "      <td>10000.00000</td>\n",
       "      <td>99929.000000</td>\n",
       "      <td>70.640660</td>\n",
       "      <td>-65.667850</td>\n",
       "      <td>111850.000000</td>\n",
       "      <td>10.0000</td>\n",
       "      <td>89.000000</td>\n",
       "      <td>258900.700000</td>\n",
       "      <td>21.207230</td>\n",
       "      <td>23.000000</td>\n",
       "      <td>...</td>\n",
       "      <td>290.160419</td>\n",
       "      <td>7158.981530</td>\n",
       "      <td>7.000000</td>\n",
       "      <td>7.000000</td>\n",
       "      <td>8.000000</td>\n",
       "      <td>7.000000</td>\n",
       "      <td>7.000000</td>\n",
       "      <td>8.000000</td>\n",
       "      <td>7.000000</td>\n",
       "      <td>8.000000</td>\n",
       "    </tr>\n",
       "  </tbody>\n",
       "</table>\n",
       "<p>8 rows × 23 columns</p>\n",
       "</div>"
      ],
      "text/plain": [
       "         CaseOrder           Zip           Lat           Lng     Population  \\\n",
       "count  10000.00000  10000.000000  10000.000000  10000.000000   10000.000000   \n",
       "mean    5000.50000  49153.319600     38.757567    -90.782536    9756.562400   \n",
       "std     2886.89568  27532.196108      5.437389     15.156142   14432.698671   \n",
       "min        1.00000    601.000000     17.966120   -171.688150       0.000000   \n",
       "25%     2500.75000  26292.500000     35.341828    -97.082812     738.000000   \n",
       "50%     5000.50000  48869.500000     39.395800    -87.918800    2910.500000   \n",
       "75%     7500.25000  71866.500000     42.106908    -80.088745   13168.000000   \n",
       "max    10000.00000  99929.000000     70.640660    -65.667850  111850.000000   \n",
       "\n",
       "         Children           Age         Income  Outage_sec_perweek  \\\n",
       "count  10000.0000  10000.000000   10000.000000        10000.000000   \n",
       "mean       2.0877     53.078400   39806.926771           10.001848   \n",
       "std        2.1472     20.698882   28199.916702            2.976019   \n",
       "min        0.0000     18.000000     348.670000            0.099747   \n",
       "25%        0.0000     35.000000   19224.717500            8.018214   \n",
       "50%        1.0000     53.000000   33170.605000           10.018560   \n",
       "75%        3.0000     71.000000   53246.170000           11.969485   \n",
       "max       10.0000     89.000000  258900.700000           21.207230   \n",
       "\n",
       "              Email  ...  MonthlyCharge  Bandwidth_GB_Year         Item1  \\\n",
       "count  10000.000000  ...   10000.000000       10000.000000  10000.000000   \n",
       "mean      12.016000  ...     172.624816        3392.341550      3.490800   \n",
       "std        3.025898  ...      42.943094        2185.294852      1.037797   \n",
       "min        1.000000  ...      79.978860         155.506715      1.000000   \n",
       "25%       10.000000  ...     139.979239        1236.470827      3.000000   \n",
       "50%       12.000000  ...     167.484700        3279.536903      3.000000   \n",
       "75%       14.000000  ...     200.734725        5586.141370      4.000000   \n",
       "max       23.000000  ...     290.160419        7158.981530      7.000000   \n",
       "\n",
       "              Item2         Item3         Item4         Item5         Item6  \\\n",
       "count  10000.000000  10000.000000  10000.000000  10000.000000  10000.000000   \n",
       "mean       3.505100      3.487000      3.497500      3.492900      3.497300   \n",
       "std        1.034641      1.027977      1.025816      1.024819      1.033586   \n",
       "min        1.000000      1.000000      1.000000      1.000000      1.000000   \n",
       "25%        3.000000      3.000000      3.000000      3.000000      3.000000   \n",
       "50%        4.000000      3.000000      3.000000      3.000000      3.000000   \n",
       "75%        4.000000      4.000000      4.000000      4.000000      4.000000   \n",
       "max        7.000000      8.000000      7.000000      7.000000      8.000000   \n",
       "\n",
       "              Item7         Item8  \n",
       "count  10000.000000  10000.000000  \n",
       "mean       3.509500      3.495600  \n",
       "std        1.028502      1.028633  \n",
       "min        1.000000      1.000000  \n",
       "25%        3.000000      3.000000  \n",
       "50%        4.000000      3.000000  \n",
       "75%        4.000000      4.000000  \n",
       "max        7.000000      8.000000  \n",
       "\n",
       "[8 rows x 23 columns]"
      ]
     },
     "execution_count": 5,
     "metadata": {},
     "output_type": "execute_result"
    }
   ],
   "source": [
    "# Basic statistics for dataset\n",
    "churn.describe()"
   ]
  },
  {
   "cell_type": "markdown",
   "id": "7d9cddae",
   "metadata": {},
   "source": [
    "### B1 and B2. Code and Output\n",
    "The first step was to count the number of occurrences in each category of the Marital and Churn columns. For the Marital Column, the total number of customers who were divorced, widowed, separated, never married, and married were counted. The total number of customers who ended service with TELEMONOP and the total number of customers who continued service were counted for the Churn data. Pandas value counts function (db.value_counts(‘column_name’)) was used to retrieve and display this information for each column:"
   ]
  },
  {
   "cell_type": "markdown",
   "id": "c8e7bed6",
   "metadata": {},
   "source": [
    "For Churn, the counts indicate around 74% continued service with TELEMONOP while around 26% discontinued service."
   ]
  },
  {
   "cell_type": "code",
   "execution_count": 6,
   "id": "6c2d0907",
   "metadata": {},
   "outputs": [
    {
     "data": {
      "text/plain": [
       "Churn\n",
       "No     7350\n",
       "Yes    2650\n",
       "dtype: int64"
      ]
     },
     "execution_count": 6,
     "metadata": {},
     "output_type": "execute_result"
    }
   ],
   "source": [
    "# Value Counts for depedent variable \"Churn\"\n",
    "churn.value_counts('Churn')"
   ]
  },
  {
   "cell_type": "markdown",
   "id": "2188652c",
   "metadata": {},
   "source": [
    "There are five categories in the Marital column with 10,000 total responses. The category with the least occurrences is Married with 1911. The category with the most occurrences is Divorced with 2092:"
   ]
  },
  {
   "cell_type": "code",
   "execution_count": 7,
   "id": "e435c820",
   "metadata": {},
   "outputs": [
    {
     "data": {
      "text/plain": [
       "Marital\n",
       "Divorced         2092\n",
       "Widowed          2027\n",
       "Separated        2014\n",
       "Never Married    1956\n",
       "Married          1911\n",
       "dtype: int64"
      ]
     },
     "execution_count": 7,
     "metadata": {},
     "output_type": "execute_result"
    }
   ],
   "source": [
    "# Value counts for independent variable \"Marital\"\n",
    "churn.value_counts('Marital')"
   ]
  },
  {
   "cell_type": "markdown",
   "id": "af65eb39",
   "metadata": {},
   "source": [
    "Next, A contingency table of the Marital and Churn data counts was created utilizing the Pandas crosstab command (pd.crosstab(df.column1, df.column2, margins=True)):\n",
    "The contingency table was then renamed “ct” to make further coding more efficient."
   ]
  },
  {
   "cell_type": "code",
   "execution_count": 8,
   "id": "08e7bacc",
   "metadata": {},
   "outputs": [
    {
     "data": {
      "text/html": [
       "<div>\n",
       "<style scoped>\n",
       "    .dataframe tbody tr th:only-of-type {\n",
       "        vertical-align: middle;\n",
       "    }\n",
       "\n",
       "    .dataframe tbody tr th {\n",
       "        vertical-align: top;\n",
       "    }\n",
       "\n",
       "    .dataframe thead th {\n",
       "        text-align: right;\n",
       "    }\n",
       "</style>\n",
       "<table border=\"1\" class=\"dataframe\">\n",
       "  <thead>\n",
       "    <tr style=\"text-align: right;\">\n",
       "      <th>Churn</th>\n",
       "      <th>No</th>\n",
       "      <th>Yes</th>\n",
       "      <th>All</th>\n",
       "    </tr>\n",
       "    <tr>\n",
       "      <th>Marital</th>\n",
       "      <th></th>\n",
       "      <th></th>\n",
       "      <th></th>\n",
       "    </tr>\n",
       "  </thead>\n",
       "  <tbody>\n",
       "    <tr>\n",
       "      <th>Divorced</th>\n",
       "      <td>1539</td>\n",
       "      <td>553</td>\n",
       "      <td>2092</td>\n",
       "    </tr>\n",
       "    <tr>\n",
       "      <th>Married</th>\n",
       "      <td>1418</td>\n",
       "      <td>493</td>\n",
       "      <td>1911</td>\n",
       "    </tr>\n",
       "    <tr>\n",
       "      <th>Never Married</th>\n",
       "      <td>1468</td>\n",
       "      <td>488</td>\n",
       "      <td>1956</td>\n",
       "    </tr>\n",
       "    <tr>\n",
       "      <th>Separated</th>\n",
       "      <td>1454</td>\n",
       "      <td>560</td>\n",
       "      <td>2014</td>\n",
       "    </tr>\n",
       "    <tr>\n",
       "      <th>Widowed</th>\n",
       "      <td>1471</td>\n",
       "      <td>556</td>\n",
       "      <td>2027</td>\n",
       "    </tr>\n",
       "    <tr>\n",
       "      <th>All</th>\n",
       "      <td>7350</td>\n",
       "      <td>2650</td>\n",
       "      <td>10000</td>\n",
       "    </tr>\n",
       "  </tbody>\n",
       "</table>\n",
       "</div>"
      ],
      "text/plain": [
       "Churn            No   Yes    All\n",
       "Marital                         \n",
       "Divorced       1539   553   2092\n",
       "Married        1418   493   1911\n",
       "Never Married  1468   488   1956\n",
       "Separated      1454   560   2014\n",
       "Widowed        1471   556   2027\n",
       "All            7350  2650  10000"
      ]
     },
     "execution_count": 8,
     "metadata": {},
     "output_type": "execute_result"
    }
   ],
   "source": [
    "# Creating a Contigency Table for Chi-square test\n",
    "pd.crosstab(churn.Marital, churn.Churn, margins=True)"
   ]
  },
  {
   "cell_type": "code",
   "execution_count": 9,
   "id": "07f7cc0c",
   "metadata": {},
   "outputs": [],
   "source": [
    "# Renaming the Contigency Table \"ct\" as a shortcut\n",
    "ct= pd.crosstab(churn.Marital, churn.Churn, margins=True)"
   ]
  },
  {
   "cell_type": "markdown",
   "id": "2607e6da",
   "metadata": {},
   "source": [
    "The information in the contingency table was used to run a Chi-Square test of independence using SciPy’s stats package in the SciPy library. The stats package enabled researchers to calculate the X-squared statistic, P-value, and degree of freedom in one block of code instead of calculating each individually: "
   ]
  },
  {
   "cell_type": "code",
   "execution_count": 10,
   "id": "84f39ea0",
   "metadata": {},
   "outputs": [
    {
     "data": {
      "text/plain": [
       "(0.2093005935198423, 0.9006394240467578, 2)"
      ]
     },
     "execution_count": 10,
     "metadata": {},
     "output_type": "execute_result"
    }
   ],
   "source": [
    "# Running Chi-Square statistics which will return X2 statistic, P-Value, and Degree of Freedom\n",
    "obs = np.array([ct.iloc[0][0:4].values,\n",
    "                  ct.iloc[1][0:4].values])\n",
    "stats.chi2_contingency(obs)[0:3]"
   ]
  },
  {
   "cell_type": "code",
   "execution_count": 11,
   "id": "0c9b169a",
   "metadata": {
    "scrolled": true
   },
   "outputs": [
    {
     "data": {
      "text/html": [
       "<div>\n",
       "<style scoped>\n",
       "    .dataframe tbody tr th:only-of-type {\n",
       "        vertical-align: middle;\n",
       "    }\n",
       "\n",
       "    .dataframe tbody tr th {\n",
       "        vertical-align: top;\n",
       "    }\n",
       "\n",
       "    .dataframe thead th {\n",
       "        text-align: right;\n",
       "    }\n",
       "</style>\n",
       "<table border=\"1\" class=\"dataframe\">\n",
       "  <thead>\n",
       "    <tr style=\"text-align: right;\">\n",
       "      <th></th>\n",
       "      <th>Marital</th>\n",
       "      <th>Churn</th>\n",
       "    </tr>\n",
       "  </thead>\n",
       "  <tbody>\n",
       "    <tr>\n",
       "      <th>count</th>\n",
       "      <td>10000</td>\n",
       "      <td>10000</td>\n",
       "    </tr>\n",
       "    <tr>\n",
       "      <th>unique</th>\n",
       "      <td>5</td>\n",
       "      <td>2</td>\n",
       "    </tr>\n",
       "    <tr>\n",
       "      <th>top</th>\n",
       "      <td>Divorced</td>\n",
       "      <td>No</td>\n",
       "    </tr>\n",
       "    <tr>\n",
       "      <th>freq</th>\n",
       "      <td>2092</td>\n",
       "      <td>7350</td>\n",
       "    </tr>\n",
       "  </tbody>\n",
       "</table>\n",
       "</div>"
      ],
      "text/plain": [
       "         Marital  Churn\n",
       "count      10000  10000\n",
       "unique         5      2\n",
       "top     Divorced     No\n",
       "freq        2092   7350"
      ]
     },
     "execution_count": 11,
     "metadata": {},
     "output_type": "execute_result"
    },
    {
     "data": {
      "image/png": "[encoded data removed]",
      "text/plain": [
       "<Figure size 432x288 with 1 Axes>"
      ]
     },
     "metadata": {
      "needs_background": "light"
     },
     "output_type": "display_data"
    }
   ],
   "source": [
    "# x2 statistics 0.2093005935198423\n",
    "# P-value is above 0.05, indicating correlation.\n",
    "# Degree of Freedom is 2\n",
    "\n",
    "#Visualization with Pivot Table\n",
    "tbl =pd.pivot_table(churn.groupby(['Marital','Churn']).size().reset_index(),\n",
    "values=0,\n",
    "index='Marital',\n",
    "columns=['Churn'],\n",
    "aggfunc=np.sum)\n",
    "tbl.plot(kind='bar', stacked=True)\n",
    "#Descritpion\n",
    "churn[['Marital', 'Churn']].describe()"
   ]
  },
  {
   "cell_type": "markdown",
   "id": "db797bb8",
   "metadata": {},
   "source": [
    "### B3. Justification of Technique\n",
    "The Chi-Square test was chosen for this analysis since both the dependent variable and independent variable are categorical. Chi-Square is also the most efficient method since it requires no normality tests. If further analysis with categorical variables is required, researchers will be able to easily add the variables to the work done in this study to compare three or more variables using Chi-Square (University of Utah, 2018).\n",
    "\n",
    "A Test of Independence was chosen over a Goodness of Fit test because the study seeks to discover if the dependent and independent variables are correlated. A goodness of fit test checks if the independent and dependent variables follow a certain distribution and does not suit TELEMONOP’s business needs (Zack, 2021).\n",
    "\n",
    "This analysis sought to either accept or reject the null hypothesis that there is no correlation between the Marital and Churn data. To do this, they have set the significance level, or alpha, to a value of 0.04. While 0.05 is the standard for statistics, lowering it to 0.04 lowered the risk of incorrectly rejecting the null hypothesis. An alpha value of 0.04 means there was a 4% probability of incorrectly assigning correlation if none was present. If the Chi-Square analysis returned P-Values less than 0.05 the null hypothesis would be rejected. If the P-Values were greater than or equal to 0.05, the null hypothesis would be accepted, and it would prove there was no correlation between the Marital and Churn data (Zhang, 2020)."
   ]
  },
  {
   "cell_type": "markdown",
   "id": "1edef5c4",
   "metadata": {},
   "source": [
    "### C1. Univariate Graphics – Categorical\n",
    "To further explore the data, visuals and a description of data distribution were created for other variables in the dataset.\n",
    "A bar graph and pie chart of the Area Column was created to visualize what portion of TELEMONOP’s customers lived in urban, suburban, or rural areas.\n",
    "\n",
    "The Area column contained 10,000 individual entries within three distinct categories (rural, Suburban, and Urban). While the highest frequency of 3346 occurred in the Suburban tab, the distribution was uniform across all three categories. "
   ]
  },
  {
   "cell_type": "code",
   "execution_count": 12,
   "id": "a447d5cf",
   "metadata": {
    "scrolled": true
   },
   "outputs": [
    {
     "data": {
      "image/png": "[encoded data removed]",
      "text/plain": [
       "<Figure size 432x288 with 1 Axes>"
      ]
     },
     "metadata": {
      "needs_background": "light"
     },
     "output_type": "display_data"
    },
    {
     "data": {
      "text/plain": [
       "count        10000\n",
       "unique           3\n",
       "top       Suburban\n",
       "freq          3346\n",
       "Name: Area, dtype: object"
      ]
     },
     "execution_count": 12,
     "metadata": {},
     "output_type": "execute_result"
    }
   ],
   "source": [
    "##Univariate Graphics - Categorical\n",
    "#Bar chart of Area\n",
    "churn.groupby('Area').size().plot.bar(rot=0)\n",
    "plt.show()\n",
    "#description\n",
    "churn['Area'].describe()"
   ]
  },
  {
   "cell_type": "code",
   "execution_count": 13,
   "id": "7f471765",
   "metadata": {
    "scrolled": true
   },
   "outputs": [
    {
     "data": {
      "image/png": "[encoded data removed]",
      "text/plain": [
       "<Figure size 432x288 with 1 Axes>"
      ]
     },
     "metadata": {},
     "output_type": "display_data"
    }
   ],
   "source": [
    "#Pie Chart\n",
    "\n",
    "churn.groupby('Area').size().plot.pie(rot=0)\n",
    "plt.show()"
   ]
  },
  {
   "cell_type": "markdown",
   "id": "7f6bb54d",
   "metadata": {},
   "source": [
    "Next, a bar graph was created for the Techie column to visualize what percentage of TELEMONOP’s customers view themselves as technically inclined as opposed not technically inclined:"
   ]
  },
  {
   "cell_type": "code",
   "execution_count": 14,
   "id": "c4e362b8",
   "metadata": {
    "scrolled": true
   },
   "outputs": [
    {
     "data": {
      "image/png": "[encoded data removed]",
      "text/plain": [
       "<Figure size 432x288 with 1 Axes>"
      ]
     },
     "metadata": {
      "needs_background": "light"
     },
     "output_type": "display_data"
    },
    {
     "data": {
      "text/plain": [
       "count     10000\n",
       "unique        2\n",
       "top          No\n",
       "freq       8321\n",
       "Name: Techie, dtype: object"
      ]
     },
     "execution_count": 14,
     "metadata": {},
     "output_type": "execute_result"
    }
   ],
   "source": [
    "#Bar chart of Techie\n",
    "churn.groupby('Techie').size().plot.bar(rot=0)\n",
    "plt.show()\n",
    "#Description\n",
    "churn['Techie'].describe()"
   ]
  },
  {
   "cell_type": "markdown",
   "id": "8ccd0489",
   "metadata": {},
   "source": [
    "The Techie column contained 10,000 entries and two categories (Yes and No). The top response was “No” at a frequency of 8321. 83% of TELEMONOP’s customers do not view themselves as technically inclined while 17% view themselves as technically inclined."
   ]
  },
  {
   "cell_type": "markdown",
   "id": "2e525651",
   "metadata": {},
   "source": [
    "### C1. Univariate Graphics – Continuous\n",
    "A histogram of the Yearly Equipment Failure Colum was created to see how often TELEMONOP customers reported failed equipment within one calendar year:"
   ]
  },
  {
   "cell_type": "code",
   "execution_count": 15,
   "id": "4d76330f",
   "metadata": {},
   "outputs": [
    {
     "data": {
      "text/plain": [
       "count    10000.000000\n",
       "mean         0.398000\n",
       "std          0.635953\n",
       "min          0.000000\n",
       "25%          0.000000\n",
       "50%          0.000000\n",
       "75%          1.000000\n",
       "max          6.000000\n",
       "Name: Yearly_equip_failure, dtype: float64"
      ]
     },
     "execution_count": 15,
     "metadata": {},
     "output_type": "execute_result"
    },
    {
     "data": {
      "image/png": "[encoded data removed]",
      "text/plain": [
       "<Figure size 432x288 with 1 Axes>"
      ]
     },
     "metadata": {
      "needs_background": "light"
     },
     "output_type": "display_data"
    }
   ],
   "source": [
    "#Histogram of Yearly_equip_failure\n",
    "churn.hist('Yearly_equip_failure')\n",
    "#statistics\n",
    "churn['Yearly_equip_failure'].describe()"
   ]
  },
  {
   "cell_type": "markdown",
   "id": "6f1b685d",
   "metadata": {},
   "source": [
    "There were 10,000 total entries with the zero being the smallest number of equipment failures reported per customer and six being the highest amount of equipment failures reported per customer. The data had a mean of 0.39 and a standard deviation of 0.64. The distribution of data skewed right, and the most frequent occurrence of equipment failure was zero. "
   ]
  },
  {
   "cell_type": "markdown",
   "id": "3f612ea1",
   "metadata": {},
   "source": [
    "Next, a histogram of the Contacts column was created to visualize how the number of times customers contacted TELEMONOP’s customer service teams to report service issues. "
   ]
  },
  {
   "cell_type": "code",
   "execution_count": 16,
   "id": "106832d5",
   "metadata": {
    "scrolled": true
   },
   "outputs": [
    {
     "data": {
      "text/plain": [
       "count    10000.000000\n",
       "mean         0.994200\n",
       "std          0.988466\n",
       "min          0.000000\n",
       "25%          0.000000\n",
       "50%          1.000000\n",
       "75%          2.000000\n",
       "max          7.000000\n",
       "Name: Contacts, dtype: float64"
      ]
     },
     "execution_count": 16,
     "metadata": {},
     "output_type": "execute_result"
    },
    {
     "data": {
      "image/png": "[encoded data removed]",
      "text/plain": [
       "<Figure size 432x288 with 1 Axes>"
      ]
     },
     "metadata": {
      "needs_background": "light"
     },
     "output_type": "display_data"
    }
   ],
   "source": [
    "#Histogram of Contacts\n",
    "churn.hist('Contacts')\n",
    "#statistics\n",
    "churn['Contacts'].describe()"
   ]
  },
  {
   "cell_type": "markdown",
   "id": "36a43b30",
   "metadata": {},
   "source": [
    "There were 10,000 total entries with zero being the least number of contacts reported to TELEMONOP’s customer service team, and seven being the maximum number of contacts reported. The mean was one and the standard deviation was 0.98. While the average number of contacts to the customer service department was one, zero calls to customer service was the most frequent occurrence. The data skewed to the right. "
   ]
  },
  {
   "cell_type": "markdown",
   "id": "2c275a28",
   "metadata": {},
   "source": [
    "### D1. Bivariate Graphics: Categorical"
   ]
  },
  {
   "cell_type": "markdown",
   "id": "39176612",
   "metadata": {},
   "source": [
    "A Pivot table was created to visualize the relationship between Churn and Gender. \n",
    "\n",
    "Gender was assigned to the X-Axis as the explanatory variable while Churn was assigned to the Y-Axis as the response variable. Both Gender and Churn had a total of 10,000 responses. There were three categories of Gender on the X-axis: Female, Male, and Nonbinary. The data skewed to the right with the highest frequency of occurrence being Female with 5025 out of a total of 10,000 responses. \n",
    "\n",
    "The Churn column had two categories, “Yes” and “No.” “No” had the highest occurrence with 7350 responses. Based on the graph, customers who identify as Nonbinary were the least likely to churn. "
   ]
  },
  {
   "cell_type": "code",
   "execution_count": 17,
   "id": "2d0645b9",
   "metadata": {},
   "outputs": [
    {
     "data": {
      "text/html": [
       "<div>\n",
       "<style scoped>\n",
       "    .dataframe tbody tr th:only-of-type {\n",
       "        vertical-align: middle;\n",
       "    }\n",
       "\n",
       "    .dataframe tbody tr th {\n",
       "        vertical-align: top;\n",
       "    }\n",
       "\n",
       "    .dataframe thead th {\n",
       "        text-align: right;\n",
       "    }\n",
       "</style>\n",
       "<table border=\"1\" class=\"dataframe\">\n",
       "  <thead>\n",
       "    <tr style=\"text-align: right;\">\n",
       "      <th></th>\n",
       "      <th>Gender</th>\n",
       "      <th>Churn</th>\n",
       "    </tr>\n",
       "  </thead>\n",
       "  <tbody>\n",
       "    <tr>\n",
       "      <th>count</th>\n",
       "      <td>10000</td>\n",
       "      <td>10000</td>\n",
       "    </tr>\n",
       "    <tr>\n",
       "      <th>unique</th>\n",
       "      <td>3</td>\n",
       "      <td>2</td>\n",
       "    </tr>\n",
       "    <tr>\n",
       "      <th>top</th>\n",
       "      <td>Female</td>\n",
       "      <td>No</td>\n",
       "    </tr>\n",
       "    <tr>\n",
       "      <th>freq</th>\n",
       "      <td>5025</td>\n",
       "      <td>7350</td>\n",
       "    </tr>\n",
       "  </tbody>\n",
       "</table>\n",
       "</div>"
      ],
      "text/plain": [
       "        Gender  Churn\n",
       "count    10000  10000\n",
       "unique       3      2\n",
       "top     Female     No\n",
       "freq      5025   7350"
      ]
     },
     "execution_count": 17,
     "metadata": {},
     "output_type": "execute_result"
    },
    {
     "data": {
      "image/png": "[encoded data removed]",
      "text/plain": [
       "<Figure size 432x288 with 1 Axes>"
      ]
     },
     "metadata": {
      "needs_background": "light"
     },
     "output_type": "display_data"
    }
   ],
   "source": [
    "# Pivot table of Churn and Gender\n",
    "tbl =pd.pivot_table(churn.groupby(['Gender','Churn']).size().reset_index(),\n",
    "values=0,\n",
    "index='Gender',\n",
    "columns=['Churn'],\n",
    "aggfunc=np.sum)\n",
    "tbl.plot(kind='bar', stacked=True)\n",
    "#Descritpion\n",
    "churn[['Gender', 'Churn']].describe()"
   ]
  },
  {
   "cell_type": "markdown",
   "id": "b262fb42",
   "metadata": {},
   "source": [
    "### D1. Bivariate Graphics: Continuous"
   ]
  },
  {
   "cell_type": "markdown",
   "id": "96f52b78",
   "metadata": {},
   "source": [
    "A scatterplot was created to visualize the relationship between the Age and Contacts columns.\n",
    "\n",
    "Age was assigned to the X-Axis as the explanatory variable while Contacts was assigned to the Y-Axis as the response variable. Both Age and Contacts had a total of 10,000 responses. Ages ranged from 18 to 89 with an average age of 53 years old. The number of contacts made to TELEMONOP’s customer service team ranged from zero to seven with the average number of contacts being one. There was a bimodal distribution with contacts to the customer service team peaking at 7 contacts around the ages of 45 and 70. "
   ]
  },
  {
   "cell_type": "code",
   "execution_count": 18,
   "id": "37abeac3",
   "metadata": {},
   "outputs": [
    {
     "data": {
      "text/html": [
       "<div>\n",
       "<style scoped>\n",
       "    .dataframe tbody tr th:only-of-type {\n",
       "        vertical-align: middle;\n",
       "    }\n",
       "\n",
       "    .dataframe tbody tr th {\n",
       "        vertical-align: top;\n",
       "    }\n",
       "\n",
       "    .dataframe thead th {\n",
       "        text-align: right;\n",
       "    }\n",
       "</style>\n",
       "<table border=\"1\" class=\"dataframe\">\n",
       "  <thead>\n",
       "    <tr style=\"text-align: right;\">\n",
       "      <th></th>\n",
       "      <th>Age</th>\n",
       "      <th>Contacts</th>\n",
       "    </tr>\n",
       "  </thead>\n",
       "  <tbody>\n",
       "    <tr>\n",
       "      <th>count</th>\n",
       "      <td>10000.000000</td>\n",
       "      <td>10000.000000</td>\n",
       "    </tr>\n",
       "    <tr>\n",
       "      <th>mean</th>\n",
       "      <td>53.078400</td>\n",
       "      <td>0.994200</td>\n",
       "    </tr>\n",
       "    <tr>\n",
       "      <th>std</th>\n",
       "      <td>20.698882</td>\n",
       "      <td>0.988466</td>\n",
       "    </tr>\n",
       "    <tr>\n",
       "      <th>min</th>\n",
       "      <td>18.000000</td>\n",
       "      <td>0.000000</td>\n",
       "    </tr>\n",
       "    <tr>\n",
       "      <th>25%</th>\n",
       "      <td>35.000000</td>\n",
       "      <td>0.000000</td>\n",
       "    </tr>\n",
       "    <tr>\n",
       "      <th>50%</th>\n",
       "      <td>53.000000</td>\n",
       "      <td>1.000000</td>\n",
       "    </tr>\n",
       "    <tr>\n",
       "      <th>75%</th>\n",
       "      <td>71.000000</td>\n",
       "      <td>2.000000</td>\n",
       "    </tr>\n",
       "    <tr>\n",
       "      <th>max</th>\n",
       "      <td>89.000000</td>\n",
       "      <td>7.000000</td>\n",
       "    </tr>\n",
       "  </tbody>\n",
       "</table>\n",
       "</div>"
      ],
      "text/plain": [
       "                Age      Contacts\n",
       "count  10000.000000  10000.000000\n",
       "mean      53.078400      0.994200\n",
       "std       20.698882      0.988466\n",
       "min       18.000000      0.000000\n",
       "25%       35.000000      0.000000\n",
       "50%       53.000000      1.000000\n",
       "75%       71.000000      2.000000\n",
       "max       89.000000      7.000000"
      ]
     },
     "execution_count": 18,
     "metadata": {},
     "output_type": "execute_result"
    },
    {
     "data": {
      "image/png": "[encoded data removed]",
      "text/plain": [
       "<Figure size 432x288 with 1 Axes>"
      ]
     },
     "metadata": {
      "needs_background": "light"
     },
     "output_type": "display_data"
    }
   ],
   "source": [
    "##Bivariate Visual for Continuous Value\n",
    "#Scatterplot of Age and Contacts\n",
    "sns.scatterplot(data=churn, x='Age', y='Contacts')\n",
    "#Statistics\n",
    "churn[['Age', 'Contacts']].describe()"
   ]
  },
  {
   "cell_type": "markdown",
   "id": "dfd9f2ef",
   "metadata": {},
   "source": [
    "### E1. Results of Analysis"
   ]
  },
  {
   "cell_type": "markdown",
   "id": "0b558271",
   "metadata": {},
   "source": [
    "The Chi-Square analysis returned an X -square statistic of 0.02 and P-Values of 0.09. There were 2 Degrees of Freedom within the Churn and Marital data. With the alpha value set at 0.04, any P-Value above 0.04 would have accepted the null hypothesis. The P-Value of 0.9 accepted our null hypothesis that there is no correlation between marital status and churn. "
   ]
  },
  {
   "cell_type": "markdown",
   "id": "0ff2fdf3",
   "metadata": {},
   "source": [
    "### E2. Limitations of Analysis\n",
    "While Chi-Square is a wonderful way to assess correlation between two or more categorical variables, it does have weaknesses. One of them is sample size sensitivity. A sample that is too large could cause Chi-Square to incorrectly assign statistical significance when none is present. Chi-Square also does not determine the causality if a relationship between variables is present. Also, Chi-Square is not ideal for comparing continuous variables or a continuous variable and a categorical variable. \n",
    "While the Chi-Square test established there is no correlation between the Marital and Churn data, more thorough testing is required if TELEMONOP wishes to discover if other variables are correlated with Churn (University of Utah, 2018)."
   ]
  },
  {
   "cell_type": "markdown",
   "id": "81fddaf1",
   "metadata": {},
   "source": [
    "### E3. Recommended Course of Action\n",
    "Based on findings in this report, there is no connection between a customer’s marital status and the likelihood they will churn.\n",
    "TELEMONOP’s marketing department is advised to stop sending targeted marketing materials with promotions based on a customer’s marital status and use the money in advertising campaigns to attract new customers.\n",
    "\n",
    "Additionally, TELEMONOP is encouraged to perform more analyses to determine if any other data categories are correlated with churn."
   ]
  },
  {
   "cell_type": "markdown",
   "id": "0995b0fc",
   "metadata": {},
   "source": [
    "### G. Third-Party Code Sources\n",
    "\n",
    "Zhang, D. (2020, August 8). Chi-squared test on attrition. Kaggle. Retrieved September 11, 2022, from https://www.kaggle.com/code/dehaozhang/chi-squared-test-on-attrition/notebook \n",
    "\n",
    "Seaborn. (n.d.). Visualizing distributions of data#. Visualizing distributions of data - seaborn 0.12.0 documentation. Retrieved September 11, 2022, from https://seaborn.pydata.org/tutorial/distributions.html "
   ]
  },
  {
   "cell_type": "markdown",
   "id": "975d3237",
   "metadata": {},
   "source": [
    "### H. Academic Sources\n",
    "\n",
    "University of Utah. (2018). The chi-square test for Independence. Chi-Square - Sociology 3112 - Department of Sociology - The University of Utah. Retrieved September 12, 2022, from https://soc.utah.edu/sociology3112/chi-square.php \n",
    "\n",
    "Zach, H. (2021, August 25). Chi-Square Test vs. ANOVA: What's the difference? Statology. Retrieved September 12, 2022, from https://www.statology.org/chi-square-vs-anova/ \n",
    "\n",
    "Zhang, D. (2020, August 13). Chi-square test for independence in python with examples from the IBM HR Analytics Dataset. Medium. Retrieved September 12, 2022, from https://towardsdatascience.com/chi-square-test-for-independence-in-python-with-examples-from-the-ibm-hr-analytics-dataset-97b9ec9bb80a \n"
   ]
  }
 ],
 "metadata": {
  "kernelspec": {
   "display_name": "Python 3",
   "language": "python",
   "name": "python3"
  },
  "language_info": {
   "codemirror_mode": {
    "name": "ipython",
    "version": 3
   },
   "file_extension": ".py",
   "mimetype": "text/x-python",
   "name": "python",
   "nbconvert_exporter": "python",
   "pygments_lexer": "ipython3",
   "version": "3.8.8"
  }
 },
 "nbformat": 4,
 "nbformat_minor": 5
}
