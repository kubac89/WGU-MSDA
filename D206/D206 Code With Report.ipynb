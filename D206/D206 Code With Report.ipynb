{
 "cells": [
  {
   "cell_type": "markdown",
   "id": "37892b7f",
   "metadata": {},
   "source": [
    "# D206 Data Cleaning "
   ]
  },
  {
   "cell_type": "markdown",
   "id": "cb8e686b",
   "metadata": {},
   "source": [
    "##### Submitted by Kimberly Hubacek Student ID: 001249836"
   ]
  },
  {
   "cell_type": "markdown",
   "id": "50fcd250",
   "metadata": {},
   "source": [
    "## TELEMONOP INC\t\t\t\t\t\t\t\n",
    "\n",
    "##  CUSTOMER RETENTION STRATEGY MEETING January 29, 2023\n",
    "## EXECUTIVE REPORT"
   ]
  },
  {
   "cell_type": "markdown",
   "id": "424202b7",
   "metadata": {},
   "source": [
    "#### TELEMONOP had its highest average monthly churn rate of 26.5% in the 2021. Reducing the average monthly churn to under 23% is the company’s primary goal for 2022. This report starts the process of reducing churn by proposing hypothetical cause of higher-than-average churn rates, presenting a data cleaning plan with a cleaned data set for the 2021 customer churn data, and identifying the principal components in the data set that can be utilized by TELEMONOP for further research."
   ]
  },
  {
   "cell_type": "markdown",
   "id": "bd1df619",
   "metadata": {},
   "source": [
    "### Part 1: Research Question"
   ]
  },
  {
   "cell_type": "markdown",
   "id": "b08ff662",
   "metadata": {},
   "source": [
    "#### A: Research Question\n",
    "\n",
    "Are customers who are paying extra for service add-ons such as tech support, device protection, online backup, or online security more likely to churn?"
   ]
  },
  {
   "cell_type": "markdown",
   "id": "b8d85b6c",
   "metadata": {},
   "source": [
    "#### B: Description of Variables\n",
    "\n",
    "The raw, uncleaned dataset includes 52 columns and 10,000 rows. Each row contains observations about an individual customer with TELEMONOP. The dependant variable we are measuring is churn, or having a customer discontinue service with TELEMONOP. The independent variables consist of 24 columns of quantitative data and 28 columns of qualitative data. The variable names of the survey responses are very similar and will need to be changed to avoid confusion. Attached is a data dictionary with descriptions of each variable and the proposed name changes for the survey response variables:\n",
    "\n",
    "CaseOrder -\tQuantitative -\tNumber assigned to customer case\n",
    "\n",
    "Customer_id\t- Qualitative  -\tUnique ID that identifies customer\n",
    "\n",
    "Interaction -\tQualitative  -\tUnique ID for interactions customers had with TELEMONOP\n",
    "\n",
    "City\t-  Qualitative\t -  City of customer's billing address\n",
    "\n",
    "State\t-  Qualitative\t  -  State of customer's billing address\n",
    "\n",
    "County\t -  Qualitative\t  -  County of customers billing address\n",
    "\n",
    "Zip   - \tQuantitative\t-  Zip code of customer's billing address\n",
    "\n",
    "Lat  -\tQuantitative  - \tLatitude GPS coordinate of customer's billing address\n",
    "\n",
    "Lng  -  Quantitative\t -  Longitude GPS coordinate of customer's billing address\n",
    "\n",
    "Population   -\tQuantitative\t- Total number of people living within a mile of the customer's address\n",
    "\n",
    "Area \t-   Qualitative\t  -  Specifies if customer lives in urban, suburban, or rural area\n",
    "\n",
    "Timezone    - \tQualitative\t   -  Specifies the time zone of customer's address\n",
    "\n",
    "Job \t-   Qualitative\t   -  Lists customer's job, if employed\n",
    "\n",
    "Children\t-    Quantitative\t   -   Total number of children living at customer's residence\n",
    "\n",
    "Age    -\tQuantitative\t-   Customer's age\n",
    "\n",
    "Education\t-   Qualitative    -  \tHighest educational degree obtained by customer\n",
    "\n",
    "Employment\t-   Qualitative   -  \tCustomer's employment status\n",
    "\n",
    "Income\t   -   Quantitative    -  \tCustomer's annual income\n",
    "\n",
    "Marital \t-   Qualitative\t   -   Marital status of customer\n",
    "\n",
    "Gender\t   -   Qualitative\t  -   Specifies if customer identifies as male, female, or nonbinary\n",
    "\n",
    "Churn\t-   Qualitative    -  \tDid Customer discontinue service within the last month? (yes/no)\n",
    "\n",
    "Outage_sec_perweek\t    -   Quantitative\t -    Average number of seconds per week of service outages in customer's city\n",
    "\n",
    "Email\t   -   Quantitative\t    -   Total number of emails sent to the customer in 2021\n",
    "\n",
    "Contacts\t-    Quantitative\t   -    Total number of times customer contacted technical support\n",
    "\n",
    "Yearly_equip_failure \t-    Quantitative\t  -   Total number of times customer experienced equipment failure in 2021\n",
    "\n",
    "Techie\t -   Qualitative\t-     Specifies whether the customer considers themselves good with technology (yes/no)\n",
    "\n",
    "Contract\t-    Qualitative\t -  Specifies if the customer has a month-to-month, one year, or two-year contract with TELEMONOP\n",
    "\n",
    "Port_modem\t  -    Qualitative\t  -   Specifies if the customer has a portable modem with TELEMONOP\n",
    "\n",
    "Tablet\t -    Qualitative\t -   Specifies if the customer owns a tablet such as an Android tablet, iPad, or Windows Tablet\n",
    "\n",
    "InternetService   -  \tQualitative\t   -  Specifies if the customer’s has DSL, fiber optic, or no internet service\n",
    "\n",
    "Phone\t-   Qualitative\t   -   Specifies if the customer has phone service with TELEMONOP\n",
    "\n",
    "Multiple\t-   Qualitative\t   -   Specifies if the customer is charged for multiple lines with TELEMONOP\n",
    "\n",
    "OnlineSecurity\t-   Qualitative\t   -   Specifies if the customer is charged for an online security add-on\n",
    "\n",
    "OnlineBackup\t-   Qualitative\t   -   Specifies if the customer is charged for an online backup add-on\n",
    "\n",
    "DeviceProtection\t-   Qualitative\t   -   Specifies if the customer is charged for a device protection add-on\n",
    "\n",
    "TechSupport\t   -   Qualitative\t   -   Specifies if the customer is charged for a technical support add-on \n",
    "\n",
    "StreamingTV\t  -   Qualitative\t  -   Specifies if the customer is charged for streaming TV\n",
    "\n",
    "StreamingMovies\t    -    Qualitative\t  -    Specifies if the customer has streaming movies charges\n",
    "\n",
    "PaperlessBilling\t  -   Qualitative\t    -   Specifies if the customer has signed up for paperless billing\n",
    "\n",
    "PaymentMethod\t-   Qualitative   -\tSpecifies if the customer pays with an electronic check, mailed check, \n",
    "automatic bank transfer, or credit card\n",
    "\n",
    "Tenure\t-   Quantitative   -  \tNumber of months the customer has had service with TELEMONOP\n",
    "\n",
    "MonthlyCharge\t -   Quantitative\t  -  The average monthly charge billed to the customer\n",
    "\n",
    "Bandwidth_GB_Year\t-   Quantitative\t-   The customer's yearly average data usage, in GB\n",
    "\n",
    "SURVEY RESPONSES\n",
    "\n",
    "The following variables represent survey responses to a questionnaire asking TELEMONOP customers \n",
    "to rate the importance of various service factors. The survey consisted of eight questions and was scored on a scale of 1 to 8 (1 = most important, 8 = least important)\n",
    "\n",
    "item1/ Response\t  -  Quantitative\t -  Timely response\n",
    "\n",
    "item2/ Fix\t  -   Quantitative\t  -   Timely fixes\n",
    "\n",
    "Item3/ Replacement\t  -   Quantitative\t   -   Timely replacements\n",
    "\n",
    "item4/ Reliability\t   -   Quantitative   - \tReliability\n",
    "\n",
    "item5/ Options\t  -   Quantitative\t   -   Options\n",
    "\n",
    "item6/ Respectfulness\t  -    Quantitative\t         -    Respectful response\n",
    "\n",
    "item7/ Courteous\t-      Quantitative    -  \tCourteous exchange\n",
    "\n",
    "item8/ Listen\t  -      Quantitative\t  -    Evidence of active listening"
   ]
  },
  {
   "cell_type": "markdown",
   "id": "30495bda",
   "metadata": {},
   "source": [
    "### Part II: Data Cleaning Plan"
   ]
  },
  {
   "cell_type": "markdown",
   "id": "e6eb5e3c",
   "metadata": {},
   "source": [
    "#### C1: Plan to Identify Anomalies\n",
    "\n",
    "Before detecting anomalies, the database will be read and observed. First, the libraries used for analysis and mitigation will be loaded into Jupyter Notebook. Then, the data will be loaded using the “read_csv” function and be renamed “churn”. The “print(df)” and “df.info()” functions will be used to observe the size of the database, examine the variables, and determine the data types. The survey response columns will be renamed to avoid confusion. The overview of the database will conclude by viewing the basic statistics returned by the “db.describe()” function. \n",
    "\n",
    "After observing the data, anomalies will be detected. Duplicates will be identified using the “df. duplicated().sum()” function in Pandas. The total number of duplicate rows in the data set will be displayed. Then the null values will be detected by using “df.isnull().sum()” function. A table with the column names and the total number of null values in the dataset will be returned. Lastly, outliers will be detected using boxplots from Seaborn’s “sns.boxplot” function. A boxplot will be created for each column with quantitative data and values outside the standard deviation will be noted. Finally, a histogram will be made for all quantitative variables with outliers to view the distribution of the data."
   ]
  },
  {
   "cell_type": "markdown",
   "id": "c0c4116a",
   "metadata": {},
   "source": [
    "#### C2: Justification of Plan\n",
    "\n",
    "Observing the data set prior to running any code for anomaly detection is a standard practice. This allows analysts to become familiar with the variables and identify the datatype of each variable. Renaming columns with sequential names avoids confusion when analysing multiple columns simultaneously. \n",
    "\n",
    "The “duplicated().sum()” function is ideal given the large size of the database. Having code that adds the total number of duplicates and returns a single number is an efficient way to detect duplicates. Utilizing a function that returns a Boolean “True/False” value for every row would consume a large amount of time and space since the database has 10,000 rows.\n",
    "\n",
    "Using Pandas “isnull().sum()” function is the most efficient way to detect missing values since it returns the total number of null values. Other functions require further computation or coding to display the number of null values contained in the column. For example, the “df.info()” function will detect missing values, but displays the non-null results. This means I would need to subtract the non-null results per each column from the total number of rows to get the total number of null values per column.\n",
    "\n",
    "Box plots provide a visual representation of quantitative data that is easy and fast to interpret. A single outlier can be easily seen outside the whiskers of a box plot. Small amounts of outliers can be difficult to discern in bar graphs of other visualization types. Histograms are very useful for viewing the original data distribution pattern, which will be needed to decide if the median or mode should be input to replace outliers (Larose & Larose, p 55)."
   ]
  },
  {
   "cell_type": "markdown",
   "id": "9a18b99e",
   "metadata": {},
   "source": [
    "#### C3: Justification of Programming Language and Libraries\n",
    "\n",
    "The Python programming language will be used for this project. Python is an object-oriented programming language with community created packages and libraries. Third party tools created specifically for data analysis and data science include Pandas for loading and reading databases, Numpy for handling linear equations, and ScikitLearn for performing Principal Component Analysis. For visualization needs, the Matplotlib and Seaborn libraries enable Python users to create and customize numerous graphs and charts including box plots, and histograms.\n",
    "\n",
    "The Python language is easy to read, understand, and learn. It’s flexibility and intuitive syntax made it the 4th most popular programming language among developers, according to a 2020 survey from StackOverflow (StackOverflow). The large development community ensures users can troubleshoot problems and find support quickly and efficiently.\n",
    "\n",
    "While the R programming language can be used for data analysis and visualization, the syntax is not as easy for a novice to learn and understand. R is also not as popular as Python, which means there is less community support if a user encounters a problem."
   ]
  },
  {
   "cell_type": "markdown",
   "id": "862ec76f",
   "metadata": {},
   "source": [
    "#### C4: Code Used to Identify Anomalies\n",
    "\n",
    "All code used to identify anomolies can be viewed in cells 1 -37 of this notebook."
   ]
  },
  {
   "cell_type": "code",
   "execution_count": 1,
   "id": "a4fac627",
   "metadata": {},
   "outputs": [],
   "source": [
    "# Loading libraries and packages\n",
    "import pandas as pd\n",
    "import numpy as np\n",
    "import seaborn as sns\n",
    "import matplotlib.pyplot as plt\n",
    "import scipy.stats as stats\n",
    "from sklearn.decomposition import PCA\n",
    "from sklearn.preprocessing import StandardScaler"
   ]
  },
  {
   "cell_type": "code",
   "execution_count": 2,
   "id": "89ea9940",
   "metadata": {},
   "outputs": [],
   "source": [
    "#Loading dataset and renaming it 'churn'\n",
    "churn = pd.read_csv(\"D206churn_raw_data.csv\")"
   ]
  },
  {
   "cell_type": "code",
   "execution_count": 3,
   "id": "e040a2e9",
   "metadata": {
    "scrolled": false
   },
   "outputs": [
    {
     "name": "stdout",
     "output_type": "stream",
     "text": [
      "<class 'pandas.core.frame.DataFrame'>\n",
      "RangeIndex: 10000 entries, 0 to 9999\n",
      "Data columns (total 52 columns):\n",
      " #   Column                Non-Null Count  Dtype  \n",
      "---  ------                --------------  -----  \n",
      " 0   Unnamed: 0            10000 non-null  int64  \n",
      " 1   CaseOrder             10000 non-null  int64  \n",
      " 2   Customer_id           10000 non-null  object \n",
      " 3   Interaction           10000 non-null  object \n",
      " 4   City                  10000 non-null  object \n",
      " 5   State                 10000 non-null  object \n",
      " 6   County                10000 non-null  object \n",
      " 7   Zip                   10000 non-null  int64  \n",
      " 8   Lat                   10000 non-null  float64\n",
      " 9   Lng                   10000 non-null  float64\n",
      " 10  Population            10000 non-null  int64  \n",
      " 11  Area                  10000 non-null  object \n",
      " 12  Timezone              10000 non-null  object \n",
      " 13  Job                   10000 non-null  object \n",
      " 14  Children              7505 non-null   float64\n",
      " 15  Age                   7525 non-null   float64\n",
      " 16  Education             10000 non-null  object \n",
      " 17  Employment            10000 non-null  object \n",
      " 18  Income                7510 non-null   float64\n",
      " 19  Marital               10000 non-null  object \n",
      " 20  Gender                10000 non-null  object \n",
      " 21  Churn                 10000 non-null  object \n",
      " 22  Outage_sec_perweek    10000 non-null  float64\n",
      " 23  Email                 10000 non-null  int64  \n",
      " 24  Contacts              10000 non-null  int64  \n",
      " 25  Yearly_equip_failure  10000 non-null  int64  \n",
      " 26  Techie                7523 non-null   object \n",
      " 27  Contract              10000 non-null  object \n",
      " 28  Port_modem            10000 non-null  object \n",
      " 29  Tablet                10000 non-null  object \n",
      " 30  InternetService       10000 non-null  object \n",
      " 31  Phone                 8974 non-null   object \n",
      " 32  Multiple              10000 non-null  object \n",
      " 33  OnlineSecurity        10000 non-null  object \n",
      " 34  OnlineBackup          10000 non-null  object \n",
      " 35  DeviceProtection      10000 non-null  object \n",
      " 36  TechSupport           9009 non-null   object \n",
      " 37  StreamingTV           10000 non-null  object \n",
      " 38  StreamingMovies       10000 non-null  object \n",
      " 39  PaperlessBilling      10000 non-null  object \n",
      " 40  PaymentMethod         10000 non-null  object \n",
      " 41  Tenure                9069 non-null   float64\n",
      " 42  MonthlyCharge         10000 non-null  float64\n",
      " 43  Bandwidth_GB_Year     8979 non-null   float64\n",
      " 44  item1                 10000 non-null  int64  \n",
      " 45  item2                 10000 non-null  int64  \n",
      " 46  item3                 10000 non-null  int64  \n",
      " 47  item4                 10000 non-null  int64  \n",
      " 48  item5                 10000 non-null  int64  \n",
      " 49  item6                 10000 non-null  int64  \n",
      " 50  item7                 10000 non-null  int64  \n",
      " 51  item8                 10000 non-null  int64  \n",
      "dtypes: float64(9), int64(15), object(28)\n",
      "memory usage: 4.0+ MB\n"
     ]
    }
   ],
   "source": [
    "#Retrieve info about dataset including column names and non-null values values in each column\n",
    "churn.info()"
   ]
  },
  {
   "cell_type": "code",
   "execution_count": 4,
   "id": "41b727b6",
   "metadata": {},
   "outputs": [],
   "source": [
    "#Renaming the survey response columns to avoid confusion\n",
    "churn.rename(columns = {'item1':'Response',\n",
    "'item2':'Fix',\n",
    "'item3':'Replacement',\n",
    "'item4':'Reliability',\n",
    "'item5':'Options',\n",
    "'item6':'Respectfulness',\n",
    "'item7':'Courteous',\n",
    "'item8':'Listen'},\n",
    "inplace=True)"
   ]
  },
  {
   "cell_type": "code",
   "execution_count": 5,
   "id": "924712bc",
   "metadata": {
    "scrolled": true
   },
   "outputs": [
    {
     "name": "stdout",
     "output_type": "stream",
     "text": [
      "      Unnamed: 0  CaseOrder Customer_id                           Interaction  \\\n",
      "0              1          1     K409198  aa90260b-4141-4a24-8e36-b04ce1f4f77b   \n",
      "1              2          2     S120509  fb76459f-c047-4a9d-8af9-e0f7d4ac2524   \n",
      "2              3          3     K191035  344d114c-3736-4be5-98f7-c72c281e2d35   \n",
      "3              4          4      D90850  abfa2b40-2d43-4994-b15a-989b8c79e311   \n",
      "4              5          5     K662701  68a861fd-0d20-4e51-a587-8a90407ee574   \n",
      "...          ...        ...         ...                                   ...   \n",
      "9995        9996       9996     M324793  45deb5a2-ae04-4518-bf0b-c82db8dbe4a4   \n",
      "9996        9997       9997     D861732  6e96b921-0c09-4993-bbda-a1ac6411061a   \n",
      "9997        9998       9998     I243405  e8307ddf-9a01-4fff-bc59-4742e03fd24f   \n",
      "9998        9999       9999     I641617  3775ccfc-0052-4107-81ae-9657f81ecdf3   \n",
      "9999       10000      10000      T38070  9de5fb6e-bd33-4995-aec8-f01d0172a499   \n",
      "\n",
      "              City State                 County    Zip       Lat        Lng  \\\n",
      "0      Point Baker    AK  Prince of Wales-Hyder  99927  56.25100 -133.37571   \n",
      "1      West Branch    MI                 Ogemaw  48661  44.32893  -84.24080   \n",
      "2          Yamhill    OR                Yamhill  97148  45.35589 -123.24657   \n",
      "3          Del Mar    CA              San Diego  92014  32.96687 -117.24798   \n",
      "4        Needville    TX              Fort Bend  77461  29.38012  -95.80673   \n",
      "...            ...   ...                    ...    ...       ...        ...   \n",
      "9995   Mount Holly    VT                Rutland   5758  43.43391  -72.78734   \n",
      "9996   Clarksville    TN             Montgomery  37042  36.56907  -87.41694   \n",
      "9997      Mobeetie    TX                Wheeler  79061  35.52039 -100.44180   \n",
      "9998    Carrollton    GA                Carroll  30117  33.58016  -85.13241   \n",
      "9999  Clarkesville    GA              Habersham  30523  34.70783  -83.53648   \n",
      "\n",
      "      ...  MonthlyCharge Bandwidth_GB_Year Response Fix  Replacement  \\\n",
      "0     ...     171.449762        904.536110        5   5            5   \n",
      "1     ...     242.948015        800.982766        3   4            3   \n",
      "2     ...     159.440398       2054.706961        4   4            2   \n",
      "3     ...     120.249493       2164.579412        4   4            4   \n",
      "4     ...     150.761216        271.493436        4   4            4   \n",
      "...   ...            ...               ...      ...  ..          ...   \n",
      "9995  ...     159.828800       6511.253000        3   2            3   \n",
      "9996  ...     208.856400       5695.952000        4   5            5   \n",
      "9997  ...     168.220900       4159.306000        4   4            4   \n",
      "9998  ...     252.628600       6468.457000        4   4            6   \n",
      "9999  ...     218.371000       5857.586000        2   2            3   \n",
      "\n",
      "      Reliability Options Respectfulness  Courteous Listen  \n",
      "0               3       4              4          3      4  \n",
      "1               3       4              3          4      4  \n",
      "2               4       4              3          3      3  \n",
      "3               2       5              4          3      3  \n",
      "4               3       4              4          4      5  \n",
      "...           ...     ...            ...        ...    ...  \n",
      "9995            3       4              3          2      3  \n",
      "9996            4       4              5          2      5  \n",
      "9997            4       4              4          4      5  \n",
      "9998            4       3              3          5      4  \n",
      "9999            3       3              3          4      1  \n",
      "\n",
      "[10000 rows x 52 columns]\n"
     ]
    }
   ],
   "source": [
    "#Retrieve the first 5 and last 5 records from the database\n",
    "print(churn)"
   ]
  },
  {
   "cell_type": "code",
   "execution_count": 6,
   "id": "abf714ad",
   "metadata": {},
   "outputs": [
    {
     "data": {
      "text/html": [
       "<div>\n",
       "<style scoped>\n",
       "    .dataframe tbody tr th:only-of-type {\n",
       "        vertical-align: middle;\n",
       "    }\n",
       "\n",
       "    .dataframe tbody tr th {\n",
       "        vertical-align: top;\n",
       "    }\n",
       "\n",
       "    .dataframe thead th {\n",
       "        text-align: right;\n",
       "    }\n",
       "</style>\n",
       "<table border=\"1\" class=\"dataframe\">\n",
       "  <thead>\n",
       "    <tr style=\"text-align: right;\">\n",
       "      <th></th>\n",
       "      <th>Unnamed: 0</th>\n",
       "      <th>CaseOrder</th>\n",
       "      <th>Zip</th>\n",
       "      <th>Lat</th>\n",
       "      <th>Lng</th>\n",
       "      <th>Population</th>\n",
       "      <th>Children</th>\n",
       "      <th>Age</th>\n",
       "      <th>Income</th>\n",
       "      <th>Outage_sec_perweek</th>\n",
       "      <th>...</th>\n",
       "      <th>MonthlyCharge</th>\n",
       "      <th>Bandwidth_GB_Year</th>\n",
       "      <th>Response</th>\n",
       "      <th>Fix</th>\n",
       "      <th>Replacement</th>\n",
       "      <th>Reliability</th>\n",
       "      <th>Options</th>\n",
       "      <th>Respectfulness</th>\n",
       "      <th>Courteous</th>\n",
       "      <th>Listen</th>\n",
       "    </tr>\n",
       "  </thead>\n",
       "  <tbody>\n",
       "    <tr>\n",
       "      <th>count</th>\n",
       "      <td>10000.00000</td>\n",
       "      <td>10000.00000</td>\n",
       "      <td>10000.000000</td>\n",
       "      <td>10000.000000</td>\n",
       "      <td>10000.000000</td>\n",
       "      <td>10000.000000</td>\n",
       "      <td>7505.000000</td>\n",
       "      <td>7525.000000</td>\n",
       "      <td>7510.000000</td>\n",
       "      <td>10000.000000</td>\n",
       "      <td>...</td>\n",
       "      <td>10000.000000</td>\n",
       "      <td>8979.000000</td>\n",
       "      <td>10000.000000</td>\n",
       "      <td>10000.000000</td>\n",
       "      <td>10000.000000</td>\n",
       "      <td>10000.000000</td>\n",
       "      <td>10000.000000</td>\n",
       "      <td>10000.000000</td>\n",
       "      <td>10000.000000</td>\n",
       "      <td>10000.000000</td>\n",
       "    </tr>\n",
       "    <tr>\n",
       "      <th>mean</th>\n",
       "      <td>5000.50000</td>\n",
       "      <td>5000.50000</td>\n",
       "      <td>49153.319600</td>\n",
       "      <td>38.757567</td>\n",
       "      <td>-90.782536</td>\n",
       "      <td>9756.562400</td>\n",
       "      <td>2.095936</td>\n",
       "      <td>53.275748</td>\n",
       "      <td>39936.762226</td>\n",
       "      <td>11.452955</td>\n",
       "      <td>...</td>\n",
       "      <td>174.076305</td>\n",
       "      <td>3398.842752</td>\n",
       "      <td>3.490800</td>\n",
       "      <td>3.505100</td>\n",
       "      <td>3.487000</td>\n",
       "      <td>3.497500</td>\n",
       "      <td>3.492900</td>\n",
       "      <td>3.497300</td>\n",
       "      <td>3.509500</td>\n",
       "      <td>3.495600</td>\n",
       "    </tr>\n",
       "    <tr>\n",
       "      <th>std</th>\n",
       "      <td>2886.89568</td>\n",
       "      <td>2886.89568</td>\n",
       "      <td>27532.196108</td>\n",
       "      <td>5.437389</td>\n",
       "      <td>15.156142</td>\n",
       "      <td>14432.698671</td>\n",
       "      <td>2.154758</td>\n",
       "      <td>20.753928</td>\n",
       "      <td>28358.469482</td>\n",
       "      <td>7.025921</td>\n",
       "      <td>...</td>\n",
       "      <td>43.335473</td>\n",
       "      <td>2187.396807</td>\n",
       "      <td>1.037797</td>\n",
       "      <td>1.034641</td>\n",
       "      <td>1.027977</td>\n",
       "      <td>1.025816</td>\n",
       "      <td>1.024819</td>\n",
       "      <td>1.033586</td>\n",
       "      <td>1.028502</td>\n",
       "      <td>1.028633</td>\n",
       "    </tr>\n",
       "    <tr>\n",
       "      <th>min</th>\n",
       "      <td>1.00000</td>\n",
       "      <td>1.00000</td>\n",
       "      <td>601.000000</td>\n",
       "      <td>17.966120</td>\n",
       "      <td>-171.688150</td>\n",
       "      <td>0.000000</td>\n",
       "      <td>0.000000</td>\n",
       "      <td>18.000000</td>\n",
       "      <td>740.660000</td>\n",
       "      <td>-1.348571</td>\n",
       "      <td>...</td>\n",
       "      <td>77.505230</td>\n",
       "      <td>155.506715</td>\n",
       "      <td>1.000000</td>\n",
       "      <td>1.000000</td>\n",
       "      <td>1.000000</td>\n",
       "      <td>1.000000</td>\n",
       "      <td>1.000000</td>\n",
       "      <td>1.000000</td>\n",
       "      <td>1.000000</td>\n",
       "      <td>1.000000</td>\n",
       "    </tr>\n",
       "    <tr>\n",
       "      <th>25%</th>\n",
       "      <td>2500.75000</td>\n",
       "      <td>2500.75000</td>\n",
       "      <td>26292.500000</td>\n",
       "      <td>35.341828</td>\n",
       "      <td>-97.082812</td>\n",
       "      <td>738.000000</td>\n",
       "      <td>0.000000</td>\n",
       "      <td>35.000000</td>\n",
       "      <td>19285.522500</td>\n",
       "      <td>8.054362</td>\n",
       "      <td>...</td>\n",
       "      <td>141.071078</td>\n",
       "      <td>1234.110529</td>\n",
       "      <td>3.000000</td>\n",
       "      <td>3.000000</td>\n",
       "      <td>3.000000</td>\n",
       "      <td>3.000000</td>\n",
       "      <td>3.000000</td>\n",
       "      <td>3.000000</td>\n",
       "      <td>3.000000</td>\n",
       "      <td>3.000000</td>\n",
       "    </tr>\n",
       "    <tr>\n",
       "      <th>50%</th>\n",
       "      <td>5000.50000</td>\n",
       "      <td>5000.50000</td>\n",
       "      <td>48869.500000</td>\n",
       "      <td>39.395800</td>\n",
       "      <td>-87.918800</td>\n",
       "      <td>2910.500000</td>\n",
       "      <td>1.000000</td>\n",
       "      <td>53.000000</td>\n",
       "      <td>33186.785000</td>\n",
       "      <td>10.202896</td>\n",
       "      <td>...</td>\n",
       "      <td>169.915400</td>\n",
       "      <td>3382.424000</td>\n",
       "      <td>3.000000</td>\n",
       "      <td>4.000000</td>\n",
       "      <td>3.000000</td>\n",
       "      <td>3.000000</td>\n",
       "      <td>3.000000</td>\n",
       "      <td>3.000000</td>\n",
       "      <td>4.000000</td>\n",
       "      <td>3.000000</td>\n",
       "    </tr>\n",
       "    <tr>\n",
       "      <th>75%</th>\n",
       "      <td>7500.25000</td>\n",
       "      <td>7500.25000</td>\n",
       "      <td>71866.500000</td>\n",
       "      <td>42.106908</td>\n",
       "      <td>-80.088745</td>\n",
       "      <td>13168.000000</td>\n",
       "      <td>3.000000</td>\n",
       "      <td>71.000000</td>\n",
       "      <td>53472.395000</td>\n",
       "      <td>12.487644</td>\n",
       "      <td>...</td>\n",
       "      <td>203.777441</td>\n",
       "      <td>5587.096500</td>\n",
       "      <td>4.000000</td>\n",
       "      <td>4.000000</td>\n",
       "      <td>4.000000</td>\n",
       "      <td>4.000000</td>\n",
       "      <td>4.000000</td>\n",
       "      <td>4.000000</td>\n",
       "      <td>4.000000</td>\n",
       "      <td>4.000000</td>\n",
       "    </tr>\n",
       "    <tr>\n",
       "      <th>max</th>\n",
       "      <td>10000.00000</td>\n",
       "      <td>10000.00000</td>\n",
       "      <td>99929.000000</td>\n",
       "      <td>70.640660</td>\n",
       "      <td>-65.667850</td>\n",
       "      <td>111850.000000</td>\n",
       "      <td>10.000000</td>\n",
       "      <td>89.000000</td>\n",
       "      <td>258900.700000</td>\n",
       "      <td>47.049280</td>\n",
       "      <td>...</td>\n",
       "      <td>315.878600</td>\n",
       "      <td>7158.982000</td>\n",
       "      <td>7.000000</td>\n",
       "      <td>7.000000</td>\n",
       "      <td>8.000000</td>\n",
       "      <td>7.000000</td>\n",
       "      <td>7.000000</td>\n",
       "      <td>8.000000</td>\n",
       "      <td>7.000000</td>\n",
       "      <td>8.000000</td>\n",
       "    </tr>\n",
       "  </tbody>\n",
       "</table>\n",
       "<p>8 rows × 24 columns</p>\n",
       "</div>"
      ],
      "text/plain": [
       "        Unnamed: 0    CaseOrder           Zip           Lat           Lng  \\\n",
       "count  10000.00000  10000.00000  10000.000000  10000.000000  10000.000000   \n",
       "mean    5000.50000   5000.50000  49153.319600     38.757567    -90.782536   \n",
       "std     2886.89568   2886.89568  27532.196108      5.437389     15.156142   \n",
       "min        1.00000      1.00000    601.000000     17.966120   -171.688150   \n",
       "25%     2500.75000   2500.75000  26292.500000     35.341828    -97.082812   \n",
       "50%     5000.50000   5000.50000  48869.500000     39.395800    -87.918800   \n",
       "75%     7500.25000   7500.25000  71866.500000     42.106908    -80.088745   \n",
       "max    10000.00000  10000.00000  99929.000000     70.640660    -65.667850   \n",
       "\n",
       "          Population     Children          Age         Income  \\\n",
       "count   10000.000000  7505.000000  7525.000000    7510.000000   \n",
       "mean     9756.562400     2.095936    53.275748   39936.762226   \n",
       "std     14432.698671     2.154758    20.753928   28358.469482   \n",
       "min         0.000000     0.000000    18.000000     740.660000   \n",
       "25%       738.000000     0.000000    35.000000   19285.522500   \n",
       "50%      2910.500000     1.000000    53.000000   33186.785000   \n",
       "75%     13168.000000     3.000000    71.000000   53472.395000   \n",
       "max    111850.000000    10.000000    89.000000  258900.700000   \n",
       "\n",
       "       Outage_sec_perweek  ...  MonthlyCharge  Bandwidth_GB_Year  \\\n",
       "count        10000.000000  ...   10000.000000        8979.000000   \n",
       "mean            11.452955  ...     174.076305        3398.842752   \n",
       "std              7.025921  ...      43.335473        2187.396807   \n",
       "min             -1.348571  ...      77.505230         155.506715   \n",
       "25%              8.054362  ...     141.071078        1234.110529   \n",
       "50%             10.202896  ...     169.915400        3382.424000   \n",
       "75%             12.487644  ...     203.777441        5587.096500   \n",
       "max             47.049280  ...     315.878600        7158.982000   \n",
       "\n",
       "           Response           Fix   Replacement   Reliability       Options  \\\n",
       "count  10000.000000  10000.000000  10000.000000  10000.000000  10000.000000   \n",
       "mean       3.490800      3.505100      3.487000      3.497500      3.492900   \n",
       "std        1.037797      1.034641      1.027977      1.025816      1.024819   \n",
       "min        1.000000      1.000000      1.000000      1.000000      1.000000   \n",
       "25%        3.000000      3.000000      3.000000      3.000000      3.000000   \n",
       "50%        3.000000      4.000000      3.000000      3.000000      3.000000   \n",
       "75%        4.000000      4.000000      4.000000      4.000000      4.000000   \n",
       "max        7.000000      7.000000      8.000000      7.000000      7.000000   \n",
       "\n",
       "       Respectfulness     Courteous        Listen  \n",
       "count    10000.000000  10000.000000  10000.000000  \n",
       "mean         3.497300      3.509500      3.495600  \n",
       "std          1.033586      1.028502      1.028633  \n",
       "min          1.000000      1.000000      1.000000  \n",
       "25%          3.000000      3.000000      3.000000  \n",
       "50%          3.000000      4.000000      3.000000  \n",
       "75%          4.000000      4.000000      4.000000  \n",
       "max          8.000000      7.000000      8.000000  \n",
       "\n",
       "[8 rows x 24 columns]"
      ]
     },
     "execution_count": 6,
     "metadata": {},
     "output_type": "execute_result"
    }
   ],
   "source": [
    "#returns basic statistics for dataset\n",
    "churn.describe()"
   ]
  },
  {
   "cell_type": "code",
   "execution_count": 7,
   "id": "97db55b7",
   "metadata": {},
   "outputs": [
    {
     "data": {
      "text/plain": [
       "0"
      ]
     },
     "execution_count": 7,
     "metadata": {},
     "output_type": "execute_result"
    }
   ],
   "source": [
    "#Detect duplicate records and displays the total number of duplicated rows found\n",
    "churn.duplicated().sum()"
   ]
  },
  {
   "cell_type": "code",
   "execution_count": 8,
   "id": "dd8141bb",
   "metadata": {},
   "outputs": [
    {
     "data": {
      "text/plain": [
       "Unnamed: 0                 0\n",
       "CaseOrder                  0\n",
       "Customer_id                0\n",
       "Interaction                0\n",
       "City                       0\n",
       "State                      0\n",
       "County                     0\n",
       "Zip                        0\n",
       "Lat                        0\n",
       "Lng                        0\n",
       "Population                 0\n",
       "Area                       0\n",
       "Timezone                   0\n",
       "Job                        0\n",
       "Children                2495\n",
       "Age                     2475\n",
       "Education                  0\n",
       "Employment                 0\n",
       "Income                  2490\n",
       "Marital                    0\n",
       "Gender                     0\n",
       "Churn                      0\n",
       "Outage_sec_perweek         0\n",
       "Email                      0\n",
       "Contacts                   0\n",
       "Yearly_equip_failure       0\n",
       "Techie                  2477\n",
       "Contract                   0\n",
       "Port_modem                 0\n",
       "Tablet                     0\n",
       "InternetService            0\n",
       "Phone                   1026\n",
       "Multiple                   0\n",
       "OnlineSecurity             0\n",
       "OnlineBackup               0\n",
       "DeviceProtection           0\n",
       "TechSupport              991\n",
       "StreamingTV                0\n",
       "StreamingMovies            0\n",
       "PaperlessBilling           0\n",
       "PaymentMethod              0\n",
       "Tenure                   931\n",
       "MonthlyCharge              0\n",
       "Bandwidth_GB_Year       1021\n",
       "Response                   0\n",
       "Fix                        0\n",
       "Replacement                0\n",
       "Reliability                0\n",
       "Options                    0\n",
       "Respectfulness             0\n",
       "Courteous                  0\n",
       "Listen                     0\n",
       "dtype: int64"
      ]
     },
     "execution_count": 8,
     "metadata": {},
     "output_type": "execute_result"
    }
   ],
   "source": [
    "#Detecting null values in the dataset. sum() will show the total number of null values in the column\n",
    "churn.isnull().sum()"
   ]
  },
  {
   "cell_type": "code",
   "execution_count": 9,
   "id": "af04bc42",
   "metadata": {},
   "outputs": [],
   "source": [
    "##detecting outliers using boxplots"
   ]
  },
  {
   "cell_type": "code",
   "execution_count": 10,
   "id": "bf190057",
   "metadata": {},
   "outputs": [
    {
     "data": {
      "text/plain": [
       "<AxesSubplot:xlabel='Age'>"
      ]
     },
     "execution_count": 10,
     "metadata": {},
     "output_type": "execute_result"
    },
    {
     "data": {
      "image/png": "[encoded data removed]",
      "text/plain": [
       "<Figure size 432x288 with 1 Axes>"
      ]
     },
     "metadata": {
      "needs_background": "light"
     },
     "output_type": "display_data"
    }
   ],
   "source": [
    "#Boxplot to detect outliers in Age column\n",
    "sns.boxplot(x='Age', data=churn)"
   ]
  },
  {
   "cell_type": "code",
   "execution_count": 11,
   "id": "826ab844",
   "metadata": {},
   "outputs": [
    {
     "data": {
      "text/plain": [
       "<AxesSubplot:xlabel='Population'>"
      ]
     },
     "execution_count": 11,
     "metadata": {},
     "output_type": "execute_result"
    },
    {
     "data": {
      "image/png": "[encoded data removed]",
      "text/plain": [
       "<Figure size 432x288 with 1 Axes>"
      ]
     },
     "metadata": {
      "needs_background": "light"
     },
     "output_type": "display_data"
    }
   ],
   "source": [
    "#Detecting Outliers in 'Population' Column\n",
    "sns.boxplot(x='Population', data=churn)"
   ]
  },
  {
   "cell_type": "code",
   "execution_count": 12,
   "id": "b057289b",
   "metadata": {},
   "outputs": [
    {
     "data": {
      "text/plain": [
       "<AxesSubplot:xlabel='Children'>"
      ]
     },
     "execution_count": 12,
     "metadata": {},
     "output_type": "execute_result"
    },
    {
     "data": {
      "image/png": "[encoded data removed]",
      "text/plain": [
       "<Figure size 432x288 with 1 Axes>"
      ]
     },
     "metadata": {
      "needs_background": "light"
     },
     "output_type": "display_data"
    }
   ],
   "source": [
    "#Detecting Outliers in 'Children' Column\n",
    "sns.boxplot(x='Children', data=churn)"
   ]
  },
  {
   "cell_type": "code",
   "execution_count": 13,
   "id": "38be5f8b",
   "metadata": {},
   "outputs": [
    {
     "data": {
      "text/plain": [
       "<AxesSubplot:xlabel='Income'>"
      ]
     },
     "execution_count": 13,
     "metadata": {},
     "output_type": "execute_result"
    },
    {
     "data": {
      "image/png": "[encoded data removed]",
      "text/plain": [
       "<Figure size 432x288 with 1 Axes>"
      ]
     },
     "metadata": {
      "needs_background": "light"
     },
     "output_type": "display_data"
    }
   ],
   "source": [
    "#Detecting Outliers in 'Income' Column\n",
    "sns.boxplot(x='Income', data=churn)"
   ]
  },
  {
   "cell_type": "code",
   "execution_count": 14,
   "id": "b14ea853",
   "metadata": {},
   "outputs": [
    {
     "data": {
      "text/plain": [
       "<AxesSubplot:xlabel='Outage_sec_perweek'>"
      ]
     },
     "execution_count": 14,
     "metadata": {},
     "output_type": "execute_result"
    },
    {
     "data": {
      "image/png": "[encoded data removed]",
      "text/plain": [
       "<Figure size 432x288 with 1 Axes>"
      ]
     },
     "metadata": {
      "needs_background": "light"
     },
     "output_type": "display_data"
    }
   ],
   "source": [
    "#Detecting Outliers in 'Outage_sec_perweek' Column\n",
    "sns.boxplot(x='Outage_sec_perweek', data=churn)"
   ]
  },
  {
   "cell_type": "code",
   "execution_count": 15,
   "id": "496e0976",
   "metadata": {},
   "outputs": [
    {
     "data": {
      "text/plain": [
       "<AxesSubplot:xlabel='Email'>"
      ]
     },
     "execution_count": 15,
     "metadata": {},
     "output_type": "execute_result"
    },
    {
     "data": {
      "image/png": "[encoded data removed]",
      "text/plain": [
       "<Figure size 432x288 with 1 Axes>"
      ]
     },
     "metadata": {
      "needs_background": "light"
     },
     "output_type": "display_data"
    }
   ],
   "source": [
    "#Detecting Outliers in 'Email' Column\n",
    "sns.boxplot(x='Email', data=churn)"
   ]
  },
  {
   "cell_type": "code",
   "execution_count": 16,
   "id": "75632442",
   "metadata": {},
   "outputs": [
    {
     "data": {
      "text/plain": [
       "<AxesSubplot:xlabel='Contacts'>"
      ]
     },
     "execution_count": 16,
     "metadata": {},
     "output_type": "execute_result"
    },
    {
     "data": {
      "image/png": "[encoded data removed]",
      "text/plain": [
       "<Figure size 432x288 with 1 Axes>"
      ]
     },
     "metadata": {
      "needs_background": "light"
     },
     "output_type": "display_data"
    }
   ],
   "source": [
    "#Detecting Outliers in 'Contacts' Column\n",
    "sns.boxplot(x='Contacts', data=churn)"
   ]
  },
  {
   "cell_type": "code",
   "execution_count": 17,
   "id": "707ec61a",
   "metadata": {},
   "outputs": [
    {
     "data": {
      "text/plain": [
       "<AxesSubplot:xlabel='Tenure'>"
      ]
     },
     "execution_count": 17,
     "metadata": {},
     "output_type": "execute_result"
    },
    {
     "data": {
      "image/png": "[encoded data removed]",
      "text/plain": [
       "<Figure size 432x288 with 1 Axes>"
      ]
     },
     "metadata": {
      "needs_background": "light"
     },
     "output_type": "display_data"
    }
   ],
   "source": [
    "#Detecting outliers in \"Tenure\" Column\n",
    "sns.boxplot(x='Tenure', data=churn)"
   ]
  },
  {
   "cell_type": "code",
   "execution_count": 18,
   "id": "8b6ba5ec",
   "metadata": {},
   "outputs": [
    {
     "data": {
      "text/plain": [
       "<AxesSubplot:xlabel='MonthlyCharge'>"
      ]
     },
     "execution_count": 18,
     "metadata": {},
     "output_type": "execute_result"
    },
    {
     "data": {
      "image/png": "[encoded data removed]",
      "text/plain": [
       "<Figure size 432x288 with 1 Axes>"
      ]
     },
     "metadata": {
      "needs_background": "light"
     },
     "output_type": "display_data"
    }
   ],
   "source": [
    "#Detecting Outliers in 'MonthlyCharge' Column\n",
    "sns.boxplot(x='MonthlyCharge', data=churn)"
   ]
  },
  {
   "cell_type": "code",
   "execution_count": 19,
   "id": "49e7753b",
   "metadata": {},
   "outputs": [
    {
     "data": {
      "text/plain": [
       "<AxesSubplot:xlabel='Bandwidth_GB_Year'>"
      ]
     },
     "execution_count": 19,
     "metadata": {},
     "output_type": "execute_result"
    },
    {
     "data": {
      "image/png": "[encoded data removed]",
      "text/plain": [
       "<Figure size 432x288 with 1 Axes>"
      ]
     },
     "metadata": {
      "needs_background": "light"
     },
     "output_type": "display_data"
    }
   ],
   "source": [
    "#Detecting Outliers in 'Bandwidth_GB_Year' Column\n",
    "sns.boxplot(x='Bandwidth_GB_Year', data=churn)"
   ]
  },
  {
   "cell_type": "code",
   "execution_count": 20,
   "id": "11c55fc9",
   "metadata": {},
   "outputs": [
    {
     "data": {
      "text/plain": [
       "<AxesSubplot:xlabel='Response'>"
      ]
     },
     "execution_count": 20,
     "metadata": {},
     "output_type": "execute_result"
    },
    {
     "data": {
      "image/png": "[encoded data removed]",
      "text/plain": [
       "<Figure size 432x288 with 1 Axes>"
      ]
     },
     "metadata": {
      "needs_background": "light"
     },
     "output_type": "display_data"
    }
   ],
   "source": [
    "#Detecting Outliers in 'Responses' Column\n",
    "sns.boxplot(x='Response', data=churn)"
   ]
  },
  {
   "cell_type": "code",
   "execution_count": 21,
   "id": "5d466719",
   "metadata": {},
   "outputs": [
    {
     "data": {
      "text/plain": [
       "<AxesSubplot:xlabel='Fix'>"
      ]
     },
     "execution_count": 21,
     "metadata": {},
     "output_type": "execute_result"
    },
    {
     "data": {
      "image/png": "[encoded data removed]",
      "text/plain": [
       "<Figure size 432x288 with 1 Axes>"
      ]
     },
     "metadata": {
      "needs_background": "light"
     },
     "output_type": "display_data"
    }
   ],
   "source": [
    "#Detecting Outliers in 'Fix' Column\n",
    "sns.boxplot(x='Fix', data=churn)"
   ]
  },
  {
   "cell_type": "code",
   "execution_count": 22,
   "id": "84f21215",
   "metadata": {},
   "outputs": [
    {
     "data": {
      "text/plain": [
       "<AxesSubplot:xlabel='Replacement'>"
      ]
     },
     "execution_count": 22,
     "metadata": {},
     "output_type": "execute_result"
    },
    {
     "data": {
      "image/png": "[encoded data removed]",
      "text/plain": [
       "<Figure size 432x288 with 1 Axes>"
      ]
     },
     "metadata": {
      "needs_background": "light"
     },
     "output_type": "display_data"
    }
   ],
   "source": [
    "#Detecting Outliers in 'Replacement' Column\n",
    "sns.boxplot(x='Replacement', data=churn)"
   ]
  },
  {
   "cell_type": "code",
   "execution_count": 23,
   "id": "db389c88",
   "metadata": {},
   "outputs": [
    {
     "data": {
      "text/plain": [
       "<AxesSubplot:xlabel='Reliability'>"
      ]
     },
     "execution_count": 23,
     "metadata": {},
     "output_type": "execute_result"
    },
    {
     "data": {
      "image/png": "[encoded data removed]",
      "text/plain": [
       "<Figure size 432x288 with 1 Axes>"
      ]
     },
     "metadata": {
      "needs_background": "light"
     },
     "output_type": "display_data"
    }
   ],
   "source": [
    "#Detecting Outliers in 'Reliability' Column\n",
    "sns.boxplot(x='Reliability', data=churn)"
   ]
  },
  {
   "cell_type": "code",
   "execution_count": 24,
   "id": "4199beaa",
   "metadata": {},
   "outputs": [
    {
     "data": {
      "text/plain": [
       "<AxesSubplot:xlabel='Options'>"
      ]
     },
     "execution_count": 24,
     "metadata": {},
     "output_type": "execute_result"
    },
    {
     "data": {
      "image/png": "[encoded data removed]",
      "text/plain": [
       "<Figure size 432x288 with 1 Axes>"
      ]
     },
     "metadata": {
      "needs_background": "light"
     },
     "output_type": "display_data"
    }
   ],
   "source": [
    "#Detecting Outliers in 'Options' Column\n",
    "sns.boxplot(x='Options', data=churn)"
   ]
  },
  {
   "cell_type": "code",
   "execution_count": 25,
   "id": "685a5ab5",
   "metadata": {},
   "outputs": [
    {
     "data": {
      "text/plain": [
       "<AxesSubplot:xlabel='Respectfulness'>"
      ]
     },
     "execution_count": 25,
     "metadata": {},
     "output_type": "execute_result"
    },
    {
     "data": {
      "image/png": "[encoded data removed]",
      "text/plain": [
       "<Figure size 432x288 with 1 Axes>"
      ]
     },
     "metadata": {
      "needs_background": "light"
     },
     "output_type": "display_data"
    }
   ],
   "source": [
    "#Detecting Outliers in 'Respectfulness' Column\n",
    "sns.boxplot(x='Respectfulness', data=churn)"
   ]
  },
  {
   "cell_type": "code",
   "execution_count": 26,
   "id": "cf6717e4",
   "metadata": {},
   "outputs": [
    {
     "data": {
      "text/plain": [
       "<AxesSubplot:xlabel='Courteous'>"
      ]
     },
     "execution_count": 26,
     "metadata": {},
     "output_type": "execute_result"
    },
    {
     "data": {
      "image/png": "[encoded data removed]",
      "text/plain": [
       "<Figure size 432x288 with 1 Axes>"
      ]
     },
     "metadata": {
      "needs_background": "light"
     },
     "output_type": "display_data"
    }
   ],
   "source": [
    "#Detecting Outliers in 'Courteous' Column\n",
    "sns.boxplot(x='Courteous', data=churn)"
   ]
  },
  {
   "cell_type": "code",
   "execution_count": 27,
   "id": "4df8e40a",
   "metadata": {},
   "outputs": [
    {
     "data": {
      "text/plain": [
       "<AxesSubplot:xlabel='Listen'>"
      ]
     },
     "execution_count": 27,
     "metadata": {},
     "output_type": "execute_result"
    },
    {
     "data": {
      "image/png": "[encoded data removed]",
      "text/plain": [
       "<Figure size 432x288 with 1 Axes>"
      ]
     },
     "metadata": {
      "needs_background": "light"
     },
     "output_type": "display_data"
    }
   ],
   "source": [
    "#Detecting Outliers in 'Listen' Column\n",
    "sns.boxplot(x='Listen', data=churn)"
   ]
  },
  {
   "cell_type": "code",
   "execution_count": 28,
   "id": "7fcbf9f7",
   "metadata": {},
   "outputs": [],
   "source": [
    "# Now let's visualize the columns through histograms to view the distribution.\n",
    "#This will help me decide between mean and median fill"
   ]
  },
  {
   "cell_type": "code",
   "execution_count": 29,
   "id": "da912a8e",
   "metadata": {},
   "outputs": [
    {
     "data": {
      "text/plain": [
       "(array([1919., 1874., 1100., 1096.,  769.,  161.,  135.,  149.,  158.,\n",
       "         144.]),\n",
       " array([ 0.,  1.,  2.,  3.,  4.,  5.,  6.,  7.,  8.,  9., 10.]),\n",
       " <BarContainer object of 10 artists>)"
      ]
     },
     "execution_count": 29,
     "metadata": {},
     "output_type": "execute_result"
    },
    {
     "data": {
      "image/png": "[encoded data removed]",
      "text/plain": [
       "<Figure size 432x288 with 1 Axes>"
      ]
     },
     "metadata": {
      "needs_background": "light"
     },
     "output_type": "display_data"
    }
   ],
   "source": [
    "#Create Histogram for 'Children' Column\n",
    "plt.hist(churn['Children'])"
   ]
  },
  {
   "cell_type": "code",
   "execution_count": 30,
   "id": "9f168884",
   "metadata": {},
   "outputs": [
    {
     "data": {
      "text/plain": [
       "(array([853., 756., 714., 739., 708., 739., 728., 728., 761., 799.]),\n",
       " array([18. , 25.1, 32.2, 39.3, 46.4, 53.5, 60.6, 67.7, 74.8, 81.9, 89. ]),\n",
       " <BarContainer object of 10 artists>)"
      ]
     },
     "execution_count": 30,
     "metadata": {},
     "output_type": "execute_result"
    },
    {
     "data": {
      "image/png": "[encoded data removed]",
      "text/plain": [
       "<Figure size 432x288 with 1 Axes>"
      ]
     },
     "metadata": {
      "needs_background": "light"
     },
     "output_type": "display_data"
    }
   ],
   "source": [
    "#Create Histogram for 'Age' Column\n",
    "plt.hist(churn['Age'])"
   ]
  },
  {
   "cell_type": "code",
   "execution_count": 31,
   "id": "b1bfaecd",
   "metadata": {},
   "outputs": [
    {
     "data": {
      "text/plain": [
       "(array([2.912e+03, 2.642e+03, 1.193e+03, 5.080e+02, 1.670e+02, 6.000e+01,\n",
       "        2.100e+01, 4.000e+00, 1.000e+00, 2.000e+00]),\n",
       " array([   740.66 ,  26556.664,  52372.668,  78188.672, 104004.676,\n",
       "        129820.68 , 155636.684, 181452.688, 207268.692, 233084.696,\n",
       "        258900.7  ]),\n",
       " <BarContainer object of 10 artists>)"
      ]
     },
     "execution_count": 31,
     "metadata": {},
     "output_type": "execute_result"
    },
    {
     "data": {
      "image/png": "[encoded data removed]",
      "text/plain": [
       "<Figure size 432x288 with 1 Axes>"
      ]
     },
     "metadata": {
      "needs_background": "light"
     },
     "output_type": "display_data"
    }
   ],
   "source": [
    "#Create Histogram for 'Income' Column\n",
    "plt.hist(churn['Income'])"
   ]
  },
  {
   "cell_type": "code",
   "execution_count": 32,
   "id": "16302af0",
   "metadata": {},
   "outputs": [
    {
     "data": {
      "text/plain": [
       "(array([2337., 1473.,  568.,  132.,   30.,  221.,  540.,  870., 1330.,\n",
       "        1568.]),\n",
       " array([ 1.00025934,  8.10016141, 15.20006347, 22.29996554, 29.3998676 ,\n",
       "        36.49976967, 43.59967174, 50.6995738 , 57.79947587, 64.89937793,\n",
       "        71.99928   ]),\n",
       " <BarContainer object of 10 artists>)"
      ]
     },
     "execution_count": 32,
     "metadata": {},
     "output_type": "execute_result"
    },
    {
     "data": {
      "image/png": "[encoded data removed]",
      "text/plain": [
       "<Figure size 432x288 with 1 Axes>"
      ]
     },
     "metadata": {
      "needs_background": "light"
     },
     "output_type": "display_data"
    }
   ],
   "source": [
    "#Create Histogram for 'Tenure' Column\n",
    "plt.hist(churn['Tenure'])"
   ]
  },
  {
   "cell_type": "code",
   "execution_count": 33,
   "id": "0820e2f8",
   "metadata": {},
   "outputs": [
    {
     "data": {
      "text/plain": [
       "(array([ 176., 2605., 5237., 1428.,   54.,    0.,    9.,  144.,  282.,\n",
       "          65.]),\n",
       " array([-1.348571 ,  3.4912141,  8.3309992, 13.1707843, 18.0105694,\n",
       "        22.8503545, 27.6901396, 32.5299247, 37.3697098, 42.2094949,\n",
       "        47.04928  ]),\n",
       " <BarContainer object of 10 artists>)"
      ]
     },
     "execution_count": 33,
     "metadata": {},
     "output_type": "execute_result"
    },
    {
     "data": {
      "image/png": "[encoded data removed]",
      "text/plain": [
       "<Figure size 432x288 with 1 Axes>"
      ]
     },
     "metadata": {
      "needs_background": "light"
     },
     "output_type": "display_data"
    }
   ],
   "source": [
    "#Create Histogram for 'Outage_sec_perweek' Column\n",
    "plt.hist(churn['Outage_sec_perweek'])"
   ]
  },
  {
   "cell_type": "code",
   "execution_count": 34,
   "id": "350275d1",
   "metadata": {},
   "outputs": [
    {
     "data": {
      "text/plain": [
       "(array([3.680e+03, 3.675e+03, 1.872e+03, 0.000e+00, 6.080e+02, 1.370e+02,\n",
       "        0.000e+00, 2.000e+01, 5.000e+00, 3.000e+00]),\n",
       " array([0. , 0.7, 1.4, 2.1, 2.8, 3.5, 4.2, 4.9, 5.6, 6.3, 7. ]),\n",
       " <BarContainer object of 10 artists>)"
      ]
     },
     "execution_count": 34,
     "metadata": {},
     "output_type": "execute_result"
    },
    {
     "data": {
      "image/png": "[encoded data removed]",
      "text/plain": [
       "<Figure size 432x288 with 1 Axes>"
      ]
     },
     "metadata": {
      "needs_background": "light"
     },
     "output_type": "display_data"
    }
   ],
   "source": [
    "#Create Histogram for 'Contacts' Column\n",
    "plt.hist(churn['Contacts'])"
   ]
  },
  {
   "cell_type": "code",
   "execution_count": 35,
   "id": "71db2713",
   "metadata": {
    "scrolled": true
   },
   "outputs": [
    {
     "data": {
      "text/plain": [
       "(array([  23.,  140.,  501., 1317., 2365., 3638., 1296.,  554.,  151.,\n",
       "          15.]),\n",
       " array([ 1. ,  3.2,  5.4,  7.6,  9.8, 12. , 14.2, 16.4, 18.6, 20.8, 23. ]),\n",
       " <BarContainer object of 10 artists>)"
      ]
     },
     "execution_count": 35,
     "metadata": {},
     "output_type": "execute_result"
    },
    {
     "data": {
      "image/png": "[encoded data removed]",
      "text/plain": [
       "<Figure size 432x288 with 1 Axes>"
      ]
     },
     "metadata": {
      "needs_background": "light"
     },
     "output_type": "display_data"
    }
   ],
   "source": [
    "#Create Histogram for 'Email' Column\n",
    "plt.hist(churn['Email'])"
   ]
  },
  {
   "cell_type": "code",
   "execution_count": 36,
   "id": "857851e2",
   "metadata": {
    "scrolled": true
   },
   "outputs": [
    {
     "data": {
      "text/plain": [
       "(array([ 219.,  947., 1917., 2272., 1809., 1151.,  968.,  520.,  187.,\n",
       "          10.]),\n",
       " array([ 77.50523 , 101.342567, 125.179904, 149.017241, 172.854578,\n",
       "        196.691915, 220.529252, 244.366589, 268.203926, 292.041263,\n",
       "        315.8786  ]),\n",
       " <BarContainer object of 10 artists>)"
      ]
     },
     "execution_count": 36,
     "metadata": {},
     "output_type": "execute_result"
    },
    {
     "data": {
      "image/png": "[encoded data removed]",
      "text/plain": [
       "<Figure size 432x288 with 1 Axes>"
      ]
     },
     "metadata": {
      "needs_background": "light"
     },
     "output_type": "display_data"
    }
   ],
   "source": [
    "#Create Histogram for 'MonthlyCharge' Column\n",
    "plt.hist(churn['MonthlyCharge'])"
   ]
  },
  {
   "cell_type": "code",
   "execution_count": 37,
   "id": "b262782f",
   "metadata": {},
   "outputs": [
    {
     "data": {
      "text/plain": [
       "(array([1031., 2062., 1087.,  255.,   98.,  370.,  844., 1399., 1484.,\n",
       "         349.]),\n",
       " array([ 155.5067148 ,  855.85424332, 1556.20177184, 2256.54930036,\n",
       "        2956.89682888, 3657.2443574 , 4357.59188592, 5057.93941444,\n",
       "        5758.28694296, 6458.63447148, 7158.982     ]),\n",
       " <BarContainer object of 10 artists>)"
      ]
     },
     "execution_count": 37,
     "metadata": {},
     "output_type": "execute_result"
    },
    {
     "data": {
      "image/png": "[encoded data removed]",
      "text/plain": [
       "<Figure size 432x288 with 1 Axes>"
      ]
     },
     "metadata": {
      "needs_background": "light"
     },
     "output_type": "display_data"
    }
   ],
   "source": [
    "#Check distribution of Bandwidth_GB_Year\n",
    "plt.hist(churn['Bandwidth_GB_Year'])"
   ]
  },
  {
   "cell_type": "markdown",
   "id": "23c35f3e",
   "metadata": {},
   "source": [
    "### Part III: Data Cleaning"
   ]
  },
  {
   "cell_type": "markdown",
   "id": "eac33dcb",
   "metadata": {},
   "source": [
    "#### D1: Description of Findings\n",
    "There are no duplicate records in the dataset but there are null values.\n",
    "\n",
    "Below are all columns with null values and total number of null values found:\n",
    "\n",
    "Children - 2495 null values\n",
    "\n",
    "Age\t - 2475 null values\n",
    "\n",
    "Income \t-  2490 null values\n",
    "\n",
    "Techie  -\t2477 null values\n",
    "\n",
    "Phone \t-  1026 null values\n",
    "\n",
    "TechSupport\t -  991 null values\n",
    "\n",
    "Tenure\t  -  931 null values\n",
    "\n",
    "Bandwidth_GB_Year\t-  1021 null values\n",
    "\n",
    "Outliers are present in the Population, Children, Income, Outage_sec_perweek, Email, Contacts, MonthlyCharge, Response, Fix, Replacement, Reliability, Options, Respectfulness, Courteous, and Listening columns.  \n",
    "\n",
    "The Population, Children and Income columns have a distribution that is skewed to the right, while the Age column has a relatively uniform distribution. All the survey response columns and the Bandwidth_GB_Year column have bimodal distributions."
   ]
  },
  {
   "cell_type": "markdown",
   "id": "e61e1a2d",
   "metadata": {},
   "source": [
    "#### D2: Justification of Mitigation Methods\n",
    "Null Values\n",
    "\n",
    "Univariate imputation will be used to replace the null values in the Techie, Phone, and TechSupport columns with the mode of those columns. The data contained in these columns is qualitative, which means imputing the mean is not possible. Backward fill or forward fill is not a suitable technique for this dataset because the values imputed could be outliers themselves and alter the distribution of the data.\n",
    "\n",
    "The median will be used to fill the missing values for the Children and Income columns. Since the data is skewed to the right for both columns, the mean will not be a good representation of the data since it is affected by outliers (Larose & Larose).\n",
    "\n",
    "The mean will be used to fill the null values in the Age column due to the uniform distribution of the data. Utilizing the mean is an accurate way to fill missing values in data with a standard or uniform distribution as no outliers can influence the mean."
   ]
  },
  {
   "cell_type": "code",
   "execution_count": 38,
   "id": "affcc638",
   "metadata": {
    "scrolled": true
   },
   "outputs": [
    {
     "data": {
      "text/plain": [
       "(array([1919., 1874., 1100., 1096.,  769.,  161.,  135.,  149.,  158.,\n",
       "         144.]),\n",
       " array([ 0.,  1.,  2.,  3.,  4.,  5.,  6.,  7.,  8.,  9., 10.]),\n",
       " <BarContainer object of 10 artists>)"
      ]
     },
     "execution_count": 38,
     "metadata": {},
     "output_type": "execute_result"
    },
    {
     "data": {
      "image/png": "[encoded data removed]",
      "text/plain": [
       "<Figure size 432x288 with 1 Axes>"
      ]
     },
     "metadata": {
      "needs_background": "light"
     },
     "output_type": "display_data"
    }
   ],
   "source": [
    "#'Children' Histogram showing right skew\n",
    "plt.hist(churn['Children'])"
   ]
  },
  {
   "cell_type": "code",
   "execution_count": 39,
   "id": "cc181b16",
   "metadata": {
    "scrolled": true
   },
   "outputs": [
    {
     "data": {
      "text/plain": [
       "(array([2.912e+03, 2.642e+03, 1.193e+03, 5.080e+02, 1.670e+02, 6.000e+01,\n",
       "        2.100e+01, 4.000e+00, 1.000e+00, 2.000e+00]),\n",
       " array([   740.66 ,  26556.664,  52372.668,  78188.672, 104004.676,\n",
       "        129820.68 , 155636.684, 181452.688, 207268.692, 233084.696,\n",
       "        258900.7  ]),\n",
       " <BarContainer object of 10 artists>)"
      ]
     },
     "execution_count": 39,
     "metadata": {},
     "output_type": "execute_result"
    },
    {
     "data": {
      "image/png": "[encoded data removed]",
      "text/plain": [
       "<Figure size 432x288 with 1 Axes>"
      ]
     },
     "metadata": {
      "needs_background": "light"
     },
     "output_type": "display_data"
    }
   ],
   "source": [
    "# 'Income' Histogram showing right skew\n",
    "plt.hist(churn['Income'])"
   ]
  },
  {
   "cell_type": "code",
   "execution_count": 40,
   "id": "0aa4f3f1",
   "metadata": {},
   "outputs": [
    {
     "data": {
      "text/plain": [
       "(array([853., 756., 714., 739., 708., 739., 728., 728., 761., 799.]),\n",
       " array([18. , 25.1, 32.2, 39.3, 46.4, 53.5, 60.6, 67.7, 74.8, 81.9, 89. ]),\n",
       " <BarContainer object of 10 artists>)"
      ]
     },
     "execution_count": 40,
     "metadata": {},
     "output_type": "execute_result"
    },
    {
     "data": {
      "image/png": "[encoded data removed]",
      "text/plain": [
       "<Figure size 432x288 with 1 Axes>"
      ]
     },
     "metadata": {
      "needs_background": "light"
     },
     "output_type": "display_data"
    }
   ],
   "source": [
    "# Age histogram showing uniform distribution\n",
    "plt.hist(churn['Age'])"
   ]
  },
  {
   "cell_type": "markdown",
   "id": "4710b8c6",
   "metadata": {},
   "source": [
    "#### D2: Justification of Mitigation Methods (Continued)\n",
    "\n",
    "The mean will also be used to fill the nulls values in the Tenure and Bandwidth_GB_Year columns. The data in both columns have a bimodal distribution with more values contained in the left peak. The mean was utilized because the second curve has a larger spread, which should balance the influence of the taller peak of the first spread. \n",
    "\n",
    "Outliers\n",
    "\n",
    "Outliers in the survey response columns, which include the Response, Fix, Replacement, Reliability, Options, Respectfulness, Courteous, and Listening columns will be retained. The information from the surveys represents the customers’ values and is highly subjective. Varied responses are normal as people have different opinions and values. \n",
    "\n",
    "The outliers in the Population and Income columns will be retained. The variance in the population column can be attributed to the type of area where a customer resides. The population of a rural area will be much lower than an urban city. Similarly, incomes vary widely as the cost of living and average salary are typically much higher in an urban city compared to a rural or suburban area.\n",
    "\n",
    "The outliers in Outage_sec_perweek, Email, and contacts will also be retained. The data peak with higher outages and company contacts can be explained by harsh weather or a lack of supporting infrastructure for high-speed internet networks in different locations. For example, it can be expected for someone living in New England in the middle of winter to have more outages and service calls than someone living in Arizona.\n",
    "\n",
    "The outliers in MonthlyCharge will be removed. Z-Scores for the column returned three records with values between 300 and 315.88. If the total number of outliers present in a column are less than 5% of the total data, then it is safe to remove them without affecting the distribution of the data (Larose & Larose p199). \n",
    "\n",
    "The median will replace the outliers in the Children column. Z-scores revealed there are 302 outliers present with values ranging from 6 - 10. The median is the best choice to impute when the data distribution is skewed. \n"
   ]
  },
  {
   "cell_type": "code",
   "execution_count": 41,
   "id": "cd2675d0",
   "metadata": {},
   "outputs": [],
   "source": [
    "##Now that all anomolies have been detected, lets start cleaning by filling nulls\n",
    "# Fix Nulls in Categorical Values by Imputing the mode. We will do this for the Techie, Phone, and TechSupport Columns\n",
    "\n",
    "# Filling Nulls in 'Techie' Column  \n",
    "churn['Techie'].fillna(churn['Techie'].mode()[0], inplace=True)"
   ]
  },
  {
   "cell_type": "code",
   "execution_count": 42,
   "id": "5f6b4f2a",
   "metadata": {},
   "outputs": [],
   "source": [
    "# Filling nulls in 'Phone' Column\n",
    "churn['Phone'].fillna(churn['Phone'].mode()[0], inplace=True)"
   ]
  },
  {
   "cell_type": "code",
   "execution_count": 43,
   "id": "861d30e4",
   "metadata": {},
   "outputs": [],
   "source": [
    "#Filling Nulls in 'TechSupport' Column\n",
    "\n",
    "churn['TechSupport'].fillna(churn['TechSupport'].mode()[0], inplace=True)"
   ]
  },
  {
   "cell_type": "code",
   "execution_count": 44,
   "id": "776042b1",
   "metadata": {},
   "outputs": [],
   "source": [
    "# The median will be used to fill 'Income' and 'Children' since the data is skewed."
   ]
  },
  {
   "cell_type": "code",
   "execution_count": 45,
   "id": "0e7ecbc0",
   "metadata": {},
   "outputs": [],
   "source": [
    "#Fill nulls with median for 'Income' Column\n",
    "churn['Income'].fillna(churn['Income'].median(), inplace=True)"
   ]
  },
  {
   "cell_type": "code",
   "execution_count": 46,
   "id": "237b7df4",
   "metadata": {},
   "outputs": [],
   "source": [
    "#Fill nulls with median for 'Children' Column\n",
    "churn['Children'].fillna(churn['Children'].median(), inplace=True)"
   ]
  },
  {
   "cell_type": "code",
   "execution_count": 47,
   "id": "673c030a",
   "metadata": {},
   "outputs": [],
   "source": [
    "##The nulls in the Age column will be filled with the mean since the distribution is uniform\n",
    "\n",
    "#Fill nulls with mean in Age Column\n",
    "churn['Age'].fillna(churn['Age'].mean(), inplace=True)"
   ]
  },
  {
   "cell_type": "code",
   "execution_count": 48,
   "id": "52af827a",
   "metadata": {},
   "outputs": [],
   "source": [
    "## The mean will be used to fill the Tenure and Bandwidth_GB_Year columns since they have bimodal distributions\n",
    "## using the median would skew the results"
   ]
  },
  {
   "cell_type": "code",
   "execution_count": 49,
   "id": "9d1c470b",
   "metadata": {},
   "outputs": [],
   "source": [
    "#Fill nulls with mean in Tenure Column\n",
    "\n",
    "churn['Tenure'].fillna(churn['Tenure'].mean(), inplace=True)"
   ]
  },
  {
   "cell_type": "code",
   "execution_count": 50,
   "id": "22ac4bba",
   "metadata": {},
   "outputs": [],
   "source": [
    "#Fill nulls with mean in 'Bandwidth_GB_Year' Column\n",
    "churn['Bandwidth_GB_Year'].fillna(churn['Bandwidth_GB_Year'].mean(), inplace=True)"
   ]
  },
  {
   "cell_type": "code",
   "execution_count": 51,
   "id": "d12f1c4f",
   "metadata": {
    "scrolled": true
   },
   "outputs": [
    {
     "data": {
      "text/plain": [
       "Unnamed: 0              0\n",
       "CaseOrder               0\n",
       "Customer_id             0\n",
       "Interaction             0\n",
       "City                    0\n",
       "State                   0\n",
       "County                  0\n",
       "Zip                     0\n",
       "Lat                     0\n",
       "Lng                     0\n",
       "Population              0\n",
       "Area                    0\n",
       "Timezone                0\n",
       "Job                     0\n",
       "Children                0\n",
       "Age                     0\n",
       "Education               0\n",
       "Employment              0\n",
       "Income                  0\n",
       "Marital                 0\n",
       "Gender                  0\n",
       "Churn                   0\n",
       "Outage_sec_perweek      0\n",
       "Email                   0\n",
       "Contacts                0\n",
       "Yearly_equip_failure    0\n",
       "Techie                  0\n",
       "Contract                0\n",
       "Port_modem              0\n",
       "Tablet                  0\n",
       "InternetService         0\n",
       "Phone                   0\n",
       "Multiple                0\n",
       "OnlineSecurity          0\n",
       "OnlineBackup            0\n",
       "DeviceProtection        0\n",
       "TechSupport             0\n",
       "StreamingTV             0\n",
       "StreamingMovies         0\n",
       "PaperlessBilling        0\n",
       "PaymentMethod           0\n",
       "Tenure                  0\n",
       "MonthlyCharge           0\n",
       "Bandwidth_GB_Year       0\n",
       "Response                0\n",
       "Fix                     0\n",
       "Replacement             0\n",
       "Reliability             0\n",
       "Options                 0\n",
       "Respectfulness          0\n",
       "Courteous               0\n",
       "Listen                  0\n",
       "dtype: int64"
      ]
     },
     "execution_count": 51,
     "metadata": {},
     "output_type": "execute_result"
    }
   ],
   "source": [
    "## Check to make sure all null values have been addressed before moving on to outliers\n",
    "\n",
    "churn.isnull().sum()"
   ]
  },
  {
   "cell_type": "code",
   "execution_count": 52,
   "id": "2129d283",
   "metadata": {},
   "outputs": [],
   "source": [
    "##Outliers in 'Children' and 'MonthlyCharge' will be addressed. All others will be retained. \n",
    "## Z-Scores will be used to determine best treatment"
   ]
  },
  {
   "cell_type": "code",
   "execution_count": 53,
   "id": "b6dc8f59",
   "metadata": {},
   "outputs": [],
   "source": [
    "# Z-Score for 'MonthlyCharge'"
   ]
  },
  {
   "cell_type": "code",
   "execution_count": 54,
   "id": "b91cdbf6",
   "metadata": {},
   "outputs": [],
   "source": [
    "##new column created for Z-score\n",
    "\n",
    "churn['MonthlyChargeZScore']=stats.zscore(churn['MonthlyCharge'])"
   ]
  },
  {
   "cell_type": "code",
   "execution_count": 55,
   "id": "854aef2a",
   "metadata": {},
   "outputs": [
    {
     "data": {
      "text/plain": [
       "<bound method NDFrame.head of       MonthlyCharge  MonthlyChargeZScore\n",
       "0        171.449762            -0.060613\n",
       "1        242.948015             1.589348\n",
       "2        159.440398            -0.337752\n",
       "3        120.249493            -1.242158\n",
       "4        150.761216            -0.538041\n",
       "...             ...                  ...\n",
       "9995     159.828800            -0.328789\n",
       "9996     208.856400             0.802618\n",
       "9997     168.220900            -0.135125\n",
       "9998     252.628600             1.812746\n",
       "9999     218.371000             1.022186\n",
       "\n",
       "[10000 rows x 2 columns]>"
      ]
     },
     "execution_count": 55,
     "metadata": {},
     "output_type": "execute_result"
    }
   ],
   "source": [
    "# display 'MonthlyCharge' z-score\n",
    "churn[['MonthlyCharge','MonthlyChargeZScore']].head"
   ]
  },
  {
   "cell_type": "code",
   "execution_count": 56,
   "id": "53f3d154",
   "metadata": {},
   "outputs": [],
   "source": [
    "#Classify outliers in 'MonthlyCharge' as 1 and values within std as 0\n",
    "churn[\"MonthlyChargeOutlier\"] = (abs(churn[\"MonthlyChargeZScore\"])>3).astype(int)"
   ]
  },
  {
   "cell_type": "code",
   "execution_count": 57,
   "id": "f84cc50e",
   "metadata": {
    "scrolled": true
   },
   "outputs": [
    {
     "data": {
      "text/plain": [
       "0       0\n",
       "1       0\n",
       "2       0\n",
       "3       0\n",
       "4       0\n",
       "       ..\n",
       "9995    0\n",
       "9996    0\n",
       "9997    0\n",
       "9998    0\n",
       "9999    0\n",
       "Name: MonthlyChargeOutlier, Length: 10000, dtype: int32"
      ]
     },
     "execution_count": 57,
     "metadata": {},
     "output_type": "execute_result"
    }
   ],
   "source": [
    "#Display results\n",
    "churn.MonthlyChargeOutlier"
   ]
  },
  {
   "cell_type": "code",
   "execution_count": 58,
   "id": "851ae639",
   "metadata": {
    "scrolled": false
   },
   "outputs": [
    {
     "data": {
      "text/html": [
       "<div>\n",
       "<style scoped>\n",
       "    .dataframe tbody tr th:only-of-type {\n",
       "        vertical-align: middle;\n",
       "    }\n",
       "\n",
       "    .dataframe tbody tr th {\n",
       "        vertical-align: top;\n",
       "    }\n",
       "\n",
       "    .dataframe thead th {\n",
       "        text-align: right;\n",
       "    }\n",
       "</style>\n",
       "<table border=\"1\" class=\"dataframe\">\n",
       "  <thead>\n",
       "    <tr style=\"text-align: right;\">\n",
       "      <th></th>\n",
       "      <th>Unnamed: 0</th>\n",
       "      <th>CaseOrder</th>\n",
       "      <th>Customer_id</th>\n",
       "      <th>Interaction</th>\n",
       "      <th>City</th>\n",
       "      <th>State</th>\n",
       "      <th>County</th>\n",
       "      <th>Zip</th>\n",
       "      <th>Lat</th>\n",
       "      <th>Lng</th>\n",
       "      <th>...</th>\n",
       "      <th>Response</th>\n",
       "      <th>Fix</th>\n",
       "      <th>Replacement</th>\n",
       "      <th>Reliability</th>\n",
       "      <th>Options</th>\n",
       "      <th>Respectfulness</th>\n",
       "      <th>Courteous</th>\n",
       "      <th>Listen</th>\n",
       "      <th>MonthlyChargeZScore</th>\n",
       "      <th>MonthlyChargeOutlier</th>\n",
       "    </tr>\n",
       "  </thead>\n",
       "  <tbody>\n",
       "    <tr>\n",
       "      <th>927</th>\n",
       "      <td>928</td>\n",
       "      <td>928</td>\n",
       "      <td>O479736</td>\n",
       "      <td>fa6578cd-243a-498d-9a20-8fd5a133c982</td>\n",
       "      <td>Mendon</td>\n",
       "      <td>UT</td>\n",
       "      <td>Cache</td>\n",
       "      <td>84325</td>\n",
       "      <td>41.72579</td>\n",
       "      <td>-111.99279</td>\n",
       "      <td>...</td>\n",
       "      <td>4</td>\n",
       "      <td>4</td>\n",
       "      <td>4</td>\n",
       "      <td>5</td>\n",
       "      <td>2</td>\n",
       "      <td>4</td>\n",
       "      <td>2</td>\n",
       "      <td>2</td>\n",
       "      <td>3.079659</td>\n",
       "      <td>1</td>\n",
       "    </tr>\n",
       "    <tr>\n",
       "      <th>3746</th>\n",
       "      <td>3747</td>\n",
       "      <td>3747</td>\n",
       "      <td>Q642279</td>\n",
       "      <td>869dcfbe-d65e-45f7-844c-736ae3426677</td>\n",
       "      <td>Point Baker</td>\n",
       "      <td>AK</td>\n",
       "      <td>Prince of Wales-Hyder</td>\n",
       "      <td>99927</td>\n",
       "      <td>56.25100</td>\n",
       "      <td>-133.37570</td>\n",
       "      <td>...</td>\n",
       "      <td>4</td>\n",
       "      <td>3</td>\n",
       "      <td>5</td>\n",
       "      <td>3</td>\n",
       "      <td>4</td>\n",
       "      <td>4</td>\n",
       "      <td>4</td>\n",
       "      <td>4</td>\n",
       "      <td>3.272363</td>\n",
       "      <td>1</td>\n",
       "    </tr>\n",
       "    <tr>\n",
       "      <th>4700</th>\n",
       "      <td>4701</td>\n",
       "      <td>4701</td>\n",
       "      <td>I250439</td>\n",
       "      <td>c9a55402-8498-4b7f-97ad-7f2bee5eece3</td>\n",
       "      <td>Inkom</td>\n",
       "      <td>ID</td>\n",
       "      <td>Bannock</td>\n",
       "      <td>83245</td>\n",
       "      <td>42.81817</td>\n",
       "      <td>-112.22040</td>\n",
       "      <td>...</td>\n",
       "      <td>2</td>\n",
       "      <td>3</td>\n",
       "      <td>3</td>\n",
       "      <td>3</td>\n",
       "      <td>4</td>\n",
       "      <td>1</td>\n",
       "      <td>2</td>\n",
       "      <td>3</td>\n",
       "      <td>3.050579</td>\n",
       "      <td>1</td>\n",
       "    </tr>\n",
       "  </tbody>\n",
       "</table>\n",
       "<p>3 rows × 54 columns</p>\n",
       "</div>"
      ],
      "text/plain": [
       "      Unnamed: 0  CaseOrder Customer_id                           Interaction  \\\n",
       "927          928        928     O479736  fa6578cd-243a-498d-9a20-8fd5a133c982   \n",
       "3746        3747       3747     Q642279  869dcfbe-d65e-45f7-844c-736ae3426677   \n",
       "4700        4701       4701     I250439  c9a55402-8498-4b7f-97ad-7f2bee5eece3   \n",
       "\n",
       "             City State                 County    Zip       Lat        Lng  \\\n",
       "927        Mendon    UT                  Cache  84325  41.72579 -111.99279   \n",
       "3746  Point Baker    AK  Prince of Wales-Hyder  99927  56.25100 -133.37570   \n",
       "4700        Inkom    ID                Bannock  83245  42.81817 -112.22040   \n",
       "\n",
       "      ...  Response Fix Replacement Reliability  Options  Respectfulness  \\\n",
       "927   ...         4   4           4           5        2               4   \n",
       "3746  ...         4   3           5           3        4               4   \n",
       "4700  ...         2   3           3           3        4               1   \n",
       "\n",
       "     Courteous Listen  MonthlyChargeZScore MonthlyChargeOutlier  \n",
       "927          2      2             3.079659                    1  \n",
       "3746         4      4             3.272363                    1  \n",
       "4700         2      3             3.050579                    1  \n",
       "\n",
       "[3 rows x 54 columns]"
      ]
     },
     "execution_count": 58,
     "metadata": {},
     "output_type": "execute_result"
    }
   ],
   "source": [
    "#Display rows with outliers in 'MonthlyCharge'\n",
    "churn.loc[churn.MonthlyChargeOutlier == 1]"
   ]
  },
  {
   "cell_type": "code",
   "execution_count": 59,
   "id": "54b78031",
   "metadata": {},
   "outputs": [
    {
     "name": "stdout",
     "output_type": "stream",
     "text": [
      "number of outliers = 3\n"
     ]
    }
   ],
   "source": [
    "# Print  total numbers of outliers in 'MonthlyCharge'\n",
    "print(\"number of outliers = \" + str(churn.MonthlyChargeOutlier.value_counts()[1]))"
   ]
  },
  {
   "cell_type": "code",
   "execution_count": 60,
   "id": "b24bc62c",
   "metadata": {},
   "outputs": [],
   "source": [
    "# Outliers in 'MonthlyCharge' will be removed\n",
    "# less than 5% total data, won't change distribution"
   ]
  },
  {
   "cell_type": "code",
   "execution_count": 61,
   "id": "406fa7e0",
   "metadata": {},
   "outputs": [],
   "source": [
    "#Removing rows with outliers in 'MonthlyCharge'\n",
    "\n",
    "churn.drop(labels=None, axis=0, index=[927,3746,4700], level=None, inplace=True, errors='raise')"
   ]
  },
  {
   "cell_type": "code",
   "execution_count": 62,
   "id": "7fb62a0d",
   "metadata": {},
   "outputs": [
    {
     "data": {
      "text/plain": [
       "(array([ 215.,  814., 1652., 2112., 1843., 1266.,  909.,  737.,  368.,\n",
       "          81.]),\n",
       " array([ 77.50523   ,  99.67532338, 121.84541676, 144.01551014,\n",
       "        166.18560352, 188.3556969 , 210.52579028, 232.69588366,\n",
       "        254.86597704, 277.03607042, 299.2061638 ]),\n",
       " <BarContainer object of 10 artists>)"
      ]
     },
     "execution_count": 62,
     "metadata": {},
     "output_type": "execute_result"
    },
    {
     "data": {
      "image/png": "[encoded data removed]",
      "text/plain": [
       "<Figure size 432x288 with 1 Axes>"
      ]
     },
     "metadata": {
      "needs_background": "light"
     },
     "output_type": "display_data"
    }
   ],
   "source": [
    "#Recheck data distribution for 'MonthlyCharge' Column with histogram\n",
    "plt.hist(churn['MonthlyCharge'])"
   ]
  },
  {
   "cell_type": "code",
   "execution_count": 63,
   "id": "6ed4572a",
   "metadata": {},
   "outputs": [],
   "source": [
    "##Observing Outliers in 'Children' to determine best outlier treatment\n",
    "##Children Z-Score, new column created\n",
    "\n",
    "churn['ChildrenZScore']=stats.zscore(churn['Children'])"
   ]
  },
  {
   "cell_type": "code",
   "execution_count": 64,
   "id": "a879c968",
   "metadata": {
    "scrolled": true
   },
   "outputs": [
    {
     "data": {
      "text/plain": [
       "<bound method NDFrame.head of       Children  ChildrenZScore\n",
       "0          1.0       -0.427089\n",
       "1          1.0       -0.427089\n",
       "2          4.0        1.130594\n",
       "3          1.0       -0.427089\n",
       "4          0.0       -0.946317\n",
       "...        ...             ...\n",
       "9995       3.0        0.611366\n",
       "9996       4.0        1.130594\n",
       "9997       1.0       -0.427089\n",
       "9998       1.0       -0.427089\n",
       "9999       1.0       -0.427089\n",
       "\n",
       "[9997 rows x 2 columns]>"
      ]
     },
     "execution_count": 64,
     "metadata": {},
     "output_type": "execute_result"
    }
   ],
   "source": [
    "# display 'Children' Z-Score\n",
    "churn[['Children','ChildrenZScore']].head"
   ]
  },
  {
   "cell_type": "code",
   "execution_count": 65,
   "id": "ab6617fb",
   "metadata": {},
   "outputs": [],
   "source": [
    "#Classify outliers in 'Children' as 1 and values within std as 0\n",
    "churn[\"ChildrenOutlier\"] = (abs(churn[\"ChildrenZScore\"])>3).astype(int)"
   ]
  },
  {
   "cell_type": "code",
   "execution_count": 66,
   "id": "05a0eebe",
   "metadata": {
    "scrolled": true
   },
   "outputs": [
    {
     "data": {
      "text/plain": [
       "0       0\n",
       "1       0\n",
       "2       0\n",
       "3       0\n",
       "4       0\n",
       "       ..\n",
       "9995    0\n",
       "9996    0\n",
       "9997    0\n",
       "9998    0\n",
       "9999    0\n",
       "Name: ChildrenOutlier, Length: 9997, dtype: int32"
      ]
     },
     "execution_count": 66,
     "metadata": {},
     "output_type": "execute_result"
    }
   ],
   "source": [
    "#Display results\n",
    "churn.ChildrenOutlier"
   ]
  },
  {
   "cell_type": "code",
   "execution_count": 67,
   "id": "65b7ee9e",
   "metadata": {
    "scrolled": true
   },
   "outputs": [
    {
     "data": {
      "text/html": [
       "<div>\n",
       "<style scoped>\n",
       "    .dataframe tbody tr th:only-of-type {\n",
       "        vertical-align: middle;\n",
       "    }\n",
       "\n",
       "    .dataframe tbody tr th {\n",
       "        vertical-align: top;\n",
       "    }\n",
       "\n",
       "    .dataframe thead th {\n",
       "        text-align: right;\n",
       "    }\n",
       "</style>\n",
       "<table border=\"1\" class=\"dataframe\">\n",
       "  <thead>\n",
       "    <tr style=\"text-align: right;\">\n",
       "      <th></th>\n",
       "      <th>Unnamed: 0</th>\n",
       "      <th>CaseOrder</th>\n",
       "      <th>Customer_id</th>\n",
       "      <th>Interaction</th>\n",
       "      <th>City</th>\n",
       "      <th>State</th>\n",
       "      <th>County</th>\n",
       "      <th>Zip</th>\n",
       "      <th>Lat</th>\n",
       "      <th>Lng</th>\n",
       "      <th>...</th>\n",
       "      <th>Replacement</th>\n",
       "      <th>Reliability</th>\n",
       "      <th>Options</th>\n",
       "      <th>Respectfulness</th>\n",
       "      <th>Courteous</th>\n",
       "      <th>Listen</th>\n",
       "      <th>MonthlyChargeZScore</th>\n",
       "      <th>MonthlyChargeOutlier</th>\n",
       "      <th>ChildrenZScore</th>\n",
       "      <th>ChildrenOutlier</th>\n",
       "    </tr>\n",
       "  </thead>\n",
       "  <tbody>\n",
       "    <tr>\n",
       "      <th>30</th>\n",
       "      <td>31</td>\n",
       "      <td>31</td>\n",
       "      <td>L357432</td>\n",
       "      <td>79b827eb-46b9-4737-8484-0b670171bc4b</td>\n",
       "      <td>Whitesboro</td>\n",
       "      <td>NY</td>\n",
       "      <td>Oneida</td>\n",
       "      <td>13492</td>\n",
       "      <td>43.11988</td>\n",
       "      <td>-75.32875</td>\n",
       "      <td>...</td>\n",
       "      <td>1</td>\n",
       "      <td>5</td>\n",
       "      <td>3</td>\n",
       "      <td>3</td>\n",
       "      <td>3</td>\n",
       "      <td>2</td>\n",
       "      <td>1.312814</td>\n",
       "      <td>0</td>\n",
       "      <td>3.726734</td>\n",
       "      <td>1</td>\n",
       "    </tr>\n",
       "    <tr>\n",
       "      <th>97</th>\n",
       "      <td>98</td>\n",
       "      <td>98</td>\n",
       "      <td>N417817</td>\n",
       "      <td>832e769e-3b90-47cc-8f70-12e77fbd52a2</td>\n",
       "      <td>Beaverville</td>\n",
       "      <td>IL</td>\n",
       "      <td>Iroquois</td>\n",
       "      <td>60912</td>\n",
       "      <td>40.97003</td>\n",
       "      <td>-87.59935</td>\n",
       "      <td>...</td>\n",
       "      <td>2</td>\n",
       "      <td>4</td>\n",
       "      <td>3</td>\n",
       "      <td>2</td>\n",
       "      <td>3</td>\n",
       "      <td>2</td>\n",
       "      <td>0.335437</td>\n",
       "      <td>0</td>\n",
       "      <td>4.245961</td>\n",
       "      <td>1</td>\n",
       "    </tr>\n",
       "    <tr>\n",
       "      <th>131</th>\n",
       "      <td>132</td>\n",
       "      <td>132</td>\n",
       "      <td>I703479</td>\n",
       "      <td>3685c550-a023-4825-a1c0-576114e51d6d</td>\n",
       "      <td>Weaver</td>\n",
       "      <td>AL</td>\n",
       "      <td>Calhoun</td>\n",
       "      <td>36277</td>\n",
       "      <td>33.75973</td>\n",
       "      <td>-85.81881</td>\n",
       "      <td>...</td>\n",
       "      <td>3</td>\n",
       "      <td>6</td>\n",
       "      <td>3</td>\n",
       "      <td>6</td>\n",
       "      <td>5</td>\n",
       "      <td>4</td>\n",
       "      <td>-0.282750</td>\n",
       "      <td>0</td>\n",
       "      <td>3.207506</td>\n",
       "      <td>1</td>\n",
       "    </tr>\n",
       "    <tr>\n",
       "      <th>144</th>\n",
       "      <td>145</td>\n",
       "      <td>145</td>\n",
       "      <td>Q541158</td>\n",
       "      <td>f67c47f8-93da-4b90-babe-4cd9b9deebf6</td>\n",
       "      <td>Saint Paul</td>\n",
       "      <td>MN</td>\n",
       "      <td>Ramsey</td>\n",
       "      <td>55107</td>\n",
       "      <td>44.93099</td>\n",
       "      <td>-93.07957</td>\n",
       "      <td>...</td>\n",
       "      <td>3</td>\n",
       "      <td>3</td>\n",
       "      <td>2</td>\n",
       "      <td>3</td>\n",
       "      <td>4</td>\n",
       "      <td>2</td>\n",
       "      <td>-0.858595</td>\n",
       "      <td>0</td>\n",
       "      <td>4.245961</td>\n",
       "      <td>1</td>\n",
       "    </tr>\n",
       "    <tr>\n",
       "      <th>145</th>\n",
       "      <td>146</td>\n",
       "      <td>146</td>\n",
       "      <td>O707075</td>\n",
       "      <td>ff3340ac-0e71-4997-b7eb-c978c4fe4baa</td>\n",
       "      <td>Ringoes</td>\n",
       "      <td>NJ</td>\n",
       "      <td>Hunterdon</td>\n",
       "      <td>8551</td>\n",
       "      <td>40.44172</td>\n",
       "      <td>-74.84013</td>\n",
       "      <td>...</td>\n",
       "      <td>4</td>\n",
       "      <td>4</td>\n",
       "      <td>3</td>\n",
       "      <td>5</td>\n",
       "      <td>5</td>\n",
       "      <td>3</td>\n",
       "      <td>1.000941</td>\n",
       "      <td>0</td>\n",
       "      <td>3.207506</td>\n",
       "      <td>1</td>\n",
       "    </tr>\n",
       "    <tr>\n",
       "      <th>...</th>\n",
       "      <td>...</td>\n",
       "      <td>...</td>\n",
       "      <td>...</td>\n",
       "      <td>...</td>\n",
       "      <td>...</td>\n",
       "      <td>...</td>\n",
       "      <td>...</td>\n",
       "      <td>...</td>\n",
       "      <td>...</td>\n",
       "      <td>...</td>\n",
       "      <td>...</td>\n",
       "      <td>...</td>\n",
       "      <td>...</td>\n",
       "      <td>...</td>\n",
       "      <td>...</td>\n",
       "      <td>...</td>\n",
       "      <td>...</td>\n",
       "      <td>...</td>\n",
       "      <td>...</td>\n",
       "      <td>...</td>\n",
       "      <td>...</td>\n",
       "    </tr>\n",
       "    <tr>\n",
       "      <th>9790</th>\n",
       "      <td>9791</td>\n",
       "      <td>9791</td>\n",
       "      <td>U741276</td>\n",
       "      <td>5c3198d1-4138-4ba8-b0b9-652748f0c127</td>\n",
       "      <td>Colorado Springs</td>\n",
       "      <td>CO</td>\n",
       "      <td>El Paso</td>\n",
       "      <td>80930</td>\n",
       "      <td>38.81433</td>\n",
       "      <td>-104.50240</td>\n",
       "      <td>...</td>\n",
       "      <td>4</td>\n",
       "      <td>3</td>\n",
       "      <td>4</td>\n",
       "      <td>4</td>\n",
       "      <td>4</td>\n",
       "      <td>2</td>\n",
       "      <td>1.591369</td>\n",
       "      <td>0</td>\n",
       "      <td>4.245961</td>\n",
       "      <td>1</td>\n",
       "    </tr>\n",
       "    <tr>\n",
       "      <th>9860</th>\n",
       "      <td>9861</td>\n",
       "      <td>9861</td>\n",
       "      <td>Q420732</td>\n",
       "      <td>ecf14a80-0bdc-45f9-b684-ae5b6680725f</td>\n",
       "      <td>Clay Center</td>\n",
       "      <td>NE</td>\n",
       "      <td>Clay</td>\n",
       "      <td>68933</td>\n",
       "      <td>40.51674</td>\n",
       "      <td>-98.02741</td>\n",
       "      <td>...</td>\n",
       "      <td>4</td>\n",
       "      <td>4</td>\n",
       "      <td>1</td>\n",
       "      <td>4</td>\n",
       "      <td>6</td>\n",
       "      <td>4</td>\n",
       "      <td>0.330055</td>\n",
       "      <td>0</td>\n",
       "      <td>3.207506</td>\n",
       "      <td>1</td>\n",
       "    </tr>\n",
       "    <tr>\n",
       "      <th>9871</th>\n",
       "      <td>9872</td>\n",
       "      <td>9872</td>\n",
       "      <td>F573675</td>\n",
       "      <td>71c2c800-8cee-434b-b60a-efa9ecbacf38</td>\n",
       "      <td>Holton</td>\n",
       "      <td>IN</td>\n",
       "      <td>Ripley</td>\n",
       "      <td>47023</td>\n",
       "      <td>39.07935</td>\n",
       "      <td>-85.38150</td>\n",
       "      <td>...</td>\n",
       "      <td>3</td>\n",
       "      <td>3</td>\n",
       "      <td>4</td>\n",
       "      <td>3</td>\n",
       "      <td>4</td>\n",
       "      <td>4</td>\n",
       "      <td>-0.690718</td>\n",
       "      <td>0</td>\n",
       "      <td>4.245961</td>\n",
       "      <td>1</td>\n",
       "    </tr>\n",
       "    <tr>\n",
       "      <th>9901</th>\n",
       "      <td>9902</td>\n",
       "      <td>9902</td>\n",
       "      <td>O774002</td>\n",
       "      <td>569131f4-71f4-4e59-9176-e4f8f7b7bbe1</td>\n",
       "      <td>Kaaawa</td>\n",
       "      <td>HI</td>\n",
       "      <td>Honolulu</td>\n",
       "      <td>96730</td>\n",
       "      <td>21.54614</td>\n",
       "      <td>-157.85110</td>\n",
       "      <td>...</td>\n",
       "      <td>4</td>\n",
       "      <td>4</td>\n",
       "      <td>3</td>\n",
       "      <td>4</td>\n",
       "      <td>3</td>\n",
       "      <td>4</td>\n",
       "      <td>1.150831</td>\n",
       "      <td>0</td>\n",
       "      <td>3.726734</td>\n",
       "      <td>1</td>\n",
       "    </tr>\n",
       "    <tr>\n",
       "      <th>9946</th>\n",
       "      <td>9947</td>\n",
       "      <td>9947</td>\n",
       "      <td>E443113</td>\n",
       "      <td>a08e84b5-d41d-4c08-85c9-1d60d8d75b07</td>\n",
       "      <td>Fresno</td>\n",
       "      <td>CA</td>\n",
       "      <td>Fresno</td>\n",
       "      <td>93701</td>\n",
       "      <td>36.74968</td>\n",
       "      <td>-119.78770</td>\n",
       "      <td>...</td>\n",
       "      <td>2</td>\n",
       "      <td>3</td>\n",
       "      <td>3</td>\n",
       "      <td>4</td>\n",
       "      <td>5</td>\n",
       "      <td>3</td>\n",
       "      <td>0.670454</td>\n",
       "      <td>0</td>\n",
       "      <td>3.207506</td>\n",
       "      <td>1</td>\n",
       "    </tr>\n",
       "  </tbody>\n",
       "</table>\n",
       "<p>302 rows × 56 columns</p>\n",
       "</div>"
      ],
      "text/plain": [
       "      Unnamed: 0  CaseOrder Customer_id                           Interaction  \\\n",
       "30            31         31     L357432  79b827eb-46b9-4737-8484-0b670171bc4b   \n",
       "97            98         98     N417817  832e769e-3b90-47cc-8f70-12e77fbd52a2   \n",
       "131          132        132     I703479  3685c550-a023-4825-a1c0-576114e51d6d   \n",
       "144          145        145     Q541158  f67c47f8-93da-4b90-babe-4cd9b9deebf6   \n",
       "145          146        146     O707075  ff3340ac-0e71-4997-b7eb-c978c4fe4baa   \n",
       "...          ...        ...         ...                                   ...   \n",
       "9790        9791       9791     U741276  5c3198d1-4138-4ba8-b0b9-652748f0c127   \n",
       "9860        9861       9861     Q420732  ecf14a80-0bdc-45f9-b684-ae5b6680725f   \n",
       "9871        9872       9872     F573675  71c2c800-8cee-434b-b60a-efa9ecbacf38   \n",
       "9901        9902       9902     O774002  569131f4-71f4-4e59-9176-e4f8f7b7bbe1   \n",
       "9946        9947       9947     E443113  a08e84b5-d41d-4c08-85c9-1d60d8d75b07   \n",
       "\n",
       "                  City State     County    Zip       Lat        Lng  ...  \\\n",
       "30          Whitesboro    NY     Oneida  13492  43.11988  -75.32875  ...   \n",
       "97         Beaverville    IL   Iroquois  60912  40.97003  -87.59935  ...   \n",
       "131             Weaver    AL    Calhoun  36277  33.75973  -85.81881  ...   \n",
       "144         Saint Paul    MN     Ramsey  55107  44.93099  -93.07957  ...   \n",
       "145            Ringoes    NJ  Hunterdon   8551  40.44172  -74.84013  ...   \n",
       "...                ...   ...        ...    ...       ...        ...  ...   \n",
       "9790  Colorado Springs    CO    El Paso  80930  38.81433 -104.50240  ...   \n",
       "9860       Clay Center    NE       Clay  68933  40.51674  -98.02741  ...   \n",
       "9871            Holton    IN     Ripley  47023  39.07935  -85.38150  ...   \n",
       "9901            Kaaawa    HI   Honolulu  96730  21.54614 -157.85110  ...   \n",
       "9946            Fresno    CA     Fresno  93701  36.74968 -119.78770  ...   \n",
       "\n",
       "      Replacement Reliability Options Respectfulness  Courteous  Listen  \\\n",
       "30              1           5       3              3          3       2   \n",
       "97              2           4       3              2          3       2   \n",
       "131             3           6       3              6          5       4   \n",
       "144             3           3       2              3          4       2   \n",
       "145             4           4       3              5          5       3   \n",
       "...           ...         ...     ...            ...        ...     ...   \n",
       "9790            4           3       4              4          4       2   \n",
       "9860            4           4       1              4          6       4   \n",
       "9871            3           3       4              3          4       4   \n",
       "9901            4           4       3              4          3       4   \n",
       "9946            2           3       3              4          5       3   \n",
       "\n",
       "     MonthlyChargeZScore MonthlyChargeOutlier  ChildrenZScore ChildrenOutlier  \n",
       "30              1.312814                    0        3.726734               1  \n",
       "97              0.335437                    0        4.245961               1  \n",
       "131            -0.282750                    0        3.207506               1  \n",
       "144            -0.858595                    0        4.245961               1  \n",
       "145             1.000941                    0        3.207506               1  \n",
       "...                  ...                  ...             ...             ...  \n",
       "9790            1.591369                    0        4.245961               1  \n",
       "9860            0.330055                    0        3.207506               1  \n",
       "9871           -0.690718                    0        4.245961               1  \n",
       "9901            1.150831                    0        3.726734               1  \n",
       "9946            0.670454                    0        3.207506               1  \n",
       "\n",
       "[302 rows x 56 columns]"
      ]
     },
     "execution_count": 67,
     "metadata": {},
     "output_type": "execute_result"
    }
   ],
   "source": [
    "#Display rows with outliers in 'Children'\n",
    "churn.loc[churn.ChildrenOutlier == 1]"
   ]
  },
  {
   "cell_type": "code",
   "execution_count": 68,
   "id": "412bbabb",
   "metadata": {},
   "outputs": [
    {
     "name": "stdout",
     "output_type": "stream",
     "text": [
      "number of outliers = 302\n"
     ]
    }
   ],
   "source": [
    "# Print  total numbers of outliers in 'Children'\n",
    "print(\"number of outliers = \" + str(churn.ChildrenOutlier.value_counts()[1]))"
   ]
  },
  {
   "cell_type": "code",
   "execution_count": 69,
   "id": "f559a89c",
   "metadata": {},
   "outputs": [],
   "source": [
    "#Outliers in children will be replaced with median due to previously observed skew and large quantity of outliers"
   ]
  },
  {
   "cell_type": "code",
   "execution_count": 70,
   "id": "71c0db90",
   "metadata": {},
   "outputs": [
    {
     "data": {
      "text/plain": [
       "1.0"
      ]
     },
     "execution_count": 70,
     "metadata": {},
     "output_type": "execute_result"
    }
   ],
   "source": [
    "# find median of 'Children'\n",
    "churn['Children'].median()"
   ]
  },
  {
   "cell_type": "code",
   "execution_count": 71,
   "id": "fc788c54",
   "metadata": {},
   "outputs": [],
   "source": [
    "#replace outliers of 'Children' with median\n",
    "churn['Children'].replace([7,8,9,10],1, inplace=True)"
   ]
  },
  {
   "cell_type": "code",
   "execution_count": 72,
   "id": "99fe430e",
   "metadata": {},
   "outputs": [
    {
     "data": {
      "text/plain": [
       "(array([1918., 4819.,    0., 1100.,    0., 1096.,  768.,    0.,  161.,\n",
       "         135.]),\n",
       " array([0. , 0.6, 1.2, 1.8, 2.4, 3. , 3.6, 4.2, 4.8, 5.4, 6. ]),\n",
       " <BarContainer object of 10 artists>)"
      ]
     },
     "execution_count": 72,
     "metadata": {},
     "output_type": "execute_result"
    },
    {
     "data": {
      "image/png": "[encoded data removed]",
      "text/plain": [
       "<Figure size 432x288 with 1 Axes>"
      ]
     },
     "metadata": {
      "needs_background": "light"
     },
     "output_type": "display_data"
    }
   ],
   "source": [
    "#Recheck data distribution for 'Children' Column ith histogram\n",
    "plt.hist(churn['Children'])"
   ]
  },
  {
   "cell_type": "code",
   "execution_count": 73,
   "id": "aa0db12b",
   "metadata": {},
   "outputs": [
    {
     "data": {
      "text/plain": [
       "(array([2.911e+03, 5.131e+03, 1.192e+03, 5.080e+02, 1.670e+02, 6.000e+01,\n",
       "        2.100e+01, 4.000e+00, 1.000e+00, 2.000e+00]),\n",
       " array([   740.66 ,  26556.664,  52372.668,  78188.672, 104004.676,\n",
       "        129820.68 , 155636.684, 181452.688, 207268.692, 233084.696,\n",
       "        258900.7  ]),\n",
       " <BarContainer object of 10 artists>)"
      ]
     },
     "execution_count": 73,
     "metadata": {},
     "output_type": "execute_result"
    },
    {
     "data": {
      "image/png": "[encoded data removed]",
      "text/plain": [
       "<Figure size 432x288 with 1 Axes>"
      ]
     },
     "metadata": {
      "needs_background": "light"
     },
     "output_type": "display_data"
    }
   ],
   "source": [
    "#Recheck 'Income' Column Disribution\n",
    "plt.hist(churn['Income'])"
   ]
  },
  {
   "cell_type": "code",
   "execution_count": 74,
   "id": "a11594e9",
   "metadata": {},
   "outputs": [
    {
     "data": {
      "text/plain": [
       "(array([2334., 1473.,  568.,  132.,  961.,  221.,  540.,  870., 1330.,\n",
       "        1568.]),\n",
       " array([ 1.00025934,  8.10016141, 15.20006347, 22.29996554, 29.3998676 ,\n",
       "        36.49976967, 43.59967174, 50.6995738 , 57.79947587, 64.89937793,\n",
       "        71.99928   ]),\n",
       " <BarContainer object of 10 artists>)"
      ]
     },
     "execution_count": 74,
     "metadata": {},
     "output_type": "execute_result"
    },
    {
     "data": {
      "image/png": "[encoded data removed]",
      "text/plain": [
       "<Figure size 432x288 with 1 Axes>"
      ]
     },
     "metadata": {
      "needs_background": "light"
     },
     "output_type": "display_data"
    }
   ],
   "source": [
    "#Recheck 'Tenure' Column Disribution\n",
    "plt.hist(churn['Tenure'])"
   ]
  },
  {
   "cell_type": "code",
   "execution_count": 75,
   "id": "19c6f951",
   "metadata": {
    "scrolled": true
   },
   "outputs": [
    {
     "data": {
      "text/plain": [
       "<bound method DataFrame.info of       Unnamed: 0  CaseOrder Customer_id                           Interaction  \\\n",
       "0              1          1     K409198  aa90260b-4141-4a24-8e36-b04ce1f4f77b   \n",
       "1              2          2     S120509  fb76459f-c047-4a9d-8af9-e0f7d4ac2524   \n",
       "2              3          3     K191035  344d114c-3736-4be5-98f7-c72c281e2d35   \n",
       "3              4          4      D90850  abfa2b40-2d43-4994-b15a-989b8c79e311   \n",
       "4              5          5     K662701  68a861fd-0d20-4e51-a587-8a90407ee574   \n",
       "...          ...        ...         ...                                   ...   \n",
       "9995        9996       9996     M324793  45deb5a2-ae04-4518-bf0b-c82db8dbe4a4   \n",
       "9996        9997       9997     D861732  6e96b921-0c09-4993-bbda-a1ac6411061a   \n",
       "9997        9998       9998     I243405  e8307ddf-9a01-4fff-bc59-4742e03fd24f   \n",
       "9998        9999       9999     I641617  3775ccfc-0052-4107-81ae-9657f81ecdf3   \n",
       "9999       10000      10000      T38070  9de5fb6e-bd33-4995-aec8-f01d0172a499   \n",
       "\n",
       "              City State                 County    Zip       Lat        Lng  \\\n",
       "0      Point Baker    AK  Prince of Wales-Hyder  99927  56.25100 -133.37571   \n",
       "1      West Branch    MI                 Ogemaw  48661  44.32893  -84.24080   \n",
       "2          Yamhill    OR                Yamhill  97148  45.35589 -123.24657   \n",
       "3          Del Mar    CA              San Diego  92014  32.96687 -117.24798   \n",
       "4        Needville    TX              Fort Bend  77461  29.38012  -95.80673   \n",
       "...            ...   ...                    ...    ...       ...        ...   \n",
       "9995   Mount Holly    VT                Rutland   5758  43.43391  -72.78734   \n",
       "9996   Clarksville    TN             Montgomery  37042  36.56907  -87.41694   \n",
       "9997      Mobeetie    TX                Wheeler  79061  35.52039 -100.44180   \n",
       "9998    Carrollton    GA                Carroll  30117  33.58016  -85.13241   \n",
       "9999  Clarkesville    GA              Habersham  30523  34.70783  -83.53648   \n",
       "\n",
       "      ...  Replacement Reliability Options Respectfulness  Courteous  Listen  \\\n",
       "0     ...            5           3       4              4          3       4   \n",
       "1     ...            3           3       4              3          4       4   \n",
       "2     ...            2           4       4              3          3       3   \n",
       "3     ...            4           2       5              4          3       3   \n",
       "4     ...            4           3       4              4          4       5   \n",
       "...   ...          ...         ...     ...            ...        ...     ...   \n",
       "9995  ...            3           3       4              3          2       3   \n",
       "9996  ...            5           4       4              5          2       5   \n",
       "9997  ...            4           4       4              4          4       5   \n",
       "9998  ...            6           4       3              3          5       4   \n",
       "9999  ...            3           3       3              3          4       1   \n",
       "\n",
       "     MonthlyChargeZScore MonthlyChargeOutlier  ChildrenZScore ChildrenOutlier  \n",
       "0              -0.060613                    0       -0.427089               0  \n",
       "1               1.589348                    0       -0.427089               0  \n",
       "2              -0.337752                    0        1.130594               0  \n",
       "3              -1.242158                    0       -0.427089               0  \n",
       "4              -0.538041                    0       -0.946317               0  \n",
       "...                  ...                  ...             ...             ...  \n",
       "9995           -0.328789                    0        0.611366               0  \n",
       "9996            0.802618                    0        1.130594               0  \n",
       "9997           -0.135125                    0       -0.427089               0  \n",
       "9998            1.812746                    0       -0.427089               0  \n",
       "9999            1.022186                    0       -0.427089               0  \n",
       "\n",
       "[9997 rows x 56 columns]>"
      ]
     },
     "execution_count": 75,
     "metadata": {},
     "output_type": "execute_result"
    }
   ],
   "source": [
    "#observe database to see outliers that are not being retained have been addressed\n",
    "churn.info"
   ]
  },
  {
   "cell_type": "code",
   "execution_count": 76,
   "id": "ff4f83ab",
   "metadata": {
    "scrolled": true
   },
   "outputs": [
    {
     "data": {
      "text/plain": [
       "Unnamed: 0              0\n",
       "CaseOrder               0\n",
       "Customer_id             0\n",
       "Interaction             0\n",
       "City                    0\n",
       "State                   0\n",
       "County                  0\n",
       "Zip                     0\n",
       "Lat                     0\n",
       "Lng                     0\n",
       "Population              0\n",
       "Area                    0\n",
       "Timezone                0\n",
       "Job                     0\n",
       "Children                0\n",
       "Age                     0\n",
       "Education               0\n",
       "Employment              0\n",
       "Income                  0\n",
       "Marital                 0\n",
       "Gender                  0\n",
       "Churn                   0\n",
       "Outage_sec_perweek      0\n",
       "Email                   0\n",
       "Contacts                0\n",
       "Yearly_equip_failure    0\n",
       "Techie                  0\n",
       "Contract                0\n",
       "Port_modem              0\n",
       "Tablet                  0\n",
       "InternetService         0\n",
       "Phone                   0\n",
       "Multiple                0\n",
       "OnlineSecurity          0\n",
       "OnlineBackup            0\n",
       "DeviceProtection        0\n",
       "TechSupport             0\n",
       "StreamingTV             0\n",
       "StreamingMovies         0\n",
       "PaperlessBilling        0\n",
       "PaymentMethod           0\n",
       "Tenure                  0\n",
       "MonthlyCharge           0\n",
       "Bandwidth_GB_Year       0\n",
       "Response                0\n",
       "Fix                     0\n",
       "Replacement             0\n",
       "Reliability             0\n",
       "Options                 0\n",
       "Respectfulness          0\n",
       "Courteous               0\n",
       "Listen                  0\n",
       "MonthlyChargeZScore     0\n",
       "MonthlyChargeOutlier    0\n",
       "ChildrenZScore          0\n",
       "ChildrenOutlier         0\n",
       "dtype: int64"
      ]
     },
     "execution_count": 76,
     "metadata": {},
     "output_type": "execute_result"
    }
   ],
   "source": [
    "#Ensure All null values have been filled\n",
    "churn.isnull().sum()"
   ]
  },
  {
   "cell_type": "code",
   "execution_count": 77,
   "id": "bd33ef24",
   "metadata": {
    "scrolled": false
   },
   "outputs": [
    {
     "data": {
      "text/html": [
       "<div>\n",
       "<style scoped>\n",
       "    .dataframe tbody tr th:only-of-type {\n",
       "        vertical-align: middle;\n",
       "    }\n",
       "\n",
       "    .dataframe tbody tr th {\n",
       "        vertical-align: top;\n",
       "    }\n",
       "\n",
       "    .dataframe thead th {\n",
       "        text-align: right;\n",
       "    }\n",
       "</style>\n",
       "<table border=\"1\" class=\"dataframe\">\n",
       "  <thead>\n",
       "    <tr style=\"text-align: right;\">\n",
       "      <th></th>\n",
       "      <th>Unnamed: 0</th>\n",
       "      <th>CaseOrder</th>\n",
       "      <th>Zip</th>\n",
       "      <th>Lat</th>\n",
       "      <th>Lng</th>\n",
       "      <th>Population</th>\n",
       "      <th>Children</th>\n",
       "      <th>Age</th>\n",
       "      <th>Income</th>\n",
       "      <th>Outage_sec_perweek</th>\n",
       "      <th>...</th>\n",
       "      <th>Replacement</th>\n",
       "      <th>Reliability</th>\n",
       "      <th>Options</th>\n",
       "      <th>Respectfulness</th>\n",
       "      <th>Courteous</th>\n",
       "      <th>Listen</th>\n",
       "      <th>MonthlyChargeZScore</th>\n",
       "      <th>MonthlyChargeOutlier</th>\n",
       "      <th>ChildrenZScore</th>\n",
       "      <th>ChildrenOutlier</th>\n",
       "    </tr>\n",
       "  </thead>\n",
       "  <tbody>\n",
       "    <tr>\n",
       "      <th>count</th>\n",
       "      <td>9997.000000</td>\n",
       "      <td>9997.000000</td>\n",
       "      <td>9997.000000</td>\n",
       "      <td>9997.000000</td>\n",
       "      <td>9997.000000</td>\n",
       "      <td>9997.000000</td>\n",
       "      <td>9997.000000</td>\n",
       "      <td>9997.000000</td>\n",
       "      <td>9997.000000</td>\n",
       "      <td>9997.000000</td>\n",
       "      <td>...</td>\n",
       "      <td>9997.000000</td>\n",
       "      <td>9997.000000</td>\n",
       "      <td>9997.000000</td>\n",
       "      <td>9997.000000</td>\n",
       "      <td>9997.000000</td>\n",
       "      <td>9997.000000</td>\n",
       "      <td>9997.000000</td>\n",
       "      <td>9997.0</td>\n",
       "      <td>9.997000e+03</td>\n",
       "      <td>9997.000000</td>\n",
       "    </tr>\n",
       "    <tr>\n",
       "      <th>mean</th>\n",
       "      <td>5001.062719</td>\n",
       "      <td>5001.062719</td>\n",
       "      <td>49141.312294</td>\n",
       "      <td>38.755114</td>\n",
       "      <td>-90.774009</td>\n",
       "      <td>9759.036111</td>\n",
       "      <td>1.499850</td>\n",
       "      <td>53.277876</td>\n",
       "      <td>38258.130170</td>\n",
       "      <td>11.444763</td>\n",
       "      <td>...</td>\n",
       "      <td>3.486846</td>\n",
       "      <td>3.497449</td>\n",
       "      <td>3.492948</td>\n",
       "      <td>3.497449</td>\n",
       "      <td>3.509753</td>\n",
       "      <td>3.495749</td>\n",
       "      <td>-0.000941</td>\n",
       "      <td>0.0</td>\n",
       "      <td>5.476153e-17</td>\n",
       "      <td>0.030209</td>\n",
       "    </tr>\n",
       "    <tr>\n",
       "      <th>std</th>\n",
       "      <td>2887.012686</td>\n",
       "      <td>2887.012686</td>\n",
       "      <td>27527.281941</td>\n",
       "      <td>5.435156</td>\n",
       "      <td>15.149423</td>\n",
       "      <td>14434.146262</td>\n",
       "      <td>1.333205</td>\n",
       "      <td>18.004507</td>\n",
       "      <td>24749.203251</td>\n",
       "      <td>7.010997</td>\n",
       "      <td>...</td>\n",
       "      <td>1.027995</td>\n",
       "      <td>1.025836</td>\n",
       "      <td>1.024839</td>\n",
       "      <td>1.033415</td>\n",
       "      <td>1.028423</td>\n",
       "      <td>1.028655</td>\n",
       "      <td>0.998723</td>\n",
       "      <td>0.0</td>\n",
       "      <td>1.000050e+00</td>\n",
       "      <td>0.171171</td>\n",
       "    </tr>\n",
       "    <tr>\n",
       "      <th>min</th>\n",
       "      <td>1.000000</td>\n",
       "      <td>1.000000</td>\n",
       "      <td>601.000000</td>\n",
       "      <td>17.966120</td>\n",
       "      <td>-171.688150</td>\n",
       "      <td>0.000000</td>\n",
       "      <td>0.000000</td>\n",
       "      <td>18.000000</td>\n",
       "      <td>740.660000</td>\n",
       "      <td>-1.348571</td>\n",
       "      <td>...</td>\n",
       "      <td>1.000000</td>\n",
       "      <td>1.000000</td>\n",
       "      <td>1.000000</td>\n",
       "      <td>1.000000</td>\n",
       "      <td>1.000000</td>\n",
       "      <td>1.000000</td>\n",
       "      <td>-2.228565</td>\n",
       "      <td>0.0</td>\n",
       "      <td>-9.463170e-01</td>\n",
       "      <td>0.000000</td>\n",
       "    </tr>\n",
       "    <tr>\n",
       "      <th>25%</th>\n",
       "      <td>2501.000000</td>\n",
       "      <td>2501.000000</td>\n",
       "      <td>26291.000000</td>\n",
       "      <td>35.337890</td>\n",
       "      <td>-97.076270</td>\n",
       "      <td>738.000000</td>\n",
       "      <td>1.000000</td>\n",
       "      <td>41.000000</td>\n",
       "      <td>23660.820000</td>\n",
       "      <td>8.053300</td>\n",
       "      <td>...</td>\n",
       "      <td>3.000000</td>\n",
       "      <td>3.000000</td>\n",
       "      <td>3.000000</td>\n",
       "      <td>3.000000</td>\n",
       "      <td>3.000000</td>\n",
       "      <td>3.000000</td>\n",
       "      <td>-0.761670</td>\n",
       "      <td>0.0</td>\n",
       "      <td>-4.270892e-01</td>\n",
       "      <td>0.000000</td>\n",
       "    </tr>\n",
       "    <tr>\n",
       "      <th>50%</th>\n",
       "      <td>5002.000000</td>\n",
       "      <td>5002.000000</td>\n",
       "      <td>48861.000000</td>\n",
       "      <td>39.393880</td>\n",
       "      <td>-87.912910</td>\n",
       "      <td>2912.000000</td>\n",
       "      <td>1.000000</td>\n",
       "      <td>53.275748</td>\n",
       "      <td>33186.785000</td>\n",
       "      <td>10.201870</td>\n",
       "      <td>...</td>\n",
       "      <td>3.000000</td>\n",
       "      <td>3.000000</td>\n",
       "      <td>3.000000</td>\n",
       "      <td>3.000000</td>\n",
       "      <td>4.000000</td>\n",
       "      <td>3.000000</td>\n",
       "      <td>-0.096607</td>\n",
       "      <td>0.0</td>\n",
       "      <td>-4.270892e-01</td>\n",
       "      <td>0.000000</td>\n",
       "    </tr>\n",
       "    <tr>\n",
       "      <th>75%</th>\n",
       "      <td>7501.000000</td>\n",
       "      <td>7501.000000</td>\n",
       "      <td>71838.000000</td>\n",
       "      <td>42.106700</td>\n",
       "      <td>-80.086570</td>\n",
       "      <td>13168.000000</td>\n",
       "      <td>2.000000</td>\n",
       "      <td>65.000000</td>\n",
       "      <td>45501.770000</td>\n",
       "      <td>12.483990</td>\n",
       "      <td>...</td>\n",
       "      <td>4.000000</td>\n",
       "      <td>4.000000</td>\n",
       "      <td>4.000000</td>\n",
       "      <td>4.000000</td>\n",
       "      <td>4.000000</td>\n",
       "      <td>4.000000</td>\n",
       "      <td>0.684593</td>\n",
       "      <td>0.0</td>\n",
       "      <td>6.113665e-01</td>\n",
       "      <td>0.000000</td>\n",
       "    </tr>\n",
       "    <tr>\n",
       "      <th>max</th>\n",
       "      <td>10000.000000</td>\n",
       "      <td>10000.000000</td>\n",
       "      <td>99929.000000</td>\n",
       "      <td>70.640660</td>\n",
       "      <td>-65.667850</td>\n",
       "      <td>111850.000000</td>\n",
       "      <td>6.000000</td>\n",
       "      <td>89.000000</td>\n",
       "      <td>258900.700000</td>\n",
       "      <td>47.049280</td>\n",
       "      <td>...</td>\n",
       "      <td>8.000000</td>\n",
       "      <td>7.000000</td>\n",
       "      <td>7.000000</td>\n",
       "      <td>8.000000</td>\n",
       "      <td>7.000000</td>\n",
       "      <td>8.000000</td>\n",
       "      <td>2.887614</td>\n",
       "      <td>0.0</td>\n",
       "      <td>4.245961e+00</td>\n",
       "      <td>1.000000</td>\n",
       "    </tr>\n",
       "  </tbody>\n",
       "</table>\n",
       "<p>8 rows × 28 columns</p>\n",
       "</div>"
      ],
      "text/plain": [
       "         Unnamed: 0     CaseOrder           Zip          Lat          Lng  \\\n",
       "count   9997.000000   9997.000000   9997.000000  9997.000000  9997.000000   \n",
       "mean    5001.062719   5001.062719  49141.312294    38.755114   -90.774009   \n",
       "std     2887.012686   2887.012686  27527.281941     5.435156    15.149423   \n",
       "min        1.000000      1.000000    601.000000    17.966120  -171.688150   \n",
       "25%     2501.000000   2501.000000  26291.000000    35.337890   -97.076270   \n",
       "50%     5002.000000   5002.000000  48861.000000    39.393880   -87.912910   \n",
       "75%     7501.000000   7501.000000  71838.000000    42.106700   -80.086570   \n",
       "max    10000.000000  10000.000000  99929.000000    70.640660   -65.667850   \n",
       "\n",
       "          Population     Children          Age         Income  \\\n",
       "count    9997.000000  9997.000000  9997.000000    9997.000000   \n",
       "mean     9759.036111     1.499850    53.277876   38258.130170   \n",
       "std     14434.146262     1.333205    18.004507   24749.203251   \n",
       "min         0.000000     0.000000    18.000000     740.660000   \n",
       "25%       738.000000     1.000000    41.000000   23660.820000   \n",
       "50%      2912.000000     1.000000    53.275748   33186.785000   \n",
       "75%     13168.000000     2.000000    65.000000   45501.770000   \n",
       "max    111850.000000     6.000000    89.000000  258900.700000   \n",
       "\n",
       "       Outage_sec_perweek  ...  Replacement  Reliability      Options  \\\n",
       "count         9997.000000  ...  9997.000000  9997.000000  9997.000000   \n",
       "mean            11.444763  ...     3.486846     3.497449     3.492948   \n",
       "std              7.010997  ...     1.027995     1.025836     1.024839   \n",
       "min             -1.348571  ...     1.000000     1.000000     1.000000   \n",
       "25%              8.053300  ...     3.000000     3.000000     3.000000   \n",
       "50%             10.201870  ...     3.000000     3.000000     3.000000   \n",
       "75%             12.483990  ...     4.000000     4.000000     4.000000   \n",
       "max             47.049280  ...     8.000000     7.000000     7.000000   \n",
       "\n",
       "       Respectfulness    Courteous       Listen  MonthlyChargeZScore  \\\n",
       "count     9997.000000  9997.000000  9997.000000          9997.000000   \n",
       "mean         3.497449     3.509753     3.495749            -0.000941   \n",
       "std          1.033415     1.028423     1.028655             0.998723   \n",
       "min          1.000000     1.000000     1.000000            -2.228565   \n",
       "25%          3.000000     3.000000     3.000000            -0.761670   \n",
       "50%          3.000000     4.000000     3.000000            -0.096607   \n",
       "75%          4.000000     4.000000     4.000000             0.684593   \n",
       "max          8.000000     7.000000     8.000000             2.887614   \n",
       "\n",
       "       MonthlyChargeOutlier  ChildrenZScore  ChildrenOutlier  \n",
       "count                9997.0    9.997000e+03      9997.000000  \n",
       "mean                    0.0    5.476153e-17         0.030209  \n",
       "std                     0.0    1.000050e+00         0.171171  \n",
       "min                     0.0   -9.463170e-01         0.000000  \n",
       "25%                     0.0   -4.270892e-01         0.000000  \n",
       "50%                     0.0   -4.270892e-01         0.000000  \n",
       "75%                     0.0    6.113665e-01         0.000000  \n",
       "max                     0.0    4.245961e+00         1.000000  \n",
       "\n",
       "[8 rows x 28 columns]"
      ]
     },
     "execution_count": 77,
     "metadata": {},
     "output_type": "execute_result"
    }
   ],
   "source": [
    "#Recheck basic statistics for dataset\n",
    "churn.describe()"
   ]
  },
  {
   "cell_type": "markdown",
   "id": "dbdedc7e",
   "metadata": {},
   "source": [
    "#### D3: Data Cleaning Outcomes\n",
    "After filling the null values in the Techie, Phone, TechSupport, Children, Income, Age, Tenure, and Bandwidth_GB_Year, I ran the “isnull().sum()” to ensure I had addressed all the missing values. There were no remaining missing values in the data set.\n",
    "\n",
    "The data distributions for columns that contained outliers remained unchanged. \n",
    "\n",
    "Three rows were removed from the dataset to mitigate the outliers in the MonthlyCharge column. Running the “df.info()” command returned 9,997 rows, showing the removal was successful. The maximum value of the data within the column is now 299.21, compared to 315.88 before fixing outliers. Running another histogram of the MonthlyCharge data and comparing it to the original revealed that the data distribution did not change after removing the outliers.\n",
    "\n",
    "The outliers in the Children column were replaced with the median. The maximum number of children displayed in the column is currently 6 compared to 10 before the outliers were fixed. The data distribution is still skewed to the right."
   ]
  },
  {
   "cell_type": "markdown",
   "id": "be86b777",
   "metadata": {},
   "source": [
    "#### D4. Code Used To Mitigate Anomolies\n",
    "\n",
    "All code used to mitigate anomolies can be found in cells 41 -77 of this notebook."
   ]
  },
  {
   "cell_type": "markdown",
   "id": "7070f4d0",
   "metadata": {},
   "source": [
    "#### D5. Copy of Cleaned Dataset\n",
    "Please see the ChurnDataClean.csv file attached with my submission for a copy of the cleaned data set."
   ]
  },
  {
   "cell_type": "markdown",
   "id": "d5dcbd9d",
   "metadata": {},
   "source": [
    "#### D6: Limitations\n",
    "\n",
    "Each method used to mitigate anomalies in the dataset has limitations. Univariate imputation can cause an unnatural concentration in the data set if there is a large amount of data missing. Imputing the mean can distort the data if the original distribution is skewed. The outlier values can influence the mean and artificially inflate or shrink it. Likewise, imputing the median can cause data in a standard or uniform distribution to become skewed.\n",
    "\n",
    "Correcting anomalies by deleting rows or columns can only be done when less than 5% of the total data will be removed (Larose & Larose). Deleting values reduces the sample size and can cause valuable information to be lost. \n"
   ]
  },
  {
   "cell_type": "markdown",
   "id": "0fd19702",
   "metadata": {},
   "source": [
    "#### D7: Impact of Limitations\n",
    "\n",
    "Filling the null values through univariate imputation caused an increase of values in the centre of the distribution that was not present before in the Age, Tenure, Bandwidth_GB_Year, and Income columns. The most blatant example was in the Income column where the number of customers who are represented as earning $50,000 almost doubled. Even with these changes, the overall shape of the data in those columns remained the same. The increased median values could weaken correlations originally present in the data set.\n",
    "\n",
    "Deciding to delete three rows to mitigate the outliers in the MonthlyCharge column reduced the sample size. Since the amount of data removed was so miniscule, it would not likely cause problems with analysis."
   ]
  },
  {
   "cell_type": "markdown",
   "id": "7580c291",
   "metadata": {},
   "source": [
    "### Part IV: Principal Component Analysis"
   ]
  },
  {
   "cell_type": "markdown",
   "id": "1c83df0e",
   "metadata": {},
   "source": [
    "#### E1: Principal Components in Data Set\n",
    "\n",
    "The variables Age, Income, Outage_sec_perweek, Tenure, Contacts, Yearly_equip_failure, MonthlyCharge, Response, Fix, Replacement, Reliability, Options, Respectfulness, Courteous, and Listen were selected for the Principal Component Analysis loading. 15 principal components were created from these variables."
   ]
  },
  {
   "cell_type": "code",
   "execution_count": 78,
   "id": "f9e5bd8c",
   "metadata": {},
   "outputs": [],
   "source": [
    "## Data Set is Clean. Time for PCA"
   ]
  },
  {
   "cell_type": "code",
   "execution_count": 79,
   "id": "8241df93",
   "metadata": {
    "scrolled": true
   },
   "outputs": [],
   "source": [
    "#Create PCA dataframe and Specify PCA Variables\n",
    "pca = churn[['Age','Income', 'Outage_sec_perweek','Tenure', 'Contacts', \n",
    "             'Yearly_equip_failure', 'MonthlyCharge', 'Response', 'Fix', \n",
    "             'Replacement', 'Reliability', 'Options','Respectfulness', 'Courteous', 'Listen']]"
   ]
  },
  {
   "cell_type": "code",
   "execution_count": 80,
   "id": "ab99af57",
   "metadata": {},
   "outputs": [],
   "source": [
    "##Normalize data\n",
    "#Create dataframe to hold normalized variables\n",
    "pca_normalized=(pca-pca.mean())/pca.std()"
   ]
  },
  {
   "cell_type": "code",
   "execution_count": 81,
   "id": "a1e7561c",
   "metadata": {},
   "outputs": [],
   "source": [
    "#defining PCs and applying PCA function\n",
    "pca = PCA(n_components=pca.shape[1])"
   ]
  },
  {
   "cell_type": "code",
   "execution_count": 82,
   "id": "4b1a4fd3",
   "metadata": {},
   "outputs": [
    {
     "data": {
      "text/html": [
       "<style>#sk-container-id-1 {color: black;}#sk-container-id-1 pre{padding: 0;}#sk-container-id-1 div.sk-toggleable {background-color: white;}#sk-container-id-1 label.sk-toggleable__label {cursor: pointer;display: block;width: 100%;margin-bottom: 0;padding: 0.3em;box-sizing: border-box;text-align: center;}#sk-container-id-1 label.sk-toggleable__label-arrow:before {content: \"▸\";float: left;margin-right: 0.25em;color: #696969;}#sk-container-id-1 label.sk-toggleable__label-arrow:hover:before {color: black;}#sk-container-id-1 div.sk-estimator:hover label.sk-toggleable__label-arrow:before {color: black;}#sk-container-id-1 div.sk-toggleable__content {max-height: 0;max-width: 0;overflow: hidden;text-align: left;background-color: #f0f8ff;}#sk-container-id-1 div.sk-toggleable__content pre {margin: 0.2em;color: black;border-radius: 0.25em;background-color: #f0f8ff;}#sk-container-id-1 input.sk-toggleable__control:checked~div.sk-toggleable__content {max-height: 200px;max-width: 100%;overflow: auto;}#sk-container-id-1 input.sk-toggleable__control:checked~label.sk-toggleable__label-arrow:before {content: \"▾\";}#sk-container-id-1 div.sk-estimator input.sk-toggleable__control:checked~label.sk-toggleable__label {background-color: #d4ebff;}#sk-container-id-1 div.sk-label input.sk-toggleable__control:checked~label.sk-toggleable__label {background-color: #d4ebff;}#sk-container-id-1 input.sk-hidden--visually {border: 0;clip: rect(1px 1px 1px 1px);clip: rect(1px, 1px, 1px, 1px);height: 1px;margin: -1px;overflow: hidden;padding: 0;position: absolute;width: 1px;}#sk-container-id-1 div.sk-estimator {font-family: monospace;background-color: #f0f8ff;border: 1px dotted black;border-radius: 0.25em;box-sizing: border-box;margin-bottom: 0.5em;}#sk-container-id-1 div.sk-estimator:hover {background-color: #d4ebff;}#sk-container-id-1 div.sk-parallel-item::after {content: \"\";width: 100%;border-bottom: 1px solid gray;flex-grow: 1;}#sk-container-id-1 div.sk-label:hover label.sk-toggleable__label {background-color: #d4ebff;}#sk-container-id-1 div.sk-serial::before {content: \"\";position: absolute;border-left: 1px solid gray;box-sizing: border-box;top: 0;bottom: 0;left: 50%;z-index: 0;}#sk-container-id-1 div.sk-serial {display: flex;flex-direction: column;align-items: center;background-color: white;padding-right: 0.2em;padding-left: 0.2em;position: relative;}#sk-container-id-1 div.sk-item {position: relative;z-index: 1;}#sk-container-id-1 div.sk-parallel {display: flex;align-items: stretch;justify-content: center;background-color: white;position: relative;}#sk-container-id-1 div.sk-item::before, #sk-container-id-1 div.sk-parallel-item::before {content: \"\";position: absolute;border-left: 1px solid gray;box-sizing: border-box;top: 0;bottom: 0;left: 50%;z-index: -1;}#sk-container-id-1 div.sk-parallel-item {display: flex;flex-direction: column;z-index: 1;position: relative;background-color: white;}#sk-container-id-1 div.sk-parallel-item:first-child::after {align-self: flex-end;width: 50%;}#sk-container-id-1 div.sk-parallel-item:last-child::after {align-self: flex-start;width: 50%;}#sk-container-id-1 div.sk-parallel-item:only-child::after {width: 0;}#sk-container-id-1 div.sk-dashed-wrapped {border: 1px dashed gray;margin: 0 0.4em 0.5em 0.4em;box-sizing: border-box;padding-bottom: 0.4em;background-color: white;}#sk-container-id-1 div.sk-label label {font-family: monospace;font-weight: bold;display: inline-block;line-height: 1.2em;}#sk-container-id-1 div.sk-label-container {text-align: center;}#sk-container-id-1 div.sk-container {/* jupyter's `normalize.less` sets `[hidden] { display: none; }` but bootstrap.min.css set `[hidden] { display: none !important; }` so we also need the `!important` here to be able to override the default hidden behavior on the sphinx rendered scikit-learn.org. See: https://github.com/scikit-learn/scikit-learn/issues/21755 */display: inline-block !important;position: relative;}#sk-container-id-1 div.sk-text-repr-fallback {display: none;}</style><div id=\"sk-container-id-1\" class=\"sk-top-container\"><div class=\"sk-text-repr-fallback\"><pre>PCA(n_components=15)</pre><b>In a Jupyter environment, please rerun this cell to show the HTML representation or trust the notebook. <br />On GitHub, the HTML representation is unable to render, please try loading this page with nbviewer.org.</b></div><div class=\"sk-container\" hidden><div class=\"sk-item\"><div class=\"sk-estimator sk-toggleable\"><input class=\"sk-toggleable__control sk-hidden--visually\" id=\"sk-estimator-id-1\" type=\"checkbox\" checked><label for=\"sk-estimator-id-1\" class=\"sk-toggleable__label sk-toggleable__label-arrow\">PCA</label><div class=\"sk-toggleable__content\"><pre>PCA(n_components=15)</pre></div></div></div></div></div>"
      ],
      "text/plain": [
       "PCA(n_components=15)"
      ]
     },
     "execution_count": 82,
     "metadata": {},
     "output_type": "execute_result"
    }
   ],
   "source": [
    "pca.fit(pca_normalized)"
   ]
  },
  {
   "cell_type": "code",
   "execution_count": 83,
   "id": "ecfd26a9",
   "metadata": {},
   "outputs": [],
   "source": [
    "#identify columns for PC\n",
    "churn_pca = pd.DataFrame(pca.transform(pca_normalized),\n",
    "                  columns=['PC1','PC2','PC3','PC4','PC5','PC6','PC7','PC8',\n",
    "                           'PC9','PC10','PC11','PC12','PC13','PC14','PC15'])"
   ]
  },
  {
   "cell_type": "code",
   "execution_count": 84,
   "id": "fc58e7aa",
   "metadata": {
    "scrolled": true
   },
   "outputs": [
    {
     "data": {
      "text/html": [
       "<div>\n",
       "<style scoped>\n",
       "    .dataframe tbody tr th:only-of-type {\n",
       "        vertical-align: middle;\n",
       "    }\n",
       "\n",
       "    .dataframe tbody tr th {\n",
       "        vertical-align: top;\n",
       "    }\n",
       "\n",
       "    .dataframe thead th {\n",
       "        text-align: right;\n",
       "    }\n",
       "</style>\n",
       "<table border=\"1\" class=\"dataframe\">\n",
       "  <thead>\n",
       "    <tr style=\"text-align: right;\">\n",
       "      <th></th>\n",
       "      <th>PC1</th>\n",
       "      <th>PC2</th>\n",
       "      <th>PC3</th>\n",
       "      <th>PC4</th>\n",
       "      <th>PC5</th>\n",
       "      <th>PC6</th>\n",
       "      <th>PC7</th>\n",
       "      <th>PC8</th>\n",
       "      <th>PC9</th>\n",
       "      <th>PC10</th>\n",
       "      <th>PC11</th>\n",
       "      <th>PC12</th>\n",
       "      <th>PC13</th>\n",
       "      <th>PC14</th>\n",
       "      <th>PC15</th>\n",
       "    </tr>\n",
       "  </thead>\n",
       "  <tbody>\n",
       "    <tr>\n",
       "      <th>Age</th>\n",
       "      <td>0.004739</td>\n",
       "      <td>-0.018278</td>\n",
       "      <td>-0.036747</td>\n",
       "      <td>0.703034</td>\n",
       "      <td>0.008614</td>\n",
       "      <td>-0.197927</td>\n",
       "      <td>0.267169</td>\n",
       "      <td>-0.612690</td>\n",
       "      <td>0.113108</td>\n",
       "      <td>-0.067973</td>\n",
       "      <td>0.011276</td>\n",
       "      <td>-0.000457</td>\n",
       "      <td>-0.012323</td>\n",
       "      <td>0.008322</td>\n",
       "      <td>0.016015</td>\n",
       "    </tr>\n",
       "    <tr>\n",
       "      <th>Income</th>\n",
       "      <td>-0.000638</td>\n",
       "      <td>0.024606</td>\n",
       "      <td>0.007773</td>\n",
       "      <td>0.089689</td>\n",
       "      <td>0.060382</td>\n",
       "      <td>0.898282</td>\n",
       "      <td>0.415114</td>\n",
       "      <td>-0.020412</td>\n",
       "      <td>-0.062952</td>\n",
       "      <td>0.012486</td>\n",
       "      <td>-0.060037</td>\n",
       "      <td>-0.005091</td>\n",
       "      <td>0.000591</td>\n",
       "      <td>0.015061</td>\n",
       "      <td>0.004519</td>\n",
       "    </tr>\n",
       "    <tr>\n",
       "      <th>Outage_sec_perweek</th>\n",
       "      <td>-0.012777</td>\n",
       "      <td>-0.043664</td>\n",
       "      <td>0.706719</td>\n",
       "      <td>-0.038189</td>\n",
       "      <td>0.033446</td>\n",
       "      <td>0.046356</td>\n",
       "      <td>0.003492</td>\n",
       "      <td>0.043230</td>\n",
       "      <td>0.690740</td>\n",
       "      <td>-0.118609</td>\n",
       "      <td>0.007830</td>\n",
       "      <td>-0.012945</td>\n",
       "      <td>-0.017476</td>\n",
       "      <td>0.011270</td>\n",
       "      <td>-0.004502</td>\n",
       "    </tr>\n",
       "    <tr>\n",
       "      <th>Tenure</th>\n",
       "      <td>-0.005103</td>\n",
       "      <td>0.032079</td>\n",
       "      <td>0.028611</td>\n",
       "      <td>0.301388</td>\n",
       "      <td>0.551108</td>\n",
       "      <td>0.262278</td>\n",
       "      <td>-0.725252</td>\n",
       "      <td>-0.062327</td>\n",
       "      <td>-0.038430</td>\n",
       "      <td>0.051425</td>\n",
       "      <td>0.000769</td>\n",
       "      <td>0.015946</td>\n",
       "      <td>-0.015357</td>\n",
       "      <td>-0.008358</td>\n",
       "      <td>0.014990</td>\n",
       "    </tr>\n",
       "    <tr>\n",
       "      <th>Contacts</th>\n",
       "      <td>-0.008690</td>\n",
       "      <td>-0.009796</td>\n",
       "      <td>0.001656</td>\n",
       "      <td>0.626702</td>\n",
       "      <td>-0.376546</td>\n",
       "      <td>0.011988</td>\n",
       "      <td>-0.077482</td>\n",
       "      <td>0.674766</td>\n",
       "      <td>0.013595</td>\n",
       "      <td>0.037870</td>\n",
       "      <td>-0.033358</td>\n",
       "      <td>-0.003009</td>\n",
       "      <td>-0.026162</td>\n",
       "      <td>0.020067</td>\n",
       "      <td>-0.000543</td>\n",
       "    </tr>\n",
       "    <tr>\n",
       "      <th>Yearly_equip_failure</th>\n",
       "      <td>-0.007610</td>\n",
       "      <td>0.009388</td>\n",
       "      <td>0.079318</td>\n",
       "      <td>0.091975</td>\n",
       "      <td>0.727733</td>\n",
       "      <td>-0.275627</td>\n",
       "      <td>0.469605</td>\n",
       "      <td>0.380041</td>\n",
       "      <td>-0.114530</td>\n",
       "      <td>0.026735</td>\n",
       "      <td>0.004622</td>\n",
       "      <td>-0.014653</td>\n",
       "      <td>-0.000501</td>\n",
       "      <td>0.007951</td>\n",
       "      <td>-0.021102</td>\n",
       "    </tr>\n",
       "    <tr>\n",
       "      <th>MonthlyCharge</th>\n",
       "      <td>0.000079</td>\n",
       "      <td>-0.017510</td>\n",
       "      <td>0.697883</td>\n",
       "      <td>0.049599</td>\n",
       "      <td>-0.135378</td>\n",
       "      <td>-0.042571</td>\n",
       "      <td>-0.021798</td>\n",
       "      <td>-0.114534</td>\n",
       "      <td>-0.687775</td>\n",
       "      <td>0.050725</td>\n",
       "      <td>0.009463</td>\n",
       "      <td>-0.013738</td>\n",
       "      <td>-0.000180</td>\n",
       "      <td>0.020465</td>\n",
       "      <td>-0.012465</td>\n",
       "    </tr>\n",
       "    <tr>\n",
       "      <th>Response</th>\n",
       "      <td>0.458881</td>\n",
       "      <td>0.281644</td>\n",
       "      <td>0.030147</td>\n",
       "      <td>-0.004118</td>\n",
       "      <td>-0.001015</td>\n",
       "      <td>-0.019841</td>\n",
       "      <td>0.011776</td>\n",
       "      <td>0.021522</td>\n",
       "      <td>-0.006727</td>\n",
       "      <td>-0.070136</td>\n",
       "      <td>-0.119250</td>\n",
       "      <td>-0.047928</td>\n",
       "      <td>0.023108</td>\n",
       "      <td>-0.240030</td>\n",
       "      <td>0.792813</td>\n",
       "    </tr>\n",
       "    <tr>\n",
       "      <th>Fix</th>\n",
       "      <td>0.434337</td>\n",
       "      <td>0.284520</td>\n",
       "      <td>0.018385</td>\n",
       "      <td>0.021276</td>\n",
       "      <td>-0.009267</td>\n",
       "      <td>-0.004247</td>\n",
       "      <td>-0.005373</td>\n",
       "      <td>0.001384</td>\n",
       "      <td>-0.001237</td>\n",
       "      <td>-0.108574</td>\n",
       "      <td>-0.170928</td>\n",
       "      <td>-0.066597</td>\n",
       "      <td>0.068815</td>\n",
       "      <td>-0.591788</td>\n",
       "      <td>-0.573659</td>\n",
       "    </tr>\n",
       "    <tr>\n",
       "      <th>Replacement</th>\n",
       "      <td>0.400871</td>\n",
       "      <td>0.282961</td>\n",
       "      <td>-0.014484</td>\n",
       "      <td>-0.022491</td>\n",
       "      <td>0.005233</td>\n",
       "      <td>-0.021716</td>\n",
       "      <td>-0.021777</td>\n",
       "      <td>-0.007567</td>\n",
       "      <td>-0.011121</td>\n",
       "      <td>-0.173547</td>\n",
       "      <td>-0.251102</td>\n",
       "      <td>-0.144548</td>\n",
       "      <td>-0.392244</td>\n",
       "      <td>0.676637</td>\n",
       "      <td>-0.177785</td>\n",
       "    </tr>\n",
       "    <tr>\n",
       "      <th>Reliability</th>\n",
       "      <td>0.145590</td>\n",
       "      <td>-0.568505</td>\n",
       "      <td>-0.028565</td>\n",
       "      <td>0.000235</td>\n",
       "      <td>0.028693</td>\n",
       "      <td>-0.004608</td>\n",
       "      <td>-0.037885</td>\n",
       "      <td>0.003532</td>\n",
       "      <td>-0.027323</td>\n",
       "      <td>-0.168650</td>\n",
       "      <td>-0.482808</td>\n",
       "      <td>-0.444304</td>\n",
       "      <td>0.430274</td>\n",
       "      <td>0.085683</td>\n",
       "      <td>0.017936</td>\n",
       "    </tr>\n",
       "    <tr>\n",
       "      <th>Options</th>\n",
       "      <td>-0.175324</td>\n",
       "      <td>0.589842</td>\n",
       "      <td>0.025694</td>\n",
       "      <td>0.019365</td>\n",
       "      <td>-0.021262</td>\n",
       "      <td>-0.017281</td>\n",
       "      <td>-0.001305</td>\n",
       "      <td>-0.010438</td>\n",
       "      <td>0.042446</td>\n",
       "      <td>0.130170</td>\n",
       "      <td>0.059998</td>\n",
       "      <td>-0.210639</td>\n",
       "      <td>0.694886</td>\n",
       "      <td>0.260942</td>\n",
       "      <td>-0.042180</td>\n",
       "    </tr>\n",
       "    <tr>\n",
       "      <th>Respectfulness</th>\n",
       "      <td>0.404988</td>\n",
       "      <td>-0.183881</td>\n",
       "      <td>0.007023</td>\n",
       "      <td>0.009842</td>\n",
       "      <td>0.009554</td>\n",
       "      <td>0.008413</td>\n",
       "      <td>0.002155</td>\n",
       "      <td>0.017870</td>\n",
       "      <td>-0.003982</td>\n",
       "      <td>-0.062356</td>\n",
       "      <td>0.063094</td>\n",
       "      <td>0.757526</td>\n",
       "      <td>0.405976</td>\n",
       "      <td>0.225792</td>\n",
       "      <td>-0.063333</td>\n",
       "    </tr>\n",
       "    <tr>\n",
       "      <th>Courteous</th>\n",
       "      <td>0.358334</td>\n",
       "      <td>-0.179956</td>\n",
       "      <td>-0.029648</td>\n",
       "      <td>0.016559</td>\n",
       "      <td>0.002665</td>\n",
       "      <td>0.058634</td>\n",
       "      <td>-0.006245</td>\n",
       "      <td>0.035580</td>\n",
       "      <td>-0.025791</td>\n",
       "      <td>-0.175934</td>\n",
       "      <td>0.804775</td>\n",
       "      <td>-0.378422</td>\n",
       "      <td>0.068812</td>\n",
       "      <td>0.066260</td>\n",
       "      <td>-0.041220</td>\n",
       "    </tr>\n",
       "    <tr>\n",
       "      <th>Listen</th>\n",
       "      <td>0.308841</td>\n",
       "      <td>-0.134107</td>\n",
       "      <td>0.033505</td>\n",
       "      <td>-0.003158</td>\n",
       "      <td>-0.015616</td>\n",
       "      <td>-0.018359</td>\n",
       "      <td>0.034180</td>\n",
       "      <td>-0.057910</td>\n",
       "      <td>0.122105</td>\n",
       "      <td>0.920182</td>\n",
       "      <td>-0.012116</td>\n",
       "      <td>-0.112643</td>\n",
       "      <td>-0.044080</td>\n",
       "      <td>0.046398</td>\n",
       "      <td>-0.042682</td>\n",
       "    </tr>\n",
       "  </tbody>\n",
       "</table>\n",
       "</div>"
      ],
      "text/plain": [
       "                           PC1       PC2       PC3       PC4       PC5  \\\n",
       "Age                   0.004739 -0.018278 -0.036747  0.703034  0.008614   \n",
       "Income               -0.000638  0.024606  0.007773  0.089689  0.060382   \n",
       "Outage_sec_perweek   -0.012777 -0.043664  0.706719 -0.038189  0.033446   \n",
       "Tenure               -0.005103  0.032079  0.028611  0.301388  0.551108   \n",
       "Contacts             -0.008690 -0.009796  0.001656  0.626702 -0.376546   \n",
       "Yearly_equip_failure -0.007610  0.009388  0.079318  0.091975  0.727733   \n",
       "MonthlyCharge         0.000079 -0.017510  0.697883  0.049599 -0.135378   \n",
       "Response              0.458881  0.281644  0.030147 -0.004118 -0.001015   \n",
       "Fix                   0.434337  0.284520  0.018385  0.021276 -0.009267   \n",
       "Replacement           0.400871  0.282961 -0.014484 -0.022491  0.005233   \n",
       "Reliability           0.145590 -0.568505 -0.028565  0.000235  0.028693   \n",
       "Options              -0.175324  0.589842  0.025694  0.019365 -0.021262   \n",
       "Respectfulness        0.404988 -0.183881  0.007023  0.009842  0.009554   \n",
       "Courteous             0.358334 -0.179956 -0.029648  0.016559  0.002665   \n",
       "Listen                0.308841 -0.134107  0.033505 -0.003158 -0.015616   \n",
       "\n",
       "                           PC6       PC7       PC8       PC9      PC10  \\\n",
       "Age                  -0.197927  0.267169 -0.612690  0.113108 -0.067973   \n",
       "Income                0.898282  0.415114 -0.020412 -0.062952  0.012486   \n",
       "Outage_sec_perweek    0.046356  0.003492  0.043230  0.690740 -0.118609   \n",
       "Tenure                0.262278 -0.725252 -0.062327 -0.038430  0.051425   \n",
       "Contacts              0.011988 -0.077482  0.674766  0.013595  0.037870   \n",
       "Yearly_equip_failure -0.275627  0.469605  0.380041 -0.114530  0.026735   \n",
       "MonthlyCharge        -0.042571 -0.021798 -0.114534 -0.687775  0.050725   \n",
       "Response             -0.019841  0.011776  0.021522 -0.006727 -0.070136   \n",
       "Fix                  -0.004247 -0.005373  0.001384 -0.001237 -0.108574   \n",
       "Replacement          -0.021716 -0.021777 -0.007567 -0.011121 -0.173547   \n",
       "Reliability          -0.004608 -0.037885  0.003532 -0.027323 -0.168650   \n",
       "Options              -0.017281 -0.001305 -0.010438  0.042446  0.130170   \n",
       "Respectfulness        0.008413  0.002155  0.017870 -0.003982 -0.062356   \n",
       "Courteous             0.058634 -0.006245  0.035580 -0.025791 -0.175934   \n",
       "Listen               -0.018359  0.034180 -0.057910  0.122105  0.920182   \n",
       "\n",
       "                          PC11      PC12      PC13      PC14      PC15  \n",
       "Age                   0.011276 -0.000457 -0.012323  0.008322  0.016015  \n",
       "Income               -0.060037 -0.005091  0.000591  0.015061  0.004519  \n",
       "Outage_sec_perweek    0.007830 -0.012945 -0.017476  0.011270 -0.004502  \n",
       "Tenure                0.000769  0.015946 -0.015357 -0.008358  0.014990  \n",
       "Contacts             -0.033358 -0.003009 -0.026162  0.020067 -0.000543  \n",
       "Yearly_equip_failure  0.004622 -0.014653 -0.000501  0.007951 -0.021102  \n",
       "MonthlyCharge         0.009463 -0.013738 -0.000180  0.020465 -0.012465  \n",
       "Response             -0.119250 -0.047928  0.023108 -0.240030  0.792813  \n",
       "Fix                  -0.170928 -0.066597  0.068815 -0.591788 -0.573659  \n",
       "Replacement          -0.251102 -0.144548 -0.392244  0.676637 -0.177785  \n",
       "Reliability          -0.482808 -0.444304  0.430274  0.085683  0.017936  \n",
       "Options               0.059998 -0.210639  0.694886  0.260942 -0.042180  \n",
       "Respectfulness        0.063094  0.757526  0.405976  0.225792 -0.063333  \n",
       "Courteous             0.804775 -0.378422  0.068812  0.066260 -0.041220  \n",
       "Listen               -0.012116 -0.112643 -0.044080  0.046398 -0.042682  "
      ]
     },
     "execution_count": 84,
     "metadata": {},
     "output_type": "execute_result"
    }
   ],
   "source": [
    "#Create PCA Loadings \n",
    "loadings = pd.DataFrame(pca.components_.T,\n",
    "columns=['PC1','PC2','PC3','PC4','PC5','PC6','PC7','PC8','PC9','PC10','PC11',\n",
    "          'PC12','PC13','PC14','PC15'],\n",
    "index=pca_normalized.columns)\n",
    "loadings"
   ]
  },
  {
   "cell_type": "code",
   "execution_count": 85,
   "id": "99522c4d",
   "metadata": {},
   "outputs": [],
   "source": [
    "#Matrix and Eigenvalues\n",
    "cov_matrix = np.dot(pca_normalized.T, pca_normalized)/pca_normalized.shape[0]\n",
    "eigenvalues = [np.dot(eigenvector.T, np.dot(cov_matrix, eigenvector)) for eigenvector in pca.components_]"
   ]
  },
  {
   "cell_type": "code",
   "execution_count": 86,
   "id": "a71464b1",
   "metadata": {
    "scrolled": false
   },
   "outputs": [
    {
     "data": {
      "image/png": "[encoded data removed]",
      "text/plain": [
       "<Figure size 432x288 with 1 Axes>"
      ]
     },
     "metadata": {
      "needs_background": "light"
     },
     "output_type": "display_data"
    }
   ],
   "source": [
    "#Scree Plot\n",
    "plt.plot(eigenvalues,'ro-', linewidth=2)\n",
    "plt.xlabel('Principal Components')\n",
    "plt.ylabel('Eigenvalues')\n",
    "plt.show()"
   ]
  },
  {
   "cell_type": "markdown",
   "id": "eacf2ae8",
   "metadata": {},
   "source": [
    "#### E2: Identification of Principal Components\n",
    "\n",
    "The Principal Components PC1, PC2, PC3, PC4, PC5, and PC6 will be retained after evaluating the loading report, scree plot and eigenvalues. The Principal Components were chosen based on the kaiser rule which states principal components with an eigen value greater than or equal to one should be retained for analysis (Larose & Larose p175). Please the table below for the eigenvalues of each component.\n"
   ]
  },
  {
   "cell_type": "code",
   "execution_count": 87,
   "id": "c9d2a1bc",
   "metadata": {},
   "outputs": [
    {
     "name": "stdout",
     "output_type": "stream",
     "text": [
      "2.9472775465825762\n",
      "1.6402210901520693\n",
      "1.1289090066751082\n",
      "1.020276527370908\n",
      "1.0104920282436904\n",
      "1.0033883371267447\n",
      "0.990635630471653\n",
      "0.9813515051385405\n",
      "0.8687522627945555\n",
      "0.7791383301815502\n",
      "0.6910282858653154\n",
      "0.5926561907841545\n",
      "0.5378630765739476\n",
      "0.4818959058952904\n",
      "0.32461382600897276\n"
     ]
    }
   ],
   "source": [
    "# printing eigenvalues\n",
    "for eigenvalue in eigenvalues:\n",
    "    print(eigenvalue)"
   ]
  },
  {
   "cell_type": "markdown",
   "id": "d304bc69",
   "metadata": {},
   "source": [
    "#### E3: Organizational Benefits of PCA\n",
    "\n",
    "Principal Component Analysis reduces the number of variables used in data analysis by combining correlated variables together into a single new variable. This reduces redundancy and speeds up analysis without having exclude valuable information (Larose & Larose p176). \n",
    "\n",
    "Viewing the variables that have been combined can give TELEMONOP insights into what customers desire. For example, PC1 shows there is a correlation between the Response, Fix, Replacement, Reliability, and Courteous variables. This could motivate TELEMONOP to invest more time and resources into customer service and repairing faulty equipment faster."
   ]
  },
  {
   "cell_type": "markdown",
   "id": "cd0b395b",
   "metadata": {},
   "source": [
    "### G. Code References:\n",
    "\n",
    "Z-Score and How It’s Used to Determine an Outlier | by Iden W. | Clarusway | Medium\n",
    "https://medium.com/clarusway/z-score-and-how-its-used-to-determine-an-outlier-642110f3b482#:~:text=Calculating%20The%20Z-Score%20As%20we%20have%20our%20data,divide%20by%20the%20standard%20deviation%20of%20that%20column.\n",
    "\n",
    "\n",
    "https://stackoverflow.com/questions/65961241/replace-outlier-with-mean-value\n"
   ]
  },
  {
   "cell_type": "markdown",
   "id": "69acb3cc",
   "metadata": {},
   "source": [
    "### H. Academic Resources\n",
    "\n",
    "Chantal D. Larose, & Daniel T. Larose. (2019). Data Science Using Python and R. Wiley\n",
    "Stack overflow developer survey 2020. Stack Overflow. (n.d.). Retrieved January 29, 2022, from https://insights.stackoverflow.com/survey/2020#most-popular-technologies \n"
   ]
  }
 ],
 "metadata": {
  "kernelspec": {
   "display_name": "Python 3",
   "language": "python",
   "name": "python3"
  },
  "language_info": {
   "codemirror_mode": {
    "name": "ipython",
    "version": 3
   },
   "file_extension": ".py",
   "mimetype": "text/x-python",
   "name": "python",
   "nbconvert_exporter": "python",
   "pygments_lexer": "ipython3",
   "version": "3.8.8"
  }
 },
 "nbformat": 4,
 "nbformat_minor": 5
}
